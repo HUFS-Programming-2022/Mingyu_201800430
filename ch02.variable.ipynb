{
 "cells": [
  {
   "cell_type": "markdown",
   "id": "57be578d-d511-469a-8b8a-fd4f9c829563",
   "metadata": {},
   "source": [
    "## Ch2. Variables"
   ]
  },
  {
   "cell_type": "markdown",
   "id": "5da0fa41-5e0a-45af-a117-c71037180fa3",
   "metadata": {},
   "source": [
    "### 자료형 변환하기"
   ]
  },
  {
   "cell_type": "markdown",
   "id": "0fb68a9c-ae7f-47dc-bbff-44eaba1fc522",
   "metadata": {},
   "source": [
    "- int, str, float, bool"
   ]
  },
  {
   "cell_type": "code",
   "execution_count": 3,
   "id": "286d87bb-4ec4-42ed-9fd6-fcbadc17a921",
   "metadata": {},
   "outputs": [
    {
     "data": {
      "text/plain": [
       "int"
      ]
     },
     "execution_count": 3,
     "metadata": {},
     "output_type": "execute_result"
    }
   ],
   "source": [
    "a = 10\n",
    "type(a)"
   ]
  },
  {
   "cell_type": "code",
   "execution_count": 5,
   "id": "84e6245a-e5b4-47d6-9361-e2e8d80c6ec8",
   "metadata": {},
   "outputs": [
    {
     "data": {
      "text/plain": [
       "10.0"
      ]
     },
     "execution_count": 5,
     "metadata": {},
     "output_type": "execute_result"
    }
   ],
   "source": [
    "# int -> float\n",
    "float(a)"
   ]
  },
  {
   "cell_type": "code",
   "execution_count": 6,
   "id": "f80f542b-fcb3-4217-aaf8-8deb7c7f57d5",
   "metadata": {},
   "outputs": [
    {
     "data": {
      "text/plain": [
       "'10'"
      ]
     },
     "execution_count": 6,
     "metadata": {},
     "output_type": "execute_result"
    }
   ],
   "source": [
    "# int -> str\n",
    "str(a)"
   ]
  },
  {
   "cell_type": "code",
   "execution_count": 9,
   "id": "cd06646e-4e8b-4c44-8885-edc01ecd1ea6",
   "metadata": {},
   "outputs": [
    {
     "data": {
      "text/plain": [
       "True"
      ]
     },
     "execution_count": 9,
     "metadata": {},
     "output_type": "execute_result"
    }
   ],
   "source": [
    "# int -> bool\n",
    "bool(10)"
   ]
  },
  {
   "cell_type": "code",
   "execution_count": 10,
   "id": "fae7de24-3074-4aaa-a057-e0f304d71805",
   "metadata": {},
   "outputs": [
    {
     "data": {
      "text/plain": [
       "10"
      ]
     },
     "execution_count": 10,
     "metadata": {},
     "output_type": "execute_result"
    }
   ],
   "source": [
    "# float -> int: 10.6 -> 실수를 정수로 변환 시 소수점 이하는 무조건 버려진다\n",
    "int(10.9)"
   ]
  },
  {
   "cell_type": "code",
   "execution_count": 12,
   "id": "22defe7b-57a3-4936-ad32-52449d3cbfa9",
   "metadata": {},
   "outputs": [
    {
     "name": "stdout",
     "output_type": "stream",
     "text": [
      "12\n",
      "11\n"
     ]
    }
   ],
   "source": [
    "x = 4.6\n",
    "y = 7.9\n",
    "\n",
    "print(int(x + y))# 12.xx\n",
    "print(int(x) + int(y))# 4+7"
   ]
  },
  {
   "cell_type": "code",
   "execution_count": 17,
   "id": "b25b1f2e-a0c9-4127-9133-284559c86e70",
   "metadata": {},
   "outputs": [
    {
     "data": {
      "text/plain": [
       "88.3"
      ]
     },
     "execution_count": 17,
     "metadata": {},
     "output_type": "execute_result"
    }
   ],
   "source": [
    "# str -> int\n",
    "p = '88.3'\n",
    "# int(p)는 안됨 : 88.3이 float타입이기 때문에 int로 바로 바꿔줄 수 없음\n",
    "float(p)"
   ]
  },
  {
   "cell_type": "markdown",
   "id": "6ab3b271-d604-4449-849f-1b5407f4685d",
   "metadata": {},
   "source": [
    "#### 꿀팁"
   ]
  },
  {
   "cell_type": "markdown",
   "id": "b162fc73-9886-4fa8-b67e-d50482b90df7",
   "metadata": {},
   "source": [
    "`print()`"
   ]
  },
  {
   "cell_type": "code",
   "execution_count": 20,
   "id": "40621ca2-f8dd-4f8f-98e3-612f21f3aa53",
   "metadata": {},
   "outputs": [
    {
     "name": "stdout",
     "output_type": "stream",
     "text": [
      "orange apple tomato\n",
      "the next line\n"
     ]
    }
   ],
   "source": [
    "print('orange', 'apple', 'tomato') # default: 띄어쓰기\n",
    "print('the next line')# default: 줄바꾸기"
   ]
  },
  {
   "cell_type": "code",
   "execution_count": 22,
   "id": "bfb380c7-cc90-4196-aaee-add78ed258c6",
   "metadata": {},
   "outputs": [
    {
     "name": "stdout",
     "output_type": "stream",
     "text": [
      "orangeappletomato\n",
      "orange apple tomato\n",
      "orange_apple_tomato\n",
      "\n",
      "EOL\n"
     ]
    }
   ],
   "source": [
    "orange = 'orange'\n",
    "apple = 'apple'\n",
    "tomato = 'tomato'\n",
    "\n",
    "#1.\n",
    "print(orange + apple + tomato) # + 연결은 원소들 간 공백 사라지게 함\n",
    "print(orange, apple, tomato, sep=' ', end='\\n') # = default\n",
    "print(orange, apple, tomato, sep='_', end='\\n\\n') # = default\n",
    "print('EOL')"
   ]
  },
  {
   "cell_type": "code",
   "execution_count": 23,
   "id": "86f8d2e8-6433-497f-b149-0cf86f5564ce",
   "metadata": {},
   "outputs": [],
   "source": [
    "# 라인이 짧을 때 => '(세미콜론)\n",
    "orange = 'orange'; apple = 'apple'; tomato = 'tomato'"
   ]
  },
  {
   "cell_type": "code",
   "execution_count": 25,
   "id": "754d384c-6b03-43e9-9cc8-85e2b4ad56b8",
   "metadata": {},
   "outputs": [
    {
     "name": "stdout",
     "output_type": "stream",
     "text": [
      "5\n"
     ]
    }
   ],
   "source": [
    "# 그러나 자주 쓰지는 않음\n",
    "num = 5; print(num)"
   ]
  },
  {
   "cell_type": "code",
   "execution_count": null,
   "id": "6489e46c-778d-4156-83ac-ca35ad167a97",
   "metadata": {},
   "outputs": [],
   "source": []
  }
 ],
 "metadata": {
  "kernelspec": {
   "display_name": "Python 3 (ipykernel)",
   "language": "python",
   "name": "python3"
  },
  "language_info": {
   "codemirror_mode": {
    "name": "ipython",
    "version": 3
   },
   "file_extension": ".py",
   "mimetype": "text/x-python",
   "name": "python",
   "nbconvert_exporter": "python",
   "pygments_lexer": "ipython3",
   "version": "3.9.7"
  }
 },
 "nbformat": 4,
 "nbformat_minor": 5
}
