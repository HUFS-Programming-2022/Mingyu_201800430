{
 "cells": [
  {
   "cell_type": "code",
   "execution_count": null,
   "id": "c5206230",
   "metadata": {},
   "outputs": [],
   "source": [
    "# run: shift + enter"
   ]
  },
  {
   "cell_type": "markdown",
   "id": "5197f3c2",
   "metadata": {},
   "source": [
    "## 프로그래밍이란?\n",
    "    - programming: 프로그래밍 언어를 사용하여 프로그램을 개발하는 것.\n",
    "    - program: 일련의 작업을 자동화하는 것.\n",
    "    - python: 프로그래밍 언어 중 하나. 인간이 컴퓨터에게 작업을 명령하기 위해 사용하는 컴퓨터가 이해할 수 있는 언어."
   ]
  },
  {
   "cell_type": "markdown",
   "id": "a643aedc",
   "metadata": {},
   "source": [
    "## Ch.2 Data: Types, Values, Variables, and Names"
   ]
  },
  {
   "cell_type": "code",
   "execution_count": 3,
   "id": "6653b197",
   "metadata": {},
   "outputs": [],
   "source": [
    "a = 2"
   ]
  },
  {
   "cell_type": "markdown",
   "id": "495a176b",
   "metadata": {},
   "source": [
    "- markdown = m+\n",
    "- 변수 = variable, 특정 값을 저장하는 공간(memory)\n",
    "- 값 = value, 2\n",
    "- 자료형 = type, 2가 어떤 타입인가? 데이터의 형태. (i.e., integer, int 타입)\n",
    "- 할당하다 = assign, 2를 a에 넣는 과정"
   ]
  },
  {
   "cell_type": "code",
   "execution_count": 4,
   "id": "7067227e",
   "metadata": {},
   "outputs": [
    {
     "data": {
      "text/plain": [
       "2"
      ]
     },
     "execution_count": 4,
     "metadata": {},
     "output_type": "execute_result"
    }
   ],
   "source": [
    "a"
   ]
  },
  {
   "cell_type": "code",
   "execution_count": 5,
   "id": "04eaeda8",
   "metadata": {},
   "outputs": [
    {
     "data": {
      "text/plain": [
       "True"
      ]
     },
     "execution_count": 5,
     "metadata": {},
     "output_type": "execute_result"
    }
   ],
   "source": [
    "a == 2"
   ]
  },
  {
   "cell_type": "markdown",
   "id": "3952366a",
   "metadata": {},
   "source": [
    "### 변수의 타입\n",
    "    - boolean : True, False (bool)\n",
    "    - integer : 1, 2, 3, 4, ... (int)\n",
    "    - floating point number : 1.0, 2.0, 0.45, ... (float)\n",
    "    - string : \"apple\", 'apple' (str)"
   ]
  },
  {
   "cell_type": "markdown",
   "id": "7f2f9b47",
   "metadata": {},
   "source": [
    "### 변수명 짓기"
   ]
  },
  {
   "cell_type": "code",
   "execution_count": 6,
   "id": "ee6b8e46",
   "metadata": {},
   "outputs": [
    {
     "name": "stdout",
     "output_type": "stream",
     "text": [
      "\n",
      "Here is a list of the Python keywords.  Enter any keyword to get more help.\n",
      "\n",
      "False               break               for                 not\n",
      "None                class               from                or\n",
      "True                continue            global              pass\n",
      "__peg_parser__      def                 if                  raise\n",
      "and                 del                 import              return\n",
      "as                  elif                in                  try\n",
      "assert              else                is                  while\n",
      "async               except              lambda              with\n",
      "await               finally             nonlocal            yield\n",
      "\n"
     ]
    }
   ],
   "source": [
    "help (\"keywords\")"
   ]
  },
  {
   "cell_type": "markdown",
   "id": "6f798c36",
   "metadata": {},
   "source": [
    "- 변수명으로 사용할 수 없는 케이스\n",
    "    - 숫자로 시작할 수 없다.\n",
    "    - 예약어는 사용할 수 없다.\n",
    "- 주의할 점 (특별한 용도가 있어서 일방적으로 사용하지 않는 변수명 타입)\n",
    "    1. 언더바로 시작하는 변수명 예: _name (클래스 내부용 변수)\n",
    "    2. 언더바가 2개 있는 변수명 예:__name (특별한 용도 있음)\n",
    "    3. 대문자로 시작하는 변수명 예: Car (클래스를 지칭할 때 씀)\n",
    "    4. 전체가 대문자인 변수명 예: CAR"
   ]
  },
  {
   "cell_type": "markdown",
   "id": "21977e1f",
   "metadata": {},
   "source": [
    "### 할당하기\n",
    "- 수학에서는 =가 양변이 같음을 의미하는데, 프로그램에서는 할당을 의미한다. 예: name = 'lee'\n",
    "- lee라는 값을 name에 넣는 것. (항상 순서는 오른쪽에서 왼쪽)\n",
    "- 오른쪽에 있는 모든 것은 값을 가져야 한다. (\"초기화\")\n",
    "- 변수 타입은 따로 지정하지 않는다."
   ]
  },
  {
   "cell_type": "code",
   "execution_count": null,
   "id": "64eca965",
   "metadata": {},
   "outputs": [],
   "source": []
  }
 ],
 "metadata": {
  "kernelspec": {
   "display_name": "Python 3 (ipykernel)",
   "language": "python",
   "name": "python3"
  },
  "language_info": {
   "codemirror_mode": {
    "name": "ipython",
    "version": 3
   },
   "file_extension": ".py",
   "mimetype": "text/x-python",
   "name": "python",
   "nbconvert_exporter": "python",
   "pygments_lexer": "ipython3",
   "version": "3.9.7"
  }
 },
 "nbformat": 4,
 "nbformat_minor": 5
}
