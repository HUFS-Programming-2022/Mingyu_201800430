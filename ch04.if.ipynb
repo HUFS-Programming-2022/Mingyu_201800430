{
 "cells": [
  {
   "cell_type": "markdown",
   "id": "62358671-fa57-48f4-bc20-56f2d2bc463a",
   "metadata": {},
   "source": [
    "## If 조건문"
   ]
  },
  {
   "cell_type": "markdown",
   "id": "d26e2f4a-2040-48d6-9bd0-2a4d7ccbc265",
   "metadata": {},
   "source": [
    "#### 코드 짜는 팁\n",
    "- 주석 달기\n",
    "    - '#' 기호\n",
    "    - '#' 시작지점부터 라인 끝까지가 주석 처리됨\n",
    "    - ''' ''' quotation mark 사이는 모조리 다 주석\n",
    "    - 문자열 안에 있는 '#'는 부호로 인식함\n",
    "    - 이유? 코드에 대한 설명은 최대한 하지 않아야 함. 의도를 나타내기 위해, 오류가 있다거나 전달해야 할 사항이 있을 때.\n",
    "\n",
    "- 라인 유지하기\n",
    "    - 들여쓰기(defalut: space x 4, 혹은 탭을 사용하기)\n",
    "    - 논리 구조를 나타내기 때문에 굉장히 중요하다\n",
    "    - 한 줄에 들어갈 수 있는 글자는 80자 정도(암묵적 합의, 80자 넘어가면 백슬래시'\\n'로 라인을 끊어준다)"
   ]
  },
  {
   "cell_type": "code",
   "execution_count": 1,
   "id": "ac86a695-1335-4c76-84d4-6df373b17916",
   "metadata": {},
   "outputs": [
    {
     "name": "stdout",
     "output_type": "stream",
     "text": [
      "3\n"
     ]
    }
   ],
   "source": [
    "a = 3 # 주석입니다\n",
    "\"\"\"\n",
    "주석1\n",
    "\"\"\"\n",
    "print(a)"
   ]
  },
  {
   "cell_type": "code",
   "execution_count": 2,
   "id": "7a8eeb8f-be96-4aeb-adcd-ceda434fd788",
   "metadata": {},
   "outputs": [
    {
     "name": "stdout",
     "output_type": "stream",
     "text": [
      "hey, there #\n"
     ]
    }
   ],
   "source": [
    "print('hey, there #')"
   ]
  },
  {
   "cell_type": "code",
   "execution_count": null,
   "id": "ae72776e-cd01-424c-bc37-f1d7f1df0da3",
   "metadata": {},
   "outputs": [],
   "source": [
    "if a == 3:\n",
    "    xxx"
   ]
  },
  {
   "cell_type": "markdown",
   "id": "3846e7bb-d567-4573-a20b-ebeef04120e2",
   "metadata": {},
   "source": [
    "### if\n",
    "if <조건식>:\n",
    "    <실행할 코드>"
   ]
  },
  {
   "cell_type": "code",
   "execution_count": 3,
   "id": "f553d265-13d2-4ea4-8b91-501113a2cea2",
   "metadata": {},
   "outputs": [
    {
     "name": "stdout",
     "output_type": "stream",
     "text": [
      "두 수는 같지 않다\n"
     ]
    }
   ],
   "source": [
    "if 3 != 1:\n",
    "    print(\"두 수는 같지 않다\")"
   ]
  },
  {
   "cell_type": "code",
   "execution_count": 4,
   "id": "c4f24073-9835-4ff0-8c5c-2b0f841203fc",
   "metadata": {},
   "outputs": [
    {
     "name": "stdout",
     "output_type": "stream",
     "text": [
      "두 수는 같지 않다\n"
     ]
    }
   ],
   "source": [
    "if 3 != 1:\n",
    "    print(\"두 수는 같지 않다\")\n",
    "else:\n",
    "    print(\"두 수가 같다\")"
   ]
  },
  {
   "cell_type": "code",
   "execution_count": 6,
   "id": "84a6ae39-4f54-416e-849e-9765b8f1e746",
   "metadata": {},
   "outputs": [
    {
     "name": "stdout",
     "output_type": "stream",
     "text": [
      "3보다 크다\n"
     ]
    }
   ],
   "source": [
    "a = 4\n",
    "\n",
    "if a < 3:\n",
    "    print(\"3보다 작다\")\n",
    "elif a == 3:\n",
    "    print(\"3이다\")\n",
    "else:\n",
    "    print(\"3보다 크다\")"
   ]
  },
  {
   "cell_type": "code",
   "execution_count": 8,
   "id": "99046ef4-34bd-4c6c-8789-f0d2b506ebbf",
   "metadata": {},
   "outputs": [],
   "source": [
    "if a < 3:\n",
    "    print(\"3보다 작다\")\n",
    "\n",
    "if a == 3:\n",
    "    print(\"3이다\")\n",
    "\n",
    "if a > 4:\n",
    "    print(\"3보다 크다\")"
   ]
  },
  {
   "cell_type": "markdown",
   "id": "4fdadf43-cf0d-466c-9421-f8354310886a",
   "metadata": {},
   "source": [
    "### 비교연산자\n",
    "- x < y\n",
    "- x = y\n",
    "- x >= y\n",
    "- x <= y\n",
    "- x == y\n",
    "- x != y\n",
    "- x is y (값, 메모리주소)\n",
    "- x is not y"
   ]
  },
  {
   "cell_type": "markdown",
   "id": "2ba9583f-28d2-4e73-9de8-4b4e1dced64e",
   "metadata": {},
   "source": [
    "### 퀴즈\n",
    "- 1. 시험 점수를 입력 받고, 80점 이상이면 True, 아니면 False 반환하기\n",
    "- 2. 시험 점수를 입력 받고, 95이상 A+, 90이상 A, 85이상 B+, 나머지 F로 출력하세요."
   ]
  },
  {
   "cell_type": "code",
   "execution_count": 15,
   "id": "35b18e8a-3622-4f3b-87eb-20118e7675aa",
   "metadata": {},
   "outputs": [
    {
     "name": "stdin",
     "output_type": "stream",
     "text": [
      "시험 점수를 입력하세요 96\n"
     ]
    },
    {
     "name": "stdout",
     "output_type": "stream",
     "text": [
      "True\n",
      "A+\n"
     ]
    }
   ],
   "source": [
    "### Quiz\n",
    "\n",
    "test_score = int(input('시험 점수를 입력하세요'))\n",
    "\n",
    "if test_score >= 80:\n",
    "    print(\"True\")\n",
    "else:\n",
    "    print(\"False\")\n",
    "\n",
    "if test_score >= 95:\n",
    "    print(\"A+\")\n",
    "elif test_score >= 90:\n",
    "    print(\"A\")\n",
    "elif test_score >= 85:\n",
    "    print(\"B+\")\n",
    "else:\n",
    "    print(\"F\")"
   ]
  },
  {
   "cell_type": "code",
   "execution_count": null,
   "id": "028af2b7-b698-4359-bbc0-e3ae3d3902e3",
   "metadata": {},
   "outputs": [],
   "source": []
  }
 ],
 "metadata": {
  "kernelspec": {
   "display_name": "Python 3 (ipykernel)",
   "language": "python",
   "name": "python3"
  },
  "language_info": {
   "codemirror_mode": {
    "name": "ipython",
    "version": 3
   },
   "file_extension": ".py",
   "mimetype": "text/x-python",
   "name": "python",
   "nbconvert_exporter": "python",
   "pygments_lexer": "ipython3",
   "version": "3.9.7"
  }
 },
 "nbformat": 4,
 "nbformat_minor": 5
}
