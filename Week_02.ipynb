{
 "cells": [
  {
   "cell_type": "markdown",
   "source": [
    "# 2주차 | 3.11.2022(금)"
   ],
   "metadata": {}
  },
  {
   "cell_type": "markdown",
   "source": [
    "### 공지사항\n",
    "- 복습 파일은 개인적으로 내용 보충해서 파일 하나에 합쳐 올리기(형식: week_00.ipynb)\n",
    "- 다음 주부터 6명 씩 팀 구성함\n",
    "- 수업 관련 질문은 e-class에\n",
    "- 개인 질문은 조교님 이메일로, cc에 교수님 추가하기"
   ],
   "metadata": {}
  },
  {
   "cell_type": "markdown",
   "source": [
    "## Ch2. Variables"
   ],
   "metadata": {}
  },
  {
   "cell_type": "markdown",
   "source": [
    "### 자료형 변환하기"
   ],
   "metadata": {}
  },
  {
   "cell_type": "markdown",
   "source": [
    "- int, str, float, bool"
   ],
   "metadata": {}
  },
  {
   "cell_type": "code",
   "execution_count": 11,
   "source": [
    "a = 10\n",
    "print(f'a = 10의 기본 타입 = {type(a)}')\n",
    "\n",
    "# int -> float\n",
    "print(f'int a를 float로 형변환하면 {float(a)}, {type(float(a))}')\n",
    "\n",
    "# int -> str\n",
    "print(f'int a를 str로 형변환하면 {str(a)}, {type(str(a))}')\n",
    "\n",
    "# int -> bool\n",
    "print(f'int a를 bool로 형변환하면 {bool(10)}, {type(bool(a))}')\n",
    "\n",
    "# float -> int: 10.6 -> 실수를 정수로 변환 시 소수점 이하는 무조건 버려진다\n",
    "print(f'float형 10.9를 int형으로 변환할 경우 소수점 이하는 반드시 버려진다. int(10.9) = {int(10.9)}')\n",
    "\n",
    "# str -> int\n",
    "p = '88.3'\n",
    "# int(p)는 안됨 : 88.3이 float타입이기 때문에 int로 바로 바꿔줄 수 없음\n",
    "print(f'{p}는 {type(float(p))}인 소수 {float(p)}로 변환됨')\n",
    "print(f'소수점 이하를 올림해주는 round()함수를 사용했을 경우 {round(float(p))}의 타입은 {type(round(float(p)))}')"
   ],
   "outputs": [
    {
     "output_type": "stream",
     "name": "stdout",
     "text": [
      "a = 10의 기본 타입 = <class 'int'>\n",
      "int a를 float로 형변환하면 10.0, <class 'float'>\n",
      "int a를 str로 형변환하면 10, <class 'str'>\n",
      "int a를 bool로 형변환하면 True, <class 'bool'>\n",
      "float형 10.9를 int형으로 변환할 경우 소수점 이하는 반드시 버려진다. int(10.9) = 10\n",
      "88.3는 <class 'float'>인 소수 88.3로 변환됨\n",
      "소수점 이하를 올림해주는 round()함수를 사용했을 경우 88의 타입은 <class 'int'>\n"
     ]
    }
   ],
   "metadata": {}
  },
  {
   "cell_type": "code",
   "execution_count": 12,
   "source": [
    "print('orange', 'apple', 'tomato') # default: 콤마(,)는 띄어쓰기 역할\n",
    "print('print()문 한 줄마다 다음 줄로 넘어가는 것이 default임')# default: 줄바꾸기"
   ],
   "outputs": [
    {
     "output_type": "stream",
     "name": "stdout",
     "text": [
      "orange apple tomato\n",
      "print()문 한 줄마다 다음 줄로 넘어가는 것이 default임\n"
     ]
    }
   ],
   "metadata": {}
  },
  {
   "cell_type": "code",
   "execution_count": 13,
   "source": [
    "orange = 'orange'\n",
    "apple = 'apple'\n",
    "tomato = 'tomato'\n",
    "\n",
    "#1.\n",
    "print(orange + apple + tomato) # '+' 연결은 원소들 간 공백을 없앤 결과물 리턴\n",
    "print(orange, apple, tomato, sep=' ', end='\\n') # 원래 'sep' 인자와 'end' 인자가 디폴트 값으로 숨겨져 있음\n",
    "print(orange, apple, tomato, sep='_', end='\\n\\n') # sep인자엔 띄워쓰기 단위를 결정함, end인자는 그 다음 print문과의 띄워쓰기 단위를 결정함\n",
    "print('EOL')"
   ],
   "outputs": [
    {
     "output_type": "stream",
     "name": "stdout",
     "text": [
      "orangeappletomato\n",
      "orange apple tomato\n",
      "orange_apple_tomato\n",
      "\n",
      "EOL\n"
     ]
    }
   ],
   "metadata": {}
  },
  {
   "cell_type": "code",
   "execution_count": 14,
   "source": [
    "# 라인이 짧을 때 => '(세미콜론)\n",
    "orange = 'orange'; apple = 'apple'; tomato = 'tomato'\n",
    "# 그러나 자주 쓰지는 않음\n",
    "num = 5; print(num)"
   ],
   "outputs": [
    {
     "output_type": "stream",
     "name": "stdout",
     "text": [
      "5\n"
     ]
    }
   ],
   "metadata": {}
  },
  {
   "cell_type": "markdown",
   "source": [
    "## Ch2. input()\n",
    "- console에서 사용자에게 값을 입력 받는 함수\n",
    "- 입출력 관련된 함수임\n",
    "- 입력 받는 값의 타입은 문자열임(str)\n",
    "- 입력 받은 값을 변수에 담아서 사용한다."
   ],
   "metadata": {}
  },
  {
   "cell_type": "code",
   "execution_count": 15,
   "source": [
    "#1.\n",
    "name = input(\"What's your name?\")\n",
    "print(name)"
   ],
   "outputs": [
    {
     "output_type": "stream",
     "name": "stdout",
     "text": [
      "kwak\n"
     ]
    }
   ],
   "metadata": {}
  },
  {
   "cell_type": "markdown",
   "source": [
    "input을 str이 아닌 다른 타입으로 사용하고 싶을 때에는 형 변환을 미리 해준다."
   ],
   "metadata": {}
  },
  {
   "cell_type": "code",
   "execution_count": 20,
   "source": [
    "age = int(input(\"How old are you?\"))\n",
    "print(f'당신이 태어난 해는 {2022 - age + 1}년 입니다.') #연산 가능해짐\n",
    "\n",
    "# 포맷팅 방식에는 f\"{}\"를 비롯하여 여러가지 방법이 있음\n",
    "# 숫자 바로 대입\n",
    "print(\"I eat %d apples.\" % 3)\n",
    "# 문자열 바로 대입\n",
    "print(\"I eat %s apples.\" % \"five\")\n",
    "# 2개 이상의 변수 값 넣기\n",
    "number = 10; day = \"three\"\n",
    "print(\"I ate %d apples. so I was sick for %s days.\" % (number, day))\n",
    "# format 함수를 사용한 포매팅\n",
    "print(\"I eat {0} apples\".format(3))\n",
    "print(\"I eat {0} apples\".format(\"five\"))\n",
    "print(\"I ate {0} apples. so I was sick for {1} days.\".format(number, day))\n",
    "print(\"I ate {number} apples. so I was sick for {day} days.\".format(number=10, day=3))\n",
    "# ref: 'https://wikidocs.net/13#_15' 점프 투 파이썬 2-2 문자열 자료형 중"
   ],
   "outputs": [
    {
     "output_type": "stream",
     "name": "stdout",
     "text": [
      "당신이 태어난 해는 1999년 입니다.\n",
      "I eat 3 apples.\n",
      "I eat five apples.\n",
      "I ate 10 apples. so I was sick for three days.\n",
      "I eat 3 apples\n",
      "I eat five apples\n",
      "I ate 10 apples. so I was sick for three days.\n",
      "I ate 10 apples. so I was sick for 3 days.\n"
     ]
    }
   ],
   "metadata": {}
  },
  {
   "cell_type": "markdown",
   "source": [
    "### Quiz 1\n",
    "- 택배 정보를 입력 받고 무게에 따른 값 산정하기\n",
    "    - 수취인 성명:\n",
    "    - 수취인 주소:\n",
    "    - 배송비: 3000원\n",
    "    - 물건 비용: <계산된 값>원 \n",
    "    - 총 합계: <계산된 값>원\n",
    "- 물건 비용은 무게(g) * 5\n",
    "- 입력 값 = 이름, 주소, 무게"
   ],
   "metadata": {}
  },
  {
   "cell_type": "code",
   "execution_count": 22,
   "source": [
    "delivery_recipient = input(\"수취인의 성명을 기입하세요:\")\n",
    "delivery_address = input(\"수취인의 주소를 기입하세요:\")\n",
    "delivery_weight = int(input(\"택배의 무게를 기입하세요(단위:g):\"))\n",
    "\n",
    "delivery_fee = 3000\n",
    "delivery_item = delivery_weight * 5\n",
    "delivery_totalcost = delivery_item + delivery_fee\n",
    "print(f\"배송비: {delivery_fee}원, 물건 비용: {delivery_item}원, 총 합계: {delivery_totalcost}원\")"
   ],
   "outputs": [
    {
     "output_type": "stream",
     "name": "stdout",
     "text": [
      "수취인의 성명을 기입하세요: 곽민규\n",
      "수취인의 주소를 기입하세요: 마포구\n",
      "택배의 무게를 기입하세요(단위:g): 1000\n"
     ]
    },
    {
     "output_type": "stream",
     "name": "stdout",
     "text": [
      "배송비: 3000원, 물건 비용: 5000원, 총 합계: 8000원\n"
     ]
    }
   ],
   "metadata": {}
  },
  {
   "cell_type": "markdown",
   "source": [],
   "metadata": {}
  },
  {
   "cell_type": "markdown",
   "source": [
    "## Ch3. Numbers"
   ],
   "metadata": {}
  },
  {
   "cell_type": "markdown",
   "source": [
    "### boolean\n",
    "- True/False\n",
    "- False인 값\n",
    "- if문(조건식) 등에서 자주 쓰임: \"어떤 값이 True일 때, ...\""
   ],
   "metadata": {}
  },
  {
   "cell_type": "code",
   "execution_count": 30,
   "source": [
    "# False인 값 :\n",
    "print(bool(False))\n",
    "print(bool(0))\n",
    "print(bool([]))\n",
    "print(bool({}))\n",
    "print(bool(\"\"))\n",
    "print(bool())\n",
    "print(bool(None), sep=\" \", end=\"\\n\\n\")\n",
    "# True인 값 :\n",
    "print(bool(\"python\"))\n",
    "print(bool(\"apple\"))\n",
    "print(bool([1,2,3]))\n",
    "print(bool(1)) \n",
    "print(bool(-1)) "
   ],
   "outputs": [
    {
     "output_type": "stream",
     "name": "stdout",
     "text": [
      "False\n",
      "False\n",
      "False\n",
      "False\n",
      "False\n",
      "False\n",
      "False\n",
      "\n",
      "True\n",
      "True\n",
      "True\n",
      "True\n",
      "True\n"
     ]
    }
   ],
   "metadata": {}
  },
  {
   "cell_type": "markdown",
   "source": [
    "### Integer\n",
    "- 분수나 소수가 아닌 정수\n",
    "- 음수는 '-'기호를 붙인다: i.e., -50\n",
    "- default = 양수\n",
    "- 숫자 앞에서는 0을 쓰지 못함. i.e., 09(x)\n",
    "    - 0bxx (10진수가 아닌, 사실상 쓸 일이 거의 없음)\n",
    "- 숫자 사이에 쉼표를 쓰면 오류: 100,000(x) -> 100_000(o)\n",
    "    => 숫자 사이의 언더바는 인식하지 않음"
   ],
   "metadata": {}
  },
  {
   "cell_type": "code",
   "execution_count": 31,
   "source": [
    "print(100,000)\n",
    "print(100_000)"
   ],
   "outputs": [
    {
     "output_type": "stream",
     "name": "stdout",
     "text": [
      "100 0\n",
      "100000\n"
     ]
    }
   ],
   "metadata": {}
  },
  {
   "cell_type": "markdown",
   "source": [
    "### 연산자|operator\n",
    "- +, -, *, /\n",
    "- 피연산자|operand: 1,2,...\n",
    "- 수식|expression"
   ],
   "metadata": {}
  },
  {
   "cell_type": "code",
   "execution_count": 41,
   "source": [
    "x = 9\n",
    "y = 4\n",
    "\n",
    "# 연산\n",
    "print(x + y)\n",
    "print(x - y)\n",
    "print(x * y)\n",
    "print(x / y)\n",
    "print(x ** y) # 거듭제곱|exponential\n",
    "\n",
    "print('-'* 50)\n",
    "\n",
    "print(x / y) # 결과물\n",
    "print(x // y) # 몫\n",
    "print(x % y) # 나머지\n",
    "\n",
    "print('-'* 50)\n",
    "\n",
    "print(divmod(x, y)) # (몫, 나머지) 튜플 형태로 반환해주는 함수임\n",
    "# 나눌 때 분모가 0이 아닌지(division by zero) 항시 유의\n",
    "\n",
    "print()\n",
    "\n",
    "print(1 + 9                 + 10) # 숫자 사이 공백은 무시됨"
   ],
   "outputs": [
    {
     "output_type": "stream",
     "name": "stdout",
     "text": [
      "13\n",
      "5\n",
      "36\n",
      "2.25\n",
      "6561\n",
      "--------------------------------------------------\n",
      "2.25\n",
      "2\n",
      "1\n",
      "--------------------------------------------------\n",
      "(2, 1)\n",
      "\n",
      "20\n"
     ]
    }
   ],
   "metadata": {}
  },
  {
   "cell_type": "markdown",
   "source": [
    "#### 복합 대입 연산자 | compund assignment operator"
   ],
   "metadata": {}
  },
  {
   "cell_type": "code",
   "execution_count": 43,
   "source": [
    "x = 5\n",
    "x - 3\n",
    "print(x) # x - 3을 대입하지 않으면 반영 안됨\n",
    "\n",
    "print()\n",
    "\n",
    "x = x - 3\n",
    "print(x)\n",
    "\n",
    "#1. x - 3 계산\n",
    "#2. temp = x - 3 (임시변수에 담는다)\n",
    "#3. x = temp\n",
    "\n",
    "# 예시\n",
    "# x += 3 ( == x = x + 3)\n",
    "# x -= 3 ( == x = x - 3)\n",
    "# x *= 3 ( == x = x * 3)\n",
    "# x /= 3 ( == x = x / 3)"
   ],
   "outputs": [
    {
     "output_type": "stream",
     "name": "stdout",
     "text": [
      "5\n",
      "\n",
      "2\n"
     ]
    }
   ],
   "metadata": {}
  },
  {
   "cell_type": "markdown",
   "source": [
    "#### Quiz 1.\n",
    "- 반지름을 입력 받아서 원의 면적을 구하기\n",
    "- 면적 = pi * r제곱\n",
    "\n",
    "#### Quiz 2.\n",
    "- 숫자를 입력 받고 3의 배수인지 확인하기\n",
    "- 숫자를 입력 받고 홀수인지 확인하기"
   ],
   "metadata": {}
  },
  {
   "cell_type": "code",
   "execution_count": 32,
   "source": [
    "### Quiz 1.\n",
    "import math\n",
    "\n",
    "radius = int(input('반지름의 길이를 입력하시오:'))\n",
    "circle_area = math.pow(radius, 2) * math.pi\n",
    "print(f\"반지름이 {radius}인 원의 넓이는 {round(circle_area)}입니다.\")"
   ],
   "outputs": [
    {
     "output_type": "stream",
     "name": "stdout",
     "text": [
      "반지름이 5인 원의 넓이는 79입니다.\n"
     ]
    }
   ],
   "metadata": {}
  },
  {
   "cell_type": "code",
   "execution_count": 26,
   "source": [
    "### Quiz 2.\n",
    "user_input = int(input('숫자를 입력하세요:'))\n",
    "\n",
    "if user_input % 3 == 0:\n",
    "    print(f\"{user_input}은 3의 배수입니다.\")\n",
    "else:\n",
    "    print(f\"{user_input}은 3의 배수가 아닙니다.\")\n",
    "\n",
    "\n",
    "if user_input % 2 == 0:\n",
    "    print(f\"{user_input}은 홀수가 아닙니다.\")\n",
    "else:\n",
    "    print(f\"{user_input}은 홀수입니다.\")"
   ],
   "outputs": [
    {
     "output_type": "stream",
     "name": "stdout",
     "text": [
      "숫자를 입력하세요: 9\n"
     ]
    },
    {
     "output_type": "stream",
     "name": "stdout",
     "text": [
      "9은 3의 배수입니다.\n",
      "9은 홀수입니다.\n"
     ]
    }
   ],
   "metadata": {}
  },
  {
   "cell_type": "markdown",
   "source": [
    "### Quiz 3. 3장 연습문제"
   ],
   "metadata": {}
  },
  {
   "cell_type": "code",
   "execution_count": 45,
   "source": [
    "# 3.1 1시간은 몇 초인가? \n",
    "# 3.2 계산한 결과를 seconds_per_hour 변수에 저장해보자\n",
    "seconds_per_hour = 60 * 60\n",
    "print(seconds_per_hour)\n",
    "\n",
    "# 3.3 1일은 몇 초인가? seconds_per_hour 변수를 사용해보자 \n",
    "# 3.4 계산한 결과를 seconds_per_day 변수에 저장해보자\n",
    "seconds_per_day = seconds_per_hour * 24\n",
    "print(seconds_per_day)\n",
    "\n",
    "# 3.5 부동 소수점 (/) 나눗셈을 사용해서 seconds_per_day를 seconds_per_hour로 나누어보자\n",
    "print(seconds_per_day / seconds_per_hour) # 나눗셈은 항상 float형임을 주의\n",
    "\n",
    "# 3.6 이번에는 정수 (//) 나눗셈을 사용해보자. 위의 결과와 같은가?\n",
    "print(seconds_per_day // seconds_per_hour) \n",
    "print(type(seconds_per_day // seconds_per_hour))"
   ],
   "outputs": [
    {
     "output_type": "stream",
     "name": "stdout",
     "text": [
      "3600\n",
      "86400\n",
      "24.0\n",
      "24\n",
      "<class 'int'>\n"
     ]
    }
   ],
   "metadata": {}
  },
  {
   "cell_type": "markdown",
   "source": [
    "### 지수 표현\n",
    "- 예: '1.0e-4'\n",
    "- e의 앞부분은 소수, 정수 둘다 됨\n",
    "- 뒷부분은 정수여야 함\n",
    "- 뒷부분이 음수면 소숫점 자릿수를 의미함\n",
    "- e, E (소문자 대문자 둘 다 상관 없음)"
   ],
   "metadata": {}
  },
  {
   "cell_type": "code",
   "execution_count": 46,
   "source": [
    "print(1.0e-4)\n",
    "print(1.0e4)\n",
    "\n",
    "# 0.0004005 > 지수로 표현하기\n",
    "print(4005.e-7)\n",
    "print(4.005e-4)"
   ],
   "outputs": [
    {
     "output_type": "stream",
     "name": "stdout",
     "text": [
      "0.0001\n",
      "10000.0\n",
      "0.0004005\n",
      "0.0004005\n"
     ]
    }
   ],
   "metadata": {}
  },
  {
   "cell_type": "markdown",
   "source": [
    "## Ch4. If 조건문"
   ],
   "metadata": {}
  },
  {
   "cell_type": "markdown",
   "source": [
    "#### 코드 짜는 팁\n",
    "- 주석 달기\n",
    "    - '#' 기호\n",
    "    - '#' 시작지점부터 라인 끝까지가 주석 처리됨\n",
    "    - ''' ''' quotation mark 사이는 모조리 다 주석\n",
    "    - 문자열 안에 있는 '#'는 부호로 인식함\n",
    "    - 이유? 코드에 대한 설명은 최대한 하지 않아야 함. 의도를 나타내기 위해, 오류가 있다거나 전달해야 할 사항이 있을 때.\n",
    "\n",
    "\n",
    "- 라인 유지하기\n",
    "    - 들여쓰기(defalut: space x 4, 혹은 탭을 사용하기)\n",
    "    - 논리 구조를 나타내기 때문에 굉장히 중요하다\n",
    "    - 한 줄에 들어갈 수 있는 글자는 80자 정도(암묵적 합의, 80자 넘어가면 백슬래시'\\n'로 라인을 끊어준다)"
   ],
   "metadata": {}
  },
  {
   "cell_type": "code",
   "execution_count": 47,
   "source": [
    "a = 3 # 주석입니다\n",
    "\"\"\"\n",
    "주석1\n",
    "\"\"\"\n",
    "print(a)\n",
    "print('hey, there #') # '#'이 문자열 안에 있다면 문자열로 취급됨."
   ],
   "outputs": [
    {
     "output_type": "stream",
     "name": "stdout",
     "text": [
      "3\n",
      "hey, there #\n"
     ]
    }
   ],
   "metadata": {}
  },
  {
   "cell_type": "code",
   "execution_count": 49,
   "source": [
    "sum = 1 + \\\n",
    "2 + \\\n",
    "3 + \\\n",
    "4\n",
    "print(sum)\n",
    "\n",
    "# 표현식이 쌍을 이루는 괄호(중괄호{}, 대괄호[]도 가능)의 중간에 있으면 잘 동작함.\n",
    "sum = ( 1 +\n",
    "       2 +\n",
    "       3 +\n",
    "       4)\n",
    "print(sum)"
   ],
   "outputs": [
    {
     "output_type": "stream",
     "name": "stdout",
     "text": [
      "10\n",
      "10\n"
     ]
    }
   ],
   "metadata": {}
  },
  {
   "cell_type": "markdown",
   "source": [
    "### if\n",
    "if <조건식>:\n",
    "    <실행할 코드>"
   ],
   "metadata": {}
  },
  {
   "cell_type": "code",
   "execution_count": 3,
   "source": [
    "if 3 != 1:\n",
    "    print(\"두 수는 같지 않다\")"
   ],
   "outputs": [
    {
     "output_type": "stream",
     "name": "stdout",
     "text": [
      "두 수는 같지 않다\n"
     ]
    }
   ],
   "metadata": {}
  },
  {
   "cell_type": "code",
   "execution_count": 4,
   "source": [
    "if 3 != 1:\n",
    "    print(\"두 수는 같지 않다\")\n",
    "else:\n",
    "    print(\"두 수가 같다\")"
   ],
   "outputs": [
    {
     "output_type": "stream",
     "name": "stdout",
     "text": [
      "두 수는 같지 않다\n"
     ]
    }
   ],
   "metadata": {}
  },
  {
   "cell_type": "code",
   "execution_count": 6,
   "source": [
    "a = 4\n",
    "\n",
    "if a < 3:\n",
    "    print(\"3보다 작다\")\n",
    "elif a == 3:\n",
    "    print(\"3이다\")\n",
    "else:\n",
    "    print(\"3보다 크다\")"
   ],
   "outputs": [
    {
     "output_type": "stream",
     "name": "stdout",
     "text": [
      "3보다 크다\n"
     ]
    }
   ],
   "metadata": {}
  },
  {
   "cell_type": "code",
   "execution_count": 8,
   "source": [
    "if a < 3:\n",
    "    print(\"3보다 작다\")\n",
    "\n",
    "if a == 3:\n",
    "    print(\"3이다\")\n",
    "\n",
    "if a > 4:\n",
    "    print(\"3보다 크다\")"
   ],
   "outputs": [],
   "metadata": {}
  },
  {
   "cell_type": "markdown",
   "source": [
    "### 비교연산자\n",
    "- x < y\n",
    "- x = y\n",
    "- x >= y\n",
    "- x <= y\n",
    "- x == y\n",
    "- x != y\n",
    "- x is y (값, 메모리주소)\n",
    "- x is not y"
   ],
   "metadata": {}
  },
  {
   "cell_type": "markdown",
   "source": [
    "### 명시적으로 boolean을 사용하지 않아도 다음은 모두 False이다.\n",
    "- null | none\n",
    "- 정수 0 | 0\n",
    "- 부동소수점 0 | 0.0\n",
    "- 빈 문자열 | ' '\n",
    "- 빈 리스트 | []\n",
    "- 빈 튜플 | ()\n",
    "- 빈 딕셔너리 | {}\n",
    "- 빈 셋 | Set()"
   ],
   "metadata": {}
  },
  {
   "cell_type": "markdown",
   "source": [
    "### 여러 개 비교하기 : in"
   ],
   "metadata": {}
  },
  {
   "cell_type": "code",
   "execution_count": 52,
   "source": [
    "vowels = 'aeiou'\n",
    "letter = 'o'\n",
    "print(letter in vowels)\n",
    "if letter in vowels:\n",
    "    print(letter, 'is a vowel')"
   ],
   "outputs": [
    {
     "output_type": "stream",
     "name": "stdout",
     "text": [
      "True\n",
      "o is a vowel\n"
     ]
    }
   ],
   "metadata": {}
  },
  {
   "cell_type": "markdown",
   "source": [
    "### 새로운 기능: 바다코끼리 연산자\n",
    "바다코끼리 연산자 `:=`는 할당과 텍스트를 한 단계로 줄일 수 있다."
   ],
   "metadata": {}
  },
  {
   "cell_type": "code",
   "execution_count": 54,
   "source": [
    "#page.105\n",
    "\n",
    "tweet_limit = 200\n",
    "tweet_string = \"Blah\" * 50\n",
    "# tweet_string = \"Blaah\" * 50\n",
    "\n",
    "if diff := tweet_limit - len(tweet_string) >= 0:\n",
    "    print(\"A fitting tweet\")\n",
    "else:\n",
    "    print(\"Went over by\", abs(diff)) # abs()는 절댓값 함수이다.\n",
    "    \n",
    "# 길이 4로 이루어진 \"Blah\" * 50은 200을 넘지 않으므로 if문이 실행된다.\n",
    "# 밑에 있는 \"Blaah\"를 실행시키면 200을 넘기므로 else문이 실행된다."
   ],
   "outputs": [
    {
     "output_type": "stream",
     "name": "stdout",
     "text": [
      "A fitting tweet\n"
     ]
    }
   ],
   "metadata": {}
  },
  {
   "cell_type": "markdown",
   "source": [
    "### 퀴즈\n",
    "- 1. 시험 점수를 입력 받고, 80점 이상이면 True, 아니면 False 반환하기\n",
    "- 2. 시험 점수를 입력 받고, 95이상 A+, 90이상 A, 85이상 B+, 나머지 F로 출력하세요."
   ],
   "metadata": {}
  },
  {
   "cell_type": "code",
   "execution_count": 15,
   "source": [
    "### Quiz\n",
    "\n",
    "test_score = int(input('시험 점수를 입력하세요'))\n",
    "\n",
    "if test_score >= 80:\n",
    "    print(\"True\")\n",
    "else:\n",
    "    print(\"False\")\n",
    "\n",
    "if test_score >= 95:\n",
    "    print(\"A+\")\n",
    "elif test_score >= 90:\n",
    "    print(\"A\")\n",
    "elif test_score >= 85:\n",
    "    print(\"B+\")\n",
    "else:\n",
    "    print(\"F\")"
   ],
   "outputs": [
    {
     "output_type": "stream",
     "name": "stdout",
     "text": [
      "시험 점수를 입력하세요 96\n"
     ]
    },
    {
     "output_type": "stream",
     "name": "stdout",
     "text": [
      "True\n",
      "A+\n"
     ]
    }
   ],
   "metadata": {}
  }
 ],
 "metadata": {
  "orig_nbformat": 4,
  "language_info": {
   "name": "python",
   "version": "3.9.10",
   "mimetype": "text/x-python",
   "codemirror_mode": {
    "name": "ipython",
    "version": 3
   },
   "pygments_lexer": "ipython3",
   "nbconvert_exporter": "python",
   "file_extension": ".py"
  },
  "kernelspec": {
   "name": "python3",
   "display_name": "Python 3.9.10 64-bit"
  },
  "interpreter": {
   "hash": "aee8b7b246df8f9039afb4144a1f6fd8d2ca17a180786b69acc140d282b71a49"
  }
 },
 "nbformat": 4,
 "nbformat_minor": 2
}