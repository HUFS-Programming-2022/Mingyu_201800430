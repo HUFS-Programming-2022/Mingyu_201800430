{
 "cells": [
  {
   "cell_type": "markdown",
   "source": [
    "# 7주차"
   ],
   "metadata": {}
  },
  {
   "cell_type": "markdown",
   "source": [
    "공지사항)\n",
    "- 브라운 정제\n",
    "- 중간고사\n",
    "    : tokenizer 사용x, 손코딩시 독스트링 안써도 됨\n",
    "    : 일요일까지 제출한 답안을 외우는 것. 제출하고 다른 답안을 외우면 안됨\n",
    "    : 대학원 건물 6411호\n",
    "    : 월요일까지 제출 연장"
   ],
   "metadata": {}
  },
  {
   "cell_type": "markdown",
   "source": [
    "### 함수"
   ],
   "metadata": {}
  },
  {
   "cell_type": "markdown",
   "source": [
    "1. 정의\n",
    "    - 코드의 덩어리, 묶음\n",
    "    - 코드의 재사용이 주된 목적.\n",
    "    - 정의하기(define) -> 호출하기(call) 순서\n",
    "    - 구조\n",
    "        *정의하기*\n",
    "        def 함수이름(매개변수1, 2, 3, ...):\n",
    "            수행문1\n",
    "            수행문2\n",
    "            ...\n",
    "            return 출력값\n",
    "            \n",
    "        *호출하기*\n",
    "        함수이름(인수1, 2, 3, ...)\n",
    "    - 내부 수행문들을 인터페이스라고 부름. 인터페이스를 잘 설정하면 내부를 몰라도 함수를 쉽게 쓸 수 있다.\n",
    "2. 이름 짓기 컨벤션\n",
    "    - 소문자 사용\n",
    "    - 카멜표기법 가능하나 언더바를 더 선호\n",
    "    - 동사 위주 + 명사 (print_output, save_model, split_text ...)\n",
    "    - 외부에 공개할 땐 줄임말 자제하기 ex) print -> pr_output(x)"
   ],
   "metadata": {}
  },
  {
   "cell_type": "code",
   "execution_count": null,
   "source": [
    "def make_a_sound():\n",
    "    # 입력 없고, 반환도 없는 함수도 가능\n",
    "    print('quack')\n",
    "    # default = return None\n",
    "    \n",
    "make_a_sound()"
   ],
   "outputs": [
    {
     "output_type": "stream",
     "name": "stdout",
     "text": [
      "quack\n"
     ]
    }
   ],
   "metadata": {}
  },
  {
   "cell_type": "code",
   "execution_count": 5,
   "source": [
    "def agree():\n",
    "    #2. 입력 없고, 반환 있고\n",
    "    return True\n",
    "agree()"
   ],
   "outputs": [
    {
     "output_type": "execute_result",
     "data": {
      "text/plain": [
       "True"
      ]
     },
     "metadata": {},
     "execution_count": 5
    }
   ],
   "metadata": {}
  },
  {
   "cell_type": "code",
   "execution_count": 6,
   "source": [
    "if agree():\n",
    "    print('Splendid')\n",
    "else:\n",
    "    print('that was unexpteced!')"
   ],
   "outputs": [
    {
     "output_type": "stream",
     "name": "stdout",
     "text": [
      "Splendid\n"
     ]
    }
   ],
   "metadata": {}
  },
  {
   "cell_type": "code",
   "execution_count": 7,
   "source": [
    "def echo(anything):\n",
    "    #3. 입력 있고, 반환 없고\n",
    "    print('{0} {0}'.format(anything))\n",
    "echo('hello')"
   ],
   "outputs": [
    {
     "output_type": "stream",
     "name": "stdout",
     "text": [
      "hello hello\n"
     ]
    }
   ],
   "metadata": {}
  },
  {
   "cell_type": "code",
   "execution_count": 11,
   "source": [
    "def echo(anything):\n",
    "    #3. 입력 있고, 반환 있고\n",
    "    return '{0} {0}'.format(anything)\n",
    "echo = echo('hello')\n",
    "echo # return값을 할당해서 재사용 가능함"
   ],
   "outputs": [
    {
     "output_type": "execute_result",
     "data": {
      "text/plain": [
       "'hello hello'"
      ]
     },
     "metadata": {},
     "execution_count": 11
    }
   ],
   "metadata": {}
  },
  {
   "cell_type": "markdown",
   "source": [
    "3. 인수와 매개변수\n",
    "    - 매개변수: 정의할 떄 쓰임. 인터페이스 내에서만 유효한 변수\n",
    "    - 인수: 호출할 때 쓰임.\n",
    "    - 함수 호출 시 인수에 할당된 값이 매개변수에 복제됨\n",
    "        - line = 'hello'\n",
    "        - anything = line ##### copy되는 부분\n",
    "        - anything 사라짐\n",
    "- 위치 인수:\n",
    "    - positional argument\n",
    "    - 값을 순서대로 상응하는 매개변수에 복사하는 것\n",
    "- 키워드 인수\n",
    "    - keyword argument\n",
    "    - 매개변수에 상응하는 이름을 인수에 지정한다.\n",
    "    - 위치가 달라도 됨\n",
    "- 디폴트 인수\n",
    "    - default argument\n",
    "    - 정의할 때 매개변수의 기본값을 설정\n",
    "    - 호출 시 인수가 없으면 기본값으로 적용됨\n",
    "    - default 값은 argument 맨 뒤에 적어야 함"
   ],
   "metadata": {}
  },
  {
   "cell_type": "code",
   "execution_count": 15,
   "source": [
    "def commentary(color):\n",
    "    #pass\n",
    "    #print(color, '1')\n",
    "    if color == 'g':\n",
    "        return 'green'\n",
    "    else:\n",
    "        return 'black'\n",
    "\n",
    "color = 'white'\n",
    "commentary(color)"
   ],
   "outputs": [
    {
     "output_type": "execute_result",
     "data": {
      "text/plain": [
       "'black'"
      ]
     },
     "metadata": {},
     "execution_count": 15
    }
   ],
   "metadata": {}
  },
  {
   "cell_type": "code",
   "execution_count": 17,
   "source": [
    "colors = ['g', 'r', 'b']\n",
    "for c in colors:\n",
    "    print(commentary(c))"
   ],
   "outputs": [
    {
     "output_type": "stream",
     "name": "stdout",
     "text": [
      "green\n",
      "black\n",
      "black\n"
     ]
    }
   ],
   "metadata": {}
  },
  {
   "cell_type": "code",
   "execution_count": 18,
   "source": [
    "def menu(wine, entree, dessert):\n",
    "    return {'wine':wine, 'entree':entree, 'dessert':dessert}\n",
    "\n",
    "menu('rioja', 'cake', 'egg')"
   ],
   "outputs": [
    {
     "output_type": "execute_result",
     "data": {
      "text/plain": [
       "{'wine': 'rioja', 'entree': 'cake', 'dessert': 'egg'}"
      ]
     },
     "metadata": {},
     "execution_count": 18
    }
   ],
   "metadata": {}
  },
  {
   "cell_type": "code",
   "execution_count": 19,
   "source": [
    "# keyword\n",
    "menu(entree='egg', wine='rioja', dessert='pancake')"
   ],
   "outputs": [
    {
     "output_type": "execute_result",
     "data": {
      "text/plain": [
       "{'wine': 'rioja', 'entree': 'egg', 'dessert': 'pancake'}"
      ]
     },
     "metadata": {},
     "execution_count": 19
    }
   ],
   "metadata": {}
  },
  {
   "cell_type": "code",
   "execution_count": 24,
   "source": [
    "# menu(entree='egg', 'rioja', 'pancake')\n",
    "menu('egg', 'rioja', dessert='pancake') # 위치인수, 키워드인수 혼용할 때 주의. 위치를 고려해야 함"
   ],
   "outputs": [
    {
     "output_type": "execute_result",
     "data": {
      "text/plain": [
       "{'wine': 'egg', 'entree': 'rioja', 'dessert': 'pancake'}"
      ]
     },
     "metadata": {},
     "execution_count": 24
    }
   ],
   "metadata": {}
  },
  {
   "cell_type": "code",
   "execution_count": 21,
   "source": [
    "# default\n",
    "def menu2(wine, entree, dessert='scone'):\n",
    "    return {'wine':wine, 'entree':entree, 'dessert':dessert}\n",
    "\n",
    "menu2('rioja', 'cake', 'egg')"
   ],
   "outputs": [
    {
     "output_type": "execute_result",
     "data": {
      "text/plain": [
       "{'wine': 'rioja', 'entree': 'cake', 'dessert': 'egg'}"
      ]
     },
     "metadata": {},
     "execution_count": 21
    }
   ],
   "metadata": {}
  },
  {
   "cell_type": "code",
   "execution_count": 22,
   "source": [
    "menu2('merlot', 'egg')"
   ],
   "outputs": [
    {
     "output_type": "execute_result",
     "data": {
      "text/plain": [
       "{'wine': 'merlot', 'entree': 'egg', 'dessert': 'scone'}"
      ]
     },
     "metadata": {},
     "execution_count": 22
    }
   ],
   "metadata": {}
  },
  {
   "cell_type": "markdown",
   "source": [
    "### 나이 -> 연도\n",
    "def fx():\n",
    "    # 입력값 = 나이\n",
    "    # 반환값 = 출생년도\n",
    "    \n",
    "- input 입력 받아서 함수 사용해서 출력하기"
   ],
   "metadata": {}
  },
  {
   "cell_type": "code",
   "execution_count": 29,
   "source": [
    "def calc_birth_year(age):\n",
    "    current_year = 2022\n",
    "    birth_year = current_year - age\n",
    "    return birth_year\n",
    "age = int(input('당신의 만 나이를 입력하세요'))\n",
    "calc_birth_year(age)"
   ],
   "outputs": [
    {
     "output_type": "stream",
     "name": "stdout",
     "text": [
      "당신의 만 나이를 입력하세요 23\n"
     ]
    },
    {
     "output_type": "execute_result",
     "data": {
      "text/plain": [
       "1999"
      ]
     },
     "metadata": {},
     "execution_count": 29
    }
   ],
   "metadata": {}
  },
  {
   "cell_type": "markdown",
   "source": [
    "### 예\n",
    "- 사각형 너비 구하기\n",
    "    - 입력 : 두 변 길이\n",
    "    - 반환 : str \"##cm\"\n",
    "def ###:"
   ],
   "metadata": {}
  },
  {
   "cell_type": "code",
   "execution_count": 32,
   "source": [
    "def calc_rect_area(width, height):\n",
    "    rect_area = str(width * height) + 'cm'\n",
    "    return rect_area\n",
    "width = float(input('사각형의 가로길이 입력하세요: '))\n",
    "height = float(input('사각형의 세로길이 입력하세요: '))\n",
    "calc_rect_area(width, height)"
   ],
   "outputs": [
    {
     "output_type": "stream",
     "name": "stdout",
     "text": [
      "사각형의 가로길이 입력하세요:  3\n",
      "사각형의 세로길이 입력하세요:  3.5\n"
     ]
    },
    {
     "output_type": "execute_result",
     "data": {
      "text/plain": [
       "'10.5cm'"
      ]
     },
     "metadata": {},
     "execution_count": 32
    }
   ],
   "metadata": {}
  },
  {
   "cell_type": "markdown",
   "source": [
    "### 호출 방식:\n",
    "    - 정의된 부분이 메모리에 업로드 되지만, 실행은 바로 안된다.\n",
    "    - 실행은 호출 이후\n",
    "    - 값을 넘기는 방식: 참조에 의한 호출(call by reference) = 메모리 주소를 넘기는 것임.\n",
    "    - 메모리 주소가 복사되기 때문에 가변객체가 매개변수로 들어갈 때 주의할 것."
   ],
   "metadata": {}
  },
  {
   "cell_type": "code",
   "execution_count": 33,
   "source": [
    "def calc_area(width, height): # define\n",
    "    print('1')\n",
    "    return width * height\n",
    "print('2')\n",
    "garo = 2\n",
    "sero = 43\n",
    "print('3')\n",
    "calc_area(garo, sero) # call\n",
    "print('4')"
   ],
   "outputs": [
    {
     "output_type": "stream",
     "name": "stdout",
     "text": [
      "2\n",
      "3\n",
      "1\n",
      "4\n"
     ]
    }
   ],
   "metadata": {}
  },
  {
   "cell_type": "code",
   "execution_count": 38,
   "source": [
    "def buggy(arg, result=[]):\n",
    "    result = [] # 함수 들어갈 때마다 초기화를 시켜줌\n",
    "    result.append(arg)\n",
    "    return result\n",
    "\n",
    "buggy('a') # [a]\n",
    "buggy('b') # [b] != [a, b] : shallow copy로 인해 계속해서 추가되는 모습."
   ],
   "outputs": [
    {
     "output_type": "execute_result",
     "data": {
      "text/plain": [
       "['b']"
      ]
     },
     "metadata": {},
     "execution_count": 38
    }
   ],
   "metadata": {}
  },
  {
   "cell_type": "code",
   "execution_count": 37,
   "source": [
    "# length = garo # list copy\n",
    "def spam(eggs):\n",
    "    eggs.append(1)\n",
    "    eggs = [2, 3]\n",
    "    print(eggs, 'eggs')\n",
    "    \n",
    "ham = [0]\n",
    "spam(ham)\n",
    "print(ham, 'ham')"
   ],
   "outputs": [
    {
     "output_type": "stream",
     "name": "stdout",
     "text": [
      "[2, 3] eggs\n",
      "[0, 1] ham\n"
     ]
    }
   ],
   "metadata": {}
  },
  {
   "cell_type": "code",
   "execution_count": 40,
   "source": [
    "# None <-- thing is None 하면 True\n",
    "thing = None # == False\n",
    "if thing is None:\n",
    "    print('a') # True\n",
    "elif thing:\n",
    "    print('b') # None\n",
    "else:\n",
    "    print('c') # False"
   ],
   "outputs": [
    {
     "output_type": "stream",
     "name": "stdout",
     "text": [
      "a\n"
     ]
    }
   ],
   "metadata": {}
  },
  {
   "cell_type": "code",
   "execution_count": 51,
   "source": [
    "# 목표: 리스트 쌓이거나 비우는 옵션 모두 설정하도록 None 사용해서 함수 재정의하기\n",
    "def nonbuggy(arg, result = None):\n",
    "    if result is None:\n",
    "        result = []\n",
    "    result.append(arg)\n",
    "    print(result)\n",
    "list_a = []\n",
    "nonbuggy('a', list_a)\n",
    "nonbuggy('b', list_a)"
   ],
   "outputs": [
    {
     "output_type": "stream",
     "name": "stdout",
     "text": [
      "['a']\n",
      "['a', 'b']\n"
     ]
    }
   ],
   "metadata": {}
  },
  {
   "cell_type": "markdown",
   "source": [
    "#### 전역변수 vs. 지역변수\n",
    "- 지역변수: 함수 내에서만 사용 가능.\n",
    "- 전역변수: 프로그램 전체에서 사용 가능."
   ],
   "metadata": {}
  },
  {
   "cell_type": "code",
   "execution_count": 55,
   "source": [
    "def fx():\n",
    "    \"\"\"\n",
    "    doc string: 함수에 대한 설명\n",
    "    매개변수에 대한 설명, 타입, 함수의 의도, 주의사항 등\n",
    "    \"\"\"\n",
    "    global city # 전역변수\n",
    "    city = 'london'\n",
    "    print(city)\n",
    "    \n",
    "city = 'paris'\n",
    "fx() # city = london\n",
    "print(city)"
   ],
   "outputs": [
    {
     "output_type": "stream",
     "name": "stdout",
     "text": [
      "london\n",
      "london\n"
     ]
    }
   ],
   "metadata": {}
  },
  {
   "cell_type": "code",
   "execution_count": 57,
   "source": [
    "# 독스트링은 괄호 빼고 함수 이름만\n",
    "help(fx)\n",
    "fx.__doc__"
   ],
   "outputs": [
    {
     "output_type": "stream",
     "name": "stdout",
     "text": [
      "Help on function fx in module __main__:\n",
      "\n",
      "fx()\n",
      "    doc string: 함수에 대한 설명\n",
      "    매개변수에 대한 설명, 타입, 함수의 의도, 주의사항 등\n",
      "\n"
     ]
    },
    {
     "output_type": "execute_result",
     "data": {
      "text/plain": [
       "'\\n    doc string: 함수에 대한 설명\\n    매개변수에 대한 설명, 타입, 함수의 의도, 주의사항 등\\n    '"
      ]
     },
     "metadata": {},
     "execution_count": 57
    }
   ],
   "metadata": {}
  },
  {
   "cell_type": "code",
   "execution_count": null,
   "source": [],
   "outputs": [],
   "metadata": {}
  },
  {
   "cell_type": "markdown",
   "source": [
    "#### 저번주 브라운 코퍼스 정제하기 풀이 업로드)"
   ],
   "metadata": {}
  },
  {
   "cell_type": "code",
   "execution_count": null,
   "source": [
    "# brown 정제하기 ver.1(나의 풀이)\n",
    "brown = nltk.corpus.brown\n",
    "romance_raw = brown.raw(categories=\"romance\")[:5000]             # => brown.raw()했을 때 단어 뒤에 무조건 '/'와 str이 붙고, 문장이 끝나는 기준은 역슬래쉬 '\\'가 올 때마다이다.\n",
    "\n",
    "# 1. POS tag 정제\n",
    "romance_words = romance_raw.replace('/', ' ').split()            # .split() 구분자를 특정하지 않을 때 공백 뿐만 아니라 \\n, \\t도 자동으로 걸러준다.\n",
    "del romance_words[1::2]                                          # POS tag는 모든 words 뒤에 확정적으로 따라오기 때문에 짝수번째에 위치해있다.\n",
    "\n",
    "# 2. 하이픈으로 이어진 단어들 쪼개기\n",
    "list2 = ' '.join(romance_words).replace('-', ' ').split()        # 하이픈('-') 공백으로 교체 후 분절함.\n",
    "\n",
    "# 3. apostrophe 's, 't => '\\s', 'not'으로 변환하기\n",
    "for word in list2[::-1]:                                         # 잎에서부터 삭제해버리면 인덱스가 앞으로 당겨져서 삭제 안되는 부분이 생김. 뒤에서부터 삭제하면 앞으로 진행할 인덱스들에 영향이 없어짐.\n",
    "    if \"'s\" in word:\n",
    "        index = list2.index(word)\n",
    "        list2[index : index + 1] = word.split(\"'\")\n",
    "        list2[index + 1] = \"\\\\'s\"                                # 's는 is인지 has인지 구분하기 어려우므로 따로 변환 안함.\n",
    "    elif \"'t\" in word:\n",
    "        index = list2.index(word)\n",
    "        list2[index : index + 1] = word.split(\"n'\")\n",
    "        list2[index + 1] = 'not'                                 # n't는 not의 줄임말이므로 not으로 바꿔줌.\n",
    "\n",
    "# 4. 특수 문자 지우고, '.' 기준으로 리스트 묶기\n",
    "list3 = [word.replace('.', '문장나누기dot')\\\n",
    "         .replace('!', '문장나누기dot')\\\n",
    "         .replace('?', '문장나누기dot') for word in list2]          # 특수 문자들을 지우기 전에, 문장을 분절하는 기준인 온점을 alphabet으로 끝나는 구별 가능한 문자열로 먼저 replace 해준다\n",
    "\n",
    "list4 = [word for word in list3 if word[-1].isalpha()]           # 문장 분절 기준을 확실히 한 후 특수 문자 제거, 이 때 \\'s는 살려야 하므로 첫글자가 alpha로 시작하는게 아닌 끝 글자를 기준으로 판별해준다.\n",
    "\n",
    "sent_list = ' '.join(list4).split('문장나누기dot')                  # 이후 쪼개져있는 단어들을 문자열 하나로 합친 뒤 미리 정해둔 문장 분절 기준으로 다시 split해준다.\n",
    "\n",
    "final_result = [sent.split() for sent in sent_list\\\n",
    "                if len(sent) > 1]                                # 올바르게 분절된 하나의 문자열을 남아있는 공백을 기준으로 다시 분절해주면 정제 완료, 이 때 느낌표로 공백 리스트가 생성되기 때문에 len()으로 걸러줌.\n",
    "print(final_result)"
   ],
   "outputs": [],
   "metadata": {}
  },
  {
   "cell_type": "code",
   "execution_count": null,
   "source": [
    "# brown 정제하기 ver.2(내 미완성 풀이 + 다른 분들의 코드 참조)\n",
    "# brown.raw()의 5000번째 글자인 'f' 살리지 못함, 세미콜론으로 이어지는 문장이 적절히 이어지지 못하고 분절되는 문제 발생\n",
    "\n",
    "# 1. .split('\\n')으로 문장 단위로 나눠주기\n",
    "romance_sents = brown.raw(categories=\"romance\")[:5000].split('\\n') # 구분자를 특정하지 않을 때 공백 뿐만 아니라 \\n, \\t도 자동으로 걸러준다.\n",
    "\n",
    "romance_list = [sent.split() for sent in romance_sents if len(sent) > 1]\n",
    "\n",
    "# 2. /이후 알파벳 지우기\n",
    "temp1 = [[word[:word.index('/')] for word in sent if '/' in word] for sent in romance_list]\n",
    "\n",
    "# 3. 콤마 등 기호들 지우기\n",
    "temp2 = [[word for word in sent if word[0].isalpha()] for sent in temp1] # word.isalpha()는 fur-piece를 지워버림. 그걸 피하려면 '첫글자'만 알파벳으로 시작하는지 확인하면 된다!\n",
    "\n",
    "# 4. 하이픈으로 연결된 단어들 분리하기\n",
    "# https://blog.winterjung.dev/2017/04/21/list-of-lists-to-flatten\n",
    "# temp3 = [[sent[sent.index(word), sent.index(word)+1] = word.split('-') if '-' in word else word for word in sent] for sent in temp2]\n",
    "for sent in temp2:\n",
    "    for word in sent[::-1]: # 잎에서부터 삭제해버리면 인덱스가 앞으로 당겨져서 삭제 안되는 부분이 생김. 뒤에서부터 삭제하면 앞으로 진행할 인덱스들에 영향이 없어짐.\n",
    "        if '-' in word:\n",
    "            index = sent.index(word)\n",
    "            sent[index : index + 1] = word.split('-')\n",
    "\n",
    "# 5. apostrophe s => \\'s 로 분리하기 + didn't / shouldn't => 'do', 'not' / 'should', 'not'\n",
    "for sent in temp2:\n",
    "    for word in sent[::-1]:\n",
    "        if \"\\'s\" in word:\n",
    "            index = sent.index(word)\n",
    "            sent[index : index + 1] = word.split(\"'\")\n",
    "            sent[index + 1] = \"\\\\'s\"\n",
    "        elif \"\\'t\" in word:\n",
    "            index = sent.index(word)\n",
    "            sent[index : index + 1] = word.split(\"n'\")\n",
    "            sent[index + 1] = 'not'\n",
    "print(temp2)"
   ],
   "outputs": [],
   "metadata": {}
  },
  {
   "cell_type": "code",
   "execution_count": null,
   "source": [
    "# brown 정제하기 ver.3\n",
    "# 코드 재사용률이 높고, 하나의 for문 안에서 정제를 완료할 수 있어 좋은 코드임.\n",
    "\n",
    "# 조사 뺀 스트링 만들기\n",
    "raw_words = brown.raw(categories='romance')[:5000].replace('!','.').split() # 문장 분절을 위해 !를 .로 바꾸고 공백을 기준으로 단어 분절한 리스트 ex-\"the/aa\" \n",
    "array = [] #조인을 위한 리스트 만들어주기\n",
    "for word in raw_words: # word.split('/')[0] 는 조사를 뺀 word 하나가 들어간 string ex-\"man\"\n",
    "    if word.split('/')[0].isalpha() or word.split('/')[0] == '.':\n",
    "        array.append(word.split('/')[0]) # 그대로 들어가는 것들\n",
    "        \n",
    "    elif '-' in word.split('/')[0]:\n",
    "        array.append(word.split('/')[0].replace('-',' ')) # - 를 공백으로 변환해 넣어줌 ex-\"fur-price\" => \"fur price\"\n",
    "        \n",
    "    elif \"'\" in word.split('/')[0] and len(word.split('/')[0]) > 2:\n",
    "        if \"n't\" in word.split('/')[0]: # ex- don't, did't \n",
    "            array.append(word.split('/')[0].replace(\"n't\",\" not\"))\n",
    "        elif \"'s\" in word.split('/')[0]: #ex- It's\n",
    "            array.append(word.split('/')[0].replace(\"'s\",\" 's\"))\n",
    "            \n",
    "string = \" \".join(array)\n",
    "\n",
    "#'.' 기준으로 문장 & 단어 분절 (단어는 공백 기준)\n",
    "sentences = []\n",
    "sentences = [sent.split() for sent in string.split(\".\") if len(sent.split()) > 0 ]\n",
    "print(sentences)\n",
    "\n",
    "## 확인해보기: 문장 단위로 나눠 출력\n",
    "for sent in sentences:\n",
    "    for word in sent:\n",
    "        print(word,end=\" \")\n",
    "    print()\n",
    "    print(\"**********\")"
   ],
   "outputs": [],
   "metadata": {}
  }
 ],
 "metadata": {
  "kernelspec": {
   "display_name": "Python 3 (ipykernel)",
   "language": "python",
   "name": "python3"
  },
  "language_info": {
   "codemirror_mode": {
    "name": "ipython",
    "version": 3
   },
   "file_extension": ".py",
   "mimetype": "text/x-python",
   "name": "python",
   "nbconvert_exporter": "python",
   "pygments_lexer": "ipython3",
   "version": "3.9.7"
  }
 },
 "nbformat": 4,
 "nbformat_minor": 5
}