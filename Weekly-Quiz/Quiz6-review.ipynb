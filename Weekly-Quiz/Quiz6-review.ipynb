{
 "cells": [
  {
   "cell_type": "markdown",
   "id": "4d608794-ee33-414a-bc33-9f2cc1972c78",
   "metadata": {},
   "source": [
    "# 6주차 퀴즈"
   ]
  },
  {
   "cell_type": "markdown",
   "id": "82e2a70e-98d3-418d-8154-a63a9ebed397",
   "metadata": {
    "tags": []
   },
   "source": [
    "### 건든 문제(틀려서 다시 풂)"
   ]
  },
  {
   "cell_type": "markdown",
   "id": "c32c6fb8-d4ed-4990-bb73-e2c2330f4d28",
   "metadata": {},
   "source": [
    "4. 소인수분해(prime factorization, integer factorization)는 1보다 큰 자연수를 소인수(소수인 인수)들만의 곱으로 나타내는 것 또는 합성수를 소수의 곱으로 나타내는 방법을 말한다.\n",
    "\n",
    "예: 15 = 1 * 3 * 5(소인수 = [1, 3, 5])\n",
    "    8 = 2 * 2 * 2(소인수 = [1, 2])\n",
    "   \n",
    "무작위 수 n이 주어졌을 때 n의 소인수를 출력하는 함수를 만드시오.\n",
    "단, 위의 예에서 8과 같은 경우는 2가 한 번만 출력되어야 함.\n",
    "- n의 무작위 생성을 위해 다음의 코드를 참고하세요.\n",
    "\n",
    "import random\n",
    "random.randint(1, 300)"
   ]
  },
  {
   "cell_type": "code",
   "execution_count": 2,
   "id": "0abbab31-68d7-4e04-996b-5912d7ab401d",
   "metadata": {},
   "outputs": [
    {
     "name": "stdout",
     "output_type": "stream",
     "text": [
      "246\n",
      "[1, 2, 3]\n"
     ]
    }
   ],
   "source": [
    "import random\n",
    "n = random.randint(1,300)\n",
    "print(n)\n",
    "\n",
    "answer_list = [1]\n",
    "sosu = [2, 3, 5, 7, 11, 13, 17]\n",
    "for i in sosu:\n",
    "    if n % i == 0:\n",
    "        answer_list.append(i)\n",
    "\n",
    "print(answer_list)"
   ]
  },
  {
   "cell_type": "markdown",
   "id": "21fec857-5218-4537-9c9f-32ba4a2c6523",
   "metadata": {},
   "source": [
    "-------------------------------------------"
   ]
  },
  {
   "cell_type": "markdown",
   "id": "d61ace08-ec03-4a91-9d2e-5a286c23ab24",
   "metadata": {
    "tags": []
   },
   "source": [
    "### 건들지 못한 문제들"
   ]
  },
  {
   "cell_type": "code",
   "execution_count": 7,
   "id": "444a2f83-8c2b-487f-99b6-9586bf07d75b",
   "metadata": {},
   "outputs": [
    {
     "data": {
      "text/plain": [
       "True"
      ]
     },
     "execution_count": 7,
     "metadata": {},
     "output_type": "execute_result"
    }
   ],
   "source": [
    "import nltk\n",
    "nltk.download(['gutenberg', 'brown', 'book'], quiet=True)"
   ]
  },
  {
   "cell_type": "markdown",
   "id": "d936f581-1029-414f-bfd5-dbe022da4bed",
   "metadata": {},
   "source": [
    "1. gutenberg에서\n",
    "    1. 파일 중 모음(a, e, i, o, u)으로 시작하는 파일을 골라\n",
    "    2. 단어를 가져오되 숫자, 문장부호를 모두 제거하고\n",
    "    3. 모든 단어를 하나의 스트링으로 출력하시오."
   ]
  },
  {
   "cell_type": "code",
   "execution_count": null,
   "id": "b9e3375e-6f2d-4be2-ad2f-bb1e3c4896fe",
   "metadata": {},
   "outputs": [],
   "source": []
  },
  {
   "cell_type": "markdown",
   "id": "0092d082-fc6e-4a7a-93f6-312ffd2936c0",
   "metadata": {},
   "source": [
    "2. CFD를 이용하여 nltk.book의 텍스트별 빈도수를 만들고 wh-words의 빈도수를 출력하시오.\n",
    "    * wh_words = what, why, when, where, which"
   ]
  },
  {
   "cell_type": "code",
   "execution_count": null,
   "id": "e3b3fe9f-434e-4cb1-9a89-27b34f7b71c6",
   "metadata": {},
   "outputs": [],
   "source": []
  },
  {
   "cell_type": "markdown",
   "id": "3b82c7a9-abd5-4cdb-a1a0-7de12e397cd2",
   "metadata": {},
   "source": [
    "3. 다음은 n이 각각 1, 2, 3, 4, 5, 6일 때의 삼각수를 그림으로 나타낸 것이다.\n",
    "\n",
    "양의 정수가 세 삼각수의 합으로 나타낼 수 있는지를 구하는 프로그램을 작성하시오.\n",
    "- 입력: n은 1 이상 1000 이하의 양의 정수\n",
    "- 출력: n을 세 수의 합으로 나타낼 수 있으면 이 세 삼각수를 오름차순으로 출력, 세 수의 합으로 나타낼 수 없으면 -1을 출력(단, 해가 여러 개 있을 경우 세 수의 최소값이 가장 작은 것을 출력)\n",
    "\n",
    "[ 입출력 예시 ]\n",
    "입력 1) 10   출력 1) 1 3 6\n",
    "입력 2) 6    출력 2) -1\n",
    "\n",
    "(힌트) n번째 삼각수 = n(n+1)/2"
   ]
  },
  {
   "cell_type": "code",
   "execution_count": null,
   "id": "528a979b-37b9-4c7c-8583-01a079436899",
   "metadata": {},
   "outputs": [],
   "source": []
  },
  {
   "cell_type": "markdown",
   "id": "5241dc13-d60a-41fa-b2a3-6decff0cdc5d",
   "metadata": {},
   "source": [
    "5. 다음과 같은 규칙을 따르는 프로그램이 있다고 하자.\n",
    "\n",
    "    A. 주어진 수가 10보다 작다면 앞에 0을 붙여 두 자리 수로 만들고, 각 자리의 숫자를 더한다.\n",
    "    \n",
    "    B. 그 다음, 주어진 수의 가장 오른쪽 자리 수와 앞에서 구한 합의 가장 오른쪽 자리 수를 이어 붙이면 새로운 수를 만들 수 있다.\n",
    "    \n",
    "예를 들어, 26은 2+6 = 8이다. 새로운 수는 68이다. 6+8 = 14이다. 새로운 수는 84이다. 8+4 = 12이다. 새로운 수는 42이다. 4+2 = 6이다. 새로운 수는 26이다.\n",
    "26은 4번만에 원래 수로 돌아올 수 있다. 따라서 26의 사이클의 길이는 4이다.\n",
    "\n",
    "n이 주어졌을 때, n의 사이클의 길이를 구하는 프로그램을 작성하시오.\n",
    "* 입력: n (n은 0보다 크거나 같고 99보다 작거나 같은 정수)\n",
    "* 출력: n의 사이클 길이"
   ]
  },
  {
   "cell_type": "code",
   "execution_count": null,
   "id": "578c8242-96fd-42b8-97bf-c2714a224021",
   "metadata": {},
   "outputs": [],
   "source": []
  },
  {
   "cell_type": "markdown",
   "id": "934170f0-a7b8-4a6d-91ec-507e1ec9f0bb",
   "metadata": {},
   "source": [
    "6. 브라운에서 각 장르별 hapax의 개수를 cfd를 이용하여 구하시오."
   ]
  },
  {
   "cell_type": "code",
   "execution_count": null,
   "id": "1ac2389e-3b66-4406-91cf-db0393d6bde2",
   "metadata": {},
   "outputs": [],
   "source": []
  }
 ],
 "metadata": {
  "kernelspec": {
   "display_name": "Python 3 (ipykernel)",
   "language": "python",
   "name": "python3"
  },
  "language_info": {
   "codemirror_mode": {
    "name": "ipython",
    "version": 3
   },
   "file_extension": ".py",
   "mimetype": "text/x-python",
   "name": "python",
   "nbconvert_exporter": "python",
   "pygments_lexer": "ipython3",
   "version": "3.9.7"
  }
 },
 "nbformat": 4,
 "nbformat_minor": 5
}
