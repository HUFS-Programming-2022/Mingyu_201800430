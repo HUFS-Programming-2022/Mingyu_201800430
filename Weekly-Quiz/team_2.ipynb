{
 "cells": [
  {
   "cell_type": "code",
   "execution_count": 1,
   "id": "d335a787-86bf-48df-bc88-c28202b8a9cf",
   "metadata": {},
   "outputs": [],
   "source": [
    "import sys"
   ]
  },
  {
   "cell_type": "code",
   "execution_count": 2,
   "id": "bdeb53de-2ef7-4087-8daa-269d450864cb",
   "metadata": {},
   "outputs": [],
   "source": [
    "name = 'barack obama' #input('put full name here: ')"
   ]
  },
  {
   "cell_type": "code",
   "execution_count": 8,
   "id": "8496a90b-fdc2-41fe-9806-1d97afc0f331",
   "metadata": {
    "tags": []
   },
   "outputs": [],
   "source": [
    "with open('/Users/kwak/dictionary.txt') as file :\n",
    "    words = file.read().lower().split()"
   ]
  },
  {
   "cell_type": "code",
   "execution_count": 9,
   "id": "caa79f3d-192c-4037-99cf-1e26d57f5ad1",
   "metadata": {
    "tags": []
   },
   "outputs": [],
   "source": [
    "words += ['i', 'a']\n",
    "words = [w[:-1] if not w.isalpha() else w for w in words] "
   ]
  },
  {
   "cell_type": "code",
   "execution_count": 11,
   "id": "45890f0c-47ce-4178-9572-18636257cdfe",
   "metadata": {
    "tags": []
   },
   "outputs": [
    {
     "name": "stdout",
     "output_type": "stream",
     "text": [
      "['aback', 'am', 'amok', 'arc', 'ark', 'arm', 'aroma', 'baa', 'back', 'bar', 'barb', 'barbacoa', 'bark', 'boa', 'boar', 'bob', 'bock', 'bomb', 'bra', 'bro', 'cab', 'cam', 'car', 'carob', 'carom', 'cob', 'cobra', 'coma', 'comb', 'cork', 'corm', 'crab', 'cram', 'croak', 'kabob', 'karma', 'ma', 'mac', 'macro', 'mar', 'maraca', 'mark', 'mob', 'mock', 'oak', 'oar', 'okra', 'om', 'or', 'orb', 'orc', 'rack', 'ram', 'roam', 'rob', 'rock', 'a']\n"
     ]
    }
   ],
   "source": [
    "name_dic = {ch: name.count(ch) for ch in name.lower() if ch.isalpha()}\n",
    "maden_words = [word for word in words if set(word).issubset(name_dic)]\n",
    "\n",
    "answer = []\n",
    "for word in maden_words:\n",
    "    alpha_count = 0\n",
    "    for alpha in word:\n",
    "        if alpha in name_dic.keys() and word.count(alpha) <= name_dic.get(alpha):\n",
    "            alpha_count += 1\n",
    "    if alpha_count == len(word):\n",
    "        answer.append(word)\n",
    "print(answer)"
   ]
  },
  {
   "cell_type": "code",
   "execution_count": 12,
   "id": "8dd855fe-1966-4c53-834a-6294f6217225",
   "metadata": {},
   "outputs": [
    {
     "name": "stdin",
     "output_type": "stream",
     "text": [
      " macro\n"
     ]
    },
    {
     "name": "stdout",
     "output_type": "stream",
     "text": [
      "['baa', 'a']\n"
     ]
    }
   ],
   "source": [
    "user_word = input()\n",
    "if user_word in answer:\n",
    "    for alpha in user_word:\n",
    "        name_dic[alpha] = name_dic.get(alpha)-1\n",
    "        \n",
    "answer2=[]\n",
    "\n",
    "for word in answer:\n",
    "    alpha_count = 0\n",
    "    for alpha in word:\n",
    "        if alpha in name_dic.keys() and word.count(alpha) <= name_dic.get(alpha):\n",
    "            alpha_count += 1\n",
    "    if alpha_count == len(word):\n",
    "        answer2.append(word)\n",
    "\n",
    "print(answer2)"
   ]
  },
  {
   "cell_type": "code",
   "execution_count": null,
   "id": "79ac5b6d-0d73-4c12-90eb-9b5d235f5450",
   "metadata": {},
   "outputs": [],
   "source": []
  }
 ],
 "metadata": {
  "kernelspec": {
   "display_name": "Python 3 (ipykernel)",
   "language": "python",
   "name": "python3"
  },
  "language_info": {
   "codemirror_mode": {
    "name": "ipython",
    "version": 3
   },
   "file_extension": ".py",
   "mimetype": "text/x-python",
   "name": "python",
   "nbconvert_exporter": "python",
   "pygments_lexer": "ipython3",
   "version": "3.9.7"
  }
 },
 "nbformat": 4,
 "nbformat_minor": 5
}
