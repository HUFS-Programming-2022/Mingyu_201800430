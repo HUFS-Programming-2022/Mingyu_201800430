{
 "cells": [
  {
   "cell_type": "markdown",
   "metadata": {},
   "source": [
    "# 3주차 | 3.18.2022(금)"
   ]
  },
  {
   "cell_type": "markdown",
   "metadata": {},
   "source": [
    "### 공지사항\n",
    "- 앞으로 테스트는 오늘과 같이 진행\n",
    "- 테스트 결과로 팀장 배정\n",
    "- 테스트 보충할 것들 노트에 정리해도 됨"
   ]
  },
  {
   "cell_type": "markdown",
   "metadata": {},
   "source": [
    "## CH4. 중첩조건문\n",
    "- nested conditional\n",
    "- if 블록 안에 또다른 if 블록이 있는 경우\n",
    "- 들여쓰기로 논리를 구분한다"
   ]
  },
  {
   "cell_type": "code",
   "execution_count": 5,
   "metadata": {},
   "outputs": [
    {
     "name": "stdout",
     "output_type": "stream",
     "text": [
      "Block B\n"
     ]
    }
   ],
   "source": [
    "# 안 좋은 예\n",
    "x = 0\n",
    "y = 1\n",
    "if x == y:\n",
    "  print(\"Block A\")\n",
    "else:\n",
    "  if x < y:\n",
    "    print(\"Block B\")\n",
    "  else:\n",
    "    print(\"Block C\")"
   ]
  },
  {
   "cell_type": "code",
   "execution_count": 6,
   "metadata": {},
   "outputs": [
    {
     "name": "stdout",
     "output_type": "stream",
     "text": [
      "Block C\n"
     ]
    }
   ],
   "source": [
    "# 안 좋은 예 2\n",
    "if x > 0:\n",
    "  if x < 10:\n",
    "    print(\"Block A\")\n",
    "  else:\n",
    "    print(\"Block B\")\n",
    "else:\n",
    "  print(\"Block C\")\n",
    "# 0 < x < 10을 필요 이상으로 전개함"
   ]
  },
  {
   "cell_type": "code",
   "execution_count": 7,
   "metadata": {},
   "outputs": [
    {
     "name": "stdout",
     "output_type": "stream",
     "text": [
      "block b\n"
     ]
    }
   ],
   "source": [
    "# 개선\n",
    "if x == y:\n",
    "  print('block a')\n",
    "elif x < y:\n",
    "  print('block b')\n",
    "else:\n",
    "  print('block c')"
   ]
  },
  {
   "cell_type": "code",
   "execution_count": 8,
   "metadata": {},
   "outputs": [
    {
     "name": "stdout",
     "output_type": "stream",
     "text": [
      "block b\n",
      "block b\n"
     ]
    }
   ],
   "source": [
    "# 개선2\n",
    "# 방법1\n",
    "if (x > 0) and (x < 10): #논리 연산자: 여러가지 조건을 한 줄에 넣을 수 있게 됨\n",
    "  print('block a')\n",
    "else:\n",
    "  print('block b')\n",
    "\n",
    "# 방법2 - python에서만 허용되는 문법\n",
    "if 0 < x < 10:\n",
    "  print('block a')\n",
    "else:\n",
    "  print('block b')\n",
    "# 되도록이면 방법2보다는 방법1로 써버릇 하자."
   ]
  },
  {
   "cell_type": "markdown",
   "metadata": {},
   "source": [
    "### 논리연산자\n",
    "- 비교연산자가 여러 번 사용될 때 사용하는 것\n",
    "- and, or, not\n",
    "  - A and B(A & B) : A도 참이고 B도 참일 때만 True\n",
    "  - A or B(A | B) : A 혹은 B 중에 하나만 참이라도 True\n",
    "  - not(A) : A가 False 일 때 True, True일 땐 False\n",
    "- 비교연산자의 괄호는 가독성을 위해 (optional)\n",
    "- 파이썬에서만 가능한 표현: 0 < x < 10 --> (x > 0) and (x < 10)"
   ]
  },
  {
   "cell_type": "markdown",
   "metadata": {},
   "source": [
    "### True, False\n",
    "- \"만약 a가 참이라면, ~~\"\n",
    "- a = True"
   ]
  },
  {
   "cell_type": "code",
   "execution_count": 9,
   "metadata": {},
   "outputs": [
    {
     "name": "stdout",
     "output_type": "stream",
     "text": [
      "\n"
     ]
    }
   ],
   "source": [
    "# if a == True: <- 잘못된 표현\n",
    "a = 10\n",
    "if a: # <- 맞는 표현\n",
    "  print() "
   ]
  },
  {
   "cell_type": "markdown",
   "metadata": {},
   "source": [
    "## in\n",
    "- membership operator\n",
    "- 어떤 요소가 그 안에 있는지 확인하고 싶을 때\n",
    "- 비슷한 조건이 여러번 반복될 때 사용 가능."
   ]
  },
  {
   "cell_type": "code",
   "execution_count": 10,
   "metadata": {},
   "outputs": [
    {
     "name": "stdout",
     "output_type": "stream",
     "text": [
      "No\n"
     ]
    }
   ],
   "source": [
    "letter = 'k'\n",
    "\n",
    "# letter에 모음이 있는지 확인하고 싶다 : a, e, i, o, u\n",
    "# if letter == 'a' or letter == 'e' or ...\n",
    "if letter in ['a', 'e', 'i', 'o', 'u']: # 리스트 요소에 letter와 일치하는 것이 있는지 확인\n",
    "  print(\"Yes\")\n",
    "else: \n",
    "  print(\"No\")\n"
   ]
  },
  {
   "cell_type": "code",
   "execution_count": 11,
   "metadata": {},
   "outputs": [
    {
     "name": "stdout",
     "output_type": "stream",
     "text": [
      "Yes\n"
     ]
    }
   ],
   "source": [
    "word = 'abcde'\n",
    "vowel = ['a', 'e', 'i', 'o', 'u']\n",
    "\n",
    "# word에 모음이 있는지 확인\n",
    "# print(list(word)) = ['a', 'b', 'c', 'd', 'e']\n",
    "consonant_list = list(word)\n",
    "if any(consonant in vowel for consonant in consonant_list):\n",
    "  print(\"Yes\") \n",
    "else:\n",
    "  print(\"No\")"
   ]
  },
  {
   "cell_type": "markdown",
   "metadata": {},
   "source": [
    "### + 추가 ) 문자열 리스팅하는 함수들\n",
    "1. map(함수, 자료형)\n",
    "  - 두번째 인자를 첫번째 인자 함수의 규칙에 따라 쪼개어 map객체로 리턴함. list()로 후처리해줘야 사용 가능\n",
    "2. split('구분자')\n",
    "  - ''(공백), ','(컴마), ':'(콜론) 등 여러 기준으로 쪼갤 수 있음. 리스트를 반환\n",
    "3. list()\n",
    "  - 공백을 포함해 한 문자씩 모두 나눔\n",
    "4. join('구분자')\n",
    "  - split()의 반대 기능. 구분자로 리스트 요소들을 하나의 문자열로 합침"
   ]
  },
  {
   "cell_type": "markdown",
   "metadata": {},
   "source": [
    "### 바다코끼리 연산자\n",
    "- walrus operator\n",
    "- 할당과 테스트를 동시에 하는 기능\n",
    "- :="
   ]
  },
  {
   "cell_type": "code",
   "execution_count": 12,
   "metadata": {},
   "outputs": [
    {
     "data": {
      "text/plain": [
       "'blahblahblahblahblahblahblahblahblahblahblahblahblahblahblahblahblahblahblahblahblahblahblahblahblahblahblahblahblahblahblahblahblahblahblahblahblahblahblahblahblahblahblahblahblahblahblahblahblahblah'"
      ]
     },
     "execution_count": 12,
     "metadata": {},
     "output_type": "execute_result"
    }
   ],
   "source": [
    "tweet_limit = 200\n",
    "tweet_string = \"blah\" * 50\n",
    "tweet_string"
   ]
  },
  {
   "cell_type": "code",
   "execution_count": 13,
   "metadata": {},
   "outputs": [
    {
     "name": "stdout",
     "output_type": "stream",
     "text": [
      "불가능\n"
     ]
    }
   ],
   "source": [
    "diff = tweet_limit - len(tweet_string)\n",
    "if diff > 0:\n",
    "# if diff := tweet_limit - len(tweet_string) > 0:\n",
    "  print('가능')\n",
    "else: print('불가능')"
   ]
  },
  {
   "cell_type": "markdown",
   "metadata": {},
   "source": [
    "### Quiz\n",
    "- 윤년을 구하는 코드를 짜보자\n",
    "  - 윤년의 조건 : 연도가 4로 나눠떨어지면 윤년\n",
    "  - 100으로 나눠떨어지면 안된다\n",
    "  - 400으로 나눠떨어지는건 된다\n",
    "- Year를 입력받는다.\n",
    "- '{}년은 윤년입니다' / '{}년은 윤년이 아닙니다.'"
   ]
  },
  {
   "cell_type": "code",
   "execution_count": 16,
   "metadata": {},
   "outputs": [
    {
     "name": "stdout",
     "output_type": "stream",
     "text": [
      "494년은 윤년이 아닙니다.\n",
      "494년은 윤년이 아닙니다.\n"
     ]
    }
   ],
   "source": [
    "### Quiz\n",
    "year_input = int(input())\n",
    "\n",
    "if year_input % 4 == 0:\n",
    "  if year_input % 100 == 0:\n",
    "    if year_input % 400 == 0:\n",
    "      print(f'{year_input}년은 윤년입니다.')\n",
    "    else:\n",
    "      print(f'{year_input}년은 윤년이 아닙니다.')\n",
    "  else:\n",
    "    print(f'{year_input}년은 윤년입니다.')\n",
    "else:\n",
    "  print(f'{year_input}년은 윤년이 아닙니다.')\n",
    "\n",
    "# ⬆️ 개선안 ⬇️\n",
    "if (year_input % 4 == 0) and (year_input % 100 != 0) or (year_input % 400 == 0):\n",
    "  print(f'{year_input}년은 윤년입니다.')\n",
    "else:\n",
    "    print(f'{year_input}년은 윤년이 아닙니다.')"
   ]
  },
  {
   "cell_type": "markdown",
   "metadata": {},
   "source": []
  },
  {
   "cell_type": "markdown",
   "metadata": {},
   "source": [
    "## CH5. 문자열"
   ]
  },
  {
   "cell_type": "markdown",
   "metadata": {},
   "source": [
    "### String | 문자열\n",
    "- str type\n",
    "- 시스템에서 가장 작은 단위\n",
    "- 불변적인 성격을 가짐(immutable)\n",
    "  - 'abcd' -> b를 a로 바꿀 수 없다\n",
    "- 문법: '', \"\" 감싸면 모두 문자열\n",
    "  - 예: '24'\n",
    "- ''', \"\"\" => 주석\n",
    "- 형 변환은 str()\n",
    "\n",
    "### Escape character | 이스케이프문자\n",
    "- 눈에 보이는 대로 인식되지 않는 문자열\n",
    "- 문법: \\ + <character>\n",
    "- \\n, \\t, \\b\n",
    "- print()함수 쓰지 않으면 형태가 출력은 됨.\n",
    "- '\\n' 출력은 어떻게?\n",
    "  - \\\\n\n",
    "  - r'' (raw string)\n",
    "- 문자열을 바꾸는 것이 아니라 표면 상의 형태를 말하는 것"
   ]
  },
  {
   "cell_type": "code",
   "execution_count": null,
   "metadata": {},
   "outputs": [
    {
     "name": "stdout",
     "output_type": "stream",
     "text": [
      "hello\n",
      "world\n",
      "hello\tworld\n",
      "hellworld\n",
      "hello world I'm a boy\n"
     ]
    }
   ],
   "source": [
    "print(\"hello\\nworld\")\n",
    "print(\"hello\\tworld\")\n",
    "print(\"hello\\bworld\")\n",
    "print('hello world I\\'m a boy')"
   ]
  },
  {
   "cell_type": "markdown",
   "metadata": {},
   "source": [
    "### 연산\n",
    "- concatenation (+)\n",
    "  - '' + '' => 붙이기(단, 공백 없이 붙임)\n",
    "- 복제 (*)\n",
    "  - '' * 4 => 4번 반복\n",
    "\n",
    "### Slicing\n",
    "- 지정 범위의 문자열을 추출하는 것\n",
    "- 문법: 대괄호 + 오프셋 이용 [offset]\n",
    "  - [start:end:step]\n",
    "- offset은 0부터 시작\n",
    "- start 포함, end 불포함(크거나 같고, 작다)\n",
    "- 0일 경우 생략한다\n",
    "  - 예: ~4까지 출력하라 => [:5]\n",
    "  - 처음부터 끝까지 2스텝씩 => [::2]\n",
    "  - 처음부터 끝까지 역순으로 => [::-1]\n",
    "0 1 2 3 4\n",
    "h e l l o\n",
    "-5 ... -1"
   ]
  },
  {
   "cell_type": "code",
   "execution_count": null,
   "metadata": {},
   "outputs": [
    {
     "name": "stdout",
     "output_type": "stream",
     "text": [
      "e\n",
      "hello\n",
      "hlo\n",
      "olleh\n"
     ]
    }
   ],
   "source": [
    "sent = 'hello'\n",
    "print(sent[1])\n",
    "print(sent[:5])\n",
    "print(sent[::2])\n",
    "print(sent[::-1])"
   ]
  },
  {
   "cell_type": "markdown",
   "metadata": {},
   "source": [
    "## NLTK\n",
    "- natural language toolkit\n",
    "- 교육용으로 개발된 자연어처리 패키지\n",
    "  - 자연어는 일상적으로 쓰이는 언어를 뜻하며, 주로 딥러닝과 같은 분야에서 음성 인식, 내용 요약, 사용자 감정 분석, 챗봇 등의 컴퓨터 처리 과정에서 사용된다.\n",
    "- 코퍼스(=말뭉치)를 기본 제공하는데 어떤 처리가 되어있다.\n",
    "  - 토크나이즈, 파싱, 태깅, ..."
   ]
  },
  {
   "cell_type": "code",
   "execution_count": 1,
   "metadata": {},
   "outputs": [
    {
     "data": {
      "text/plain": [
       "True"
      ]
     },
     "execution_count": 1,
     "metadata": {},
     "output_type": "execute_result"
    }
   ],
   "source": [
    "#!pip install nltk\n",
    "import nltk\n",
    "import ssl\n",
    "\n",
    "try:\n",
    "    _create_unverified_https_context = ssl._create_unverified_context\n",
    "except AttributeError:\n",
    "    pass\n",
    "else:\n",
    "    ssl._create_default_https_context = _create_unverified_https_context\n",
    "    \n",
    "nltk.download('book', quiet=True)"
   ]
  },
  {
   "cell_type": "markdown",
   "metadata": {},
   "source": [
    "### 토큰이란?\n",
    "- 프로그래밍에서 정의하는 단어\n",
    "- 자연어 문서를 분석하기 위해서는 긴 문자열을 작은 단위로 나눠야 함. 이 단위를 토큰이라고 하며 토큰으로 나누는 작업을 토큰 생성(tokenizing)이라고 함.\n",
    "- 문자열을 토큰으로 분리하는 함수를 토큰 생성 함수(tokenizer)라고 함. 리스트를 출력.\n",
    "  - \"I'm a boy.\" => I'm, I am, I 'm"
   ]
  },
  {
   "cell_type": "code",
   "execution_count": 16,
   "metadata": {},
   "outputs": [
    {
     "name": "stdout",
     "output_type": "stream",
     "text": [
      "6\n"
     ]
    }
   ],
   "source": [
    "from nltk import book\n",
    "moby = book.text1\n",
    "moby.tokens[:3] # 단어에 접근\n",
    "moby[:3]\n",
    "\n"
   ]
  },
  {
   "cell_type": "code",
   "execution_count": 19,
   "metadata": {},
   "outputs": [
    {
     "name": "stdout",
     "output_type": "stream",
     "text": [
      "260819\n",
      "19317\n"
     ]
    }
   ],
   "source": [
    "# 총 길이(단어)\n",
    "print(len(moby.tokens))\n",
    "\n",
    "# 중복되는 단어들을 걸러내는 집합 함수 set()\n",
    "print(len(set(moby.tokens)))"
   ]
  },
  {
   "cell_type": "markdown",
   "metadata": {},
   "source": [
    "- set\n",
    "  - {a, b, c, ..}\n",
    "  - 중복 불가능\n",
    "  - 수학의 집합과 동일한 개념\n",
    "  - 순서 없음\n",
    "  + 추가 )\n",
    "    - set([1, 2, 3]) => {1, 2, 3}\n",
    "    - set(\"Hello\") => {'e', 'H', 'l', 'o'}\n",
    "- list\n",
    "  - [a, b, c, ..]\n",
    "  - 중복 가능(= 요소마다 고유한 위치가 있음)"
   ]
  },
  {
   "cell_type": "code",
   "execution_count": 20,
   "metadata": {},
   "outputs": [
    {
     "data": {
      "text/plain": [
       "0.07406285585022564"
      ]
     },
     "execution_count": 20,
     "metadata": {},
     "output_type": "execute_result"
    }
   ],
   "source": [
    "# Lexical diversity : is a measure of how many different words appear in a text.\n",
    "len(set(moby.tokens)) / len(moby.tokens)"
   ]
  },
  {
   "cell_type": "code",
   "execution_count": 21,
   "metadata": {},
   "outputs": [
    {
     "data": {
      "text/plain": [
       "['kia', 'hyundai', 'genesis', 'bmw', 'audi']"
      ]
     },
     "execution_count": 21,
     "metadata": {},
     "output_type": "execute_result"
    }
   ],
   "source": [
    "# 오름차순, 내림차순 정렬\n",
    "cars = ['kia', 'audi', 'bmw', 'hyundai', 'genesis']\n",
    "sorted(cars, reverse=True)"
   ]
  },
  {
   "cell_type": "code",
   "execution_count": 22,
   "metadata": {},
   "outputs": [
    {
     "data": {
      "text/plain": [
       "['zoology', 'zones', 'zoned', 'zone', 'zodiac']"
      ]
     },
     "execution_count": 22,
     "metadata": {},
     "output_type": "execute_result"
    }
   ],
   "source": [
    "# mobydick 정렬하기\n",
    "sorted(set(moby.tokens), reverse=True)[:5]"
   ]
  },
  {
   "cell_type": "markdown",
   "metadata": {},
   "source": [
    "### Quiz 1.\n",
    "- text9에서 lexical diversity 계산하기.\n",
    "- text6에서 중복없는 셋 내림차순 정렬하기\n",
    "  - a. 앞에서 단어 10개 추출하기\n",
    "  - b. 조건문 연습: 'z'가 있으면 대문자로 바꾸기, 'z'가 없는데 4자 이상이면 끝 글자 대문자로 바꾸기\n",
    "\n",
    "### Quiz 2.\n",
    "- 주민등록번호, 휴대폰 번호, 이메일 입력받는다.\n",
    "  - 주민번호, 휴대폰은 숫자만 입력 (- 없음)\n",
    "  - 이메일은 아이디만 입력(@ 뒷부분 없음)\n",
    "- 출력:\n",
    "  - \"당신은 {}년 {}월 {}일 출생의 {남성/여성}입니다.\"\n",
    "  - 휴대폰번호: {} #하이픈으로 연결하기\n",
    "  - 이메일주소: {아이디}@gmail.com 붙여서 출력"
   ]
  },
  {
   "cell_type": "code",
   "execution_count": 66,
   "metadata": {},
   "outputs": [
    {
     "name": "stdout",
     "output_type": "stream",
     "text": [
      "text9의 lexical diversity는 0.09835입니다.\n",
      "a : ['zoosh', 'zoop', 'zoo', 'zone', 'zhiv', 'yourself', 'yours', 'your', 'young', 'you']\n",
      "b: ['Zoosh', 'Zoop', 'Zoo', 'Zone', 'Zhiv', 'yourselF', 'yourS', 'youR', 'younG', 'you']\n"
     ]
    }
   ],
   "source": [
    "### Quiz 1.\n",
    "\n",
    "thursday_man = book.text9\n",
    "lex_div = len(set(thursday_man.tokens)) / len(thursday_man.tokens)\n",
    "print(f'text9의 lexical diversity는 {round(lex_div, 5)}입니다.')\n",
    "\n",
    "monty = book.text6\n",
    "a = sorted(set(monty.tokens), reverse = True)[:10]\n",
    "print(f'a : {a}')\n",
    "\n",
    "# List Comprehension 실패\n",
    "# b = [token.upper() for token in a if token.count('z') > 0] + ...\n",
    "# print(b)\n",
    "\n",
    "for token in a:\n",
    "  i = a.index(token) # token의 인덱스\n",
    "\n",
    "  if 'z' in token:\n",
    "    cap_token = token.capitalize()\n",
    "    a[i] = cap_token # capitalize()한 문자열을 원래 자리에 재할당(수정)함\n",
    "  elif len(token) > 3:\n",
    "    lcap_token_rv = token[::-1].capitalize()\n",
    "    lcap_token = lcap_token_rv[::-1] # [::-1]를 통해 뒤집고 cap()처리 후 다시 뒤집음\n",
    "    a[i] = lcap_token\n",
    "print(f'b: {a}')"
   ]
  },
  {
   "cell_type": "code",
   "execution_count": 65,
   "metadata": {},
   "outputs": [
    {
     "name": "stdout",
     "output_type": "stream",
     "text": [
      "당신은 1999년 03월 20일 출생의 남성입니다.\n",
      "휴대폰번호: 010-6651-1539\n",
      "이메일주소: mindol0320@gmail.com\n"
     ]
    }
   ],
   "source": [
    "### Quiz 2.\n",
    "\n",
    "id_num = input(\"당신의 주민등록번호를 입력하세요(13자리, 공백이나 - 없이): \")\n",
    "phone_num = input(\"당신의 전화번호를 입력하세요(11자리, 공백아너 - 없이): \")\n",
    "email = input(\"당신의 이메일을 입력하세요(@ 뒷부분 생략): \")\n",
    "\n",
    "def year_check(id_num):\n",
    "  if int(id_num[6]) in [1, 2]:\n",
    "    birth_year = '19' + id_num[:2]\n",
    "  else: # 주민등록번호 뒷7자리 중 맨 앞 숫자가 3 또는 4 이상이 될 경우는 무시함\n",
    "    birth_year = '20' + id_num[:2]\n",
    "  return birth_year\n",
    "\n",
    "def sex_check(id_num):\n",
    "  if int(id_num[6]) % 2 == 0:\n",
    "    client_sex = '여성'\n",
    "  else:\n",
    "    client_sex = '남성'\n",
    "  return client_sex\n",
    "\n",
    "def slice_phone_num(phone_num):\n",
    "  num1 = phone_num[:3]\n",
    "  num2 = phone_num[3:7]\n",
    "  num3 = phone_num[7:]\n",
    "  new_num = '-'.join([num1, num2, num3])\n",
    "  return new_num\n",
    "\n",
    "result_year = year_check(id_num)\n",
    "result_sex = sex_check(id_num)\n",
    "result_phone = slice_phone_num(phone_num)\n",
    "\n",
    "print(f'당신은 {result_year}년 {id_num[2:4]}월 {id_num[4:6]}일 출생의 {result_sex}입니다.\\n휴대폰번호: {result_phone}\\n이메일주소: {email}@gmail.com')"
   ]
  },
  {
   "cell_type": "markdown",
   "metadata": {},
   "source": [
    "## + 추가 ) 테스트 제출 못한 것 2문제 업로드"
   ]
  },
  {
   "cell_type": "code",
   "execution_count": 5,
   "metadata": {},
   "outputs": [
    {
     "name": "stdout",
     "output_type": "stream",
     "text": [
      "9, 9, 100 중 가장 큰 수는 100입니다.\n"
     ]
    }
   ],
   "source": [
    "first_num = int(input())\n",
    "second_num = int(input())\n",
    "third_num = int(input())\n",
    "\n",
    "def biggest_num(first_num, second_num, third_num):\n",
    "    if first_num - second_num <= 0:\n",
    "        if second_num - third_num <= 0:\n",
    "            result = third_num\n",
    "        else:\n",
    "            result = second_num\n",
    "    else:\n",
    "        if first_num - third_num >= 0:\n",
    "            result = first_num\n",
    "        else:\n",
    "            result = third_num\n",
    "    return result\n",
    "\n",
    "result = biggest_num(first_num, second_num, third_num)\n",
    "print(f\"{first_num}, {second_num}, {third_num} 중 가장 큰 수는 {result}입니다.\")"
   ]
  },
  {
   "cell_type": "code",
   "execution_count": 2,
   "metadata": {},
   "outputs": [
    {
     "name": "stdout",
     "output_type": "stream",
     "text": [
      "19380\n"
     ]
    }
   ],
   "source": [
    "bytt = {'product':1300, 'cost':480, 'count':3}\n",
    "kimb = {'product':2500, 'cost':380, 'count':5}\n",
    "cola = {'product':800, 'cost':380, 'count':6}\n",
    "bnna = {'product':3200, 'cost':1050, 'count':2}\n",
    "hrunb = {'product':1500, 'cost':770, 'count':4}\n",
    "\n",
    "def calculate_earn(*prod_dicts): # *args로 1개 이상의 인자들을 콤마(,)로 이어받게 될 경우 tuple처리된다\n",
    "    total_earn = i = 0\n",
    "    for prod_dict in prod_dicts: #https://stackoverflow.com/questions/35359969/typeerror-tuple-indices-must-be-integers-not-str\n",
    "        product_earn = (prod_dict['product'] - prod_dict['cost']) * prod_dict['count']\n",
    "        total_earn += product_earn\n",
    "        if int(prod_dict['count']) >= 5:\n",
    "            i = 1 \n",
    "    if i == 1:\n",
    "        total_earn -= int(total_earn * 0.15)\n",
    "    return total_earn\n",
    "\n",
    "result = calculate_earn(bytt, kimb, cola, bnna, hrunb)\n",
    "print(result)"
   ]
  },
  {
   "cell_type": "code",
   "execution_count": null,
   "metadata": {},
   "outputs": [],
   "source": []
  }
 ],
 "metadata": {
  "interpreter": {
   "hash": "aee8b7b246df8f9039afb4144a1f6fd8d2ca17a180786b69acc140d282b71a49"
  },
  "kernelspec": {
   "display_name": "Python 3 (ipykernel)",
   "language": "python",
   "name": "python3"
  },
  "language_info": {
   "codemirror_mode": {
    "name": "ipython",
    "version": 3
   },
   "file_extension": ".py",
   "mimetype": "text/x-python",
   "name": "python",
   "nbconvert_exporter": "python",
   "pygments_lexer": "ipython3",
   "version": "3.9.7"
  }
 },
 "nbformat": 4,
 "nbformat_minor": 4
}
