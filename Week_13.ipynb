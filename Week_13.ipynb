{
 "cells": [
  {
   "cell_type": "markdown",
   "id": "c51ccd28-336b-422c-b148-7079b7ff8e37",
   "metadata": {},
   "source": [
    "# 13주차 | 6.3.2022(금)"
   ]
  },
  {
   "cell_type": "markdown",
   "id": "933df91d-06c0-4eb3-ba27-e1e93236f7c1",
   "metadata": {},
   "source": [
    "### 공지사항\n",
    "- 다음 주에 모든 점수 공개\n",
    "- 기말고사 : 비대면, 3시간 동안 프로젝트 하나 혼자서 푸는걸로."
   ]
  },
  {
   "cell_type": "markdown",
   "id": "ff9141be-41e4-4116-a9ef-35f7fc024061",
   "metadata": {},
   "source": [
    "### 함수(심화)"
   ]
  },
  {
   "cell_type": "markdown",
   "id": "1b198e88-0a88-47db-a44e-b0ef0bf892ef",
   "metadata": {},
   "source": [
    "#### 중첩함수\n",
    "- 캡슐화의 목적:\n",
    "    - 변수 범위를 제한할 수 있다.\n",
    "    - 책임이나 관리가 명확해진다."
   ]
  },
  {
   "cell_type": "code",
   "execution_count": 3,
   "id": "61248f57-de02-40ad-9902-17d005f12642",
   "metadata": {},
   "outputs": [
    {
     "data": {
      "text/plain": [
       "4"
      ]
     },
     "execution_count": 3,
     "metadata": {},
     "output_type": "execute_result"
    }
   ],
   "source": [
    "def outer(a, b):     # 외부 함수\n",
    "    def inner(c, d): # 캡슐화 : 내부 함수는 가려진다.\n",
    "        return c + d\n",
    "    return inner(a, b)\n",
    "\n",
    "outer(2, 2)"
   ]
  },
  {
   "cell_type": "code",
   "execution_count": 2,
   "id": "b1960daf-b9c9-42bf-8e2b-657ece9a5bf4",
   "metadata": {},
   "outputs": [
    {
     "ename": "NameError",
     "evalue": "name 'inner' is not defined",
     "output_type": "error",
     "traceback": [
      "\u001b[0;31m---------------------------------------------------------------------------\u001b[0m",
      "\u001b[0;31mNameError\u001b[0m                                 Traceback (most recent call last)",
      "\u001b[0;32m/var/folders/sr/hr9_jmc94fn5w1rpc2bsftf40000gn/T/ipykernel_90076/485666427.py\u001b[0m in \u001b[0;36m<module>\u001b[0;34m\u001b[0m\n\u001b[0;32m----> 1\u001b[0;31m \u001b[0minner\u001b[0m\u001b[0;34m(\u001b[0m\u001b[0;36m2\u001b[0m\u001b[0;34m,\u001b[0m \u001b[0;36m2\u001b[0m\u001b[0;34m)\u001b[0m \u001b[0;31m# error => 선언한 적 없다.\u001b[0m\u001b[0;34m\u001b[0m\u001b[0;34m\u001b[0m\u001b[0m\n\u001b[0m",
      "\u001b[0;31mNameError\u001b[0m: name 'inner' is not defined"
     ]
    }
   ],
   "source": [
    "inner(2, 2) # error => 선언한 적 없다."
   ]
  },
  {
   "cell_type": "code",
   "execution_count": 5,
   "id": "f22ca341-b9bc-472f-b0fc-30ef235dd944",
   "metadata": {},
   "outputs": [
    {
     "data": {
      "text/plain": [
       "'we are the knights who say: Ni!'"
      ]
     },
     "execution_count": 5,
     "metadata": {},
     "output_type": "execute_result"
    }
   ],
   "source": [
    "def knights(saying):\n",
    "    def inner(quote):\n",
    "        return f'we are the knights who say: {quote}'\n",
    "    return inner(saying)\n",
    "\n",
    "case1 = knights('Ni!')\n",
    "case1"
   ]
  },
  {
   "cell_type": "markdown",
   "id": "c3f3be7a-bd23-44c5-80dc-a3beddbb4862",
   "metadata": {},
   "source": [
    "#### 클로저\n",
    "- 자신을 둘러싼 scope(name space)의 상태값을 기억하는 함수.\n",
    "- 호출하기 전까지는 메모리에 올라가지 않기 때문에 효율적으로 사용 가능함\n",
    "- 조건\n",
    "    - 중첩함수여야 함\n",
    "    - 외부함수의 상태값을 참조해야 함\n",
    "    - 외부함수가 내부함수를 반환해야 함"
   ]
  },
  {
   "cell_type": "code",
   "execution_count": 30,
   "id": "3847ef5e-a08f-456e-913c-1743c5c23191",
   "metadata": {},
   "outputs": [
    {
     "data": {
      "text/plain": [
       "<function __main__.multiply(x)>"
      ]
     },
     "execution_count": 30,
     "metadata": {},
     "output_type": "execute_result"
    }
   ],
   "source": [
    "def multiply(x):  # 클로저(closure)\n",
    "    def inner(y):\n",
    "        return x * y\n",
    "    return inner # 괄호가 없어서 실행되기 전임\n",
    "\n",
    "multiply"
   ]
  },
  {
   "cell_type": "code",
   "execution_count": 10,
   "id": "65d17144-3910-4f5f-9914-ad4b0865e1f8",
   "metadata": {},
   "outputs": [
    {
     "data": {
      "text/plain": [
       "30"
      ]
     },
     "execution_count": 10,
     "metadata": {},
     "output_type": "execute_result"
    }
   ],
   "source": [
    "m5 = multiply(5) # x = 5\n",
    "m6 = multiply(6) # x = 6\n",
    "m5(6)"
   ]
  },
  {
   "cell_type": "code",
   "execution_count": 11,
   "id": "96a2156d-d259-4421-aa3f-383484a9d414",
   "metadata": {},
   "outputs": [
    {
     "ename": "NameError",
     "evalue": "name 'multiply' is not defined",
     "output_type": "error",
     "traceback": [
      "\u001b[0;31m---------------------------------------------------------------------------\u001b[0m",
      "\u001b[0;31mNameError\u001b[0m                                 Traceback (most recent call last)",
      "\u001b[0;32m/var/folders/sr/hr9_jmc94fn5w1rpc2bsftf40000gn/T/ipykernel_90076/696810967.py\u001b[0m in \u001b[0;36m<module>\u001b[0;34m\u001b[0m\n\u001b[1;32m      1\u001b[0m \u001b[0;32mdel\u001b[0m\u001b[0;34m(\u001b[0m\u001b[0mmultiply\u001b[0m\u001b[0;34m)\u001b[0m\u001b[0;34m\u001b[0m\u001b[0;34m\u001b[0m\u001b[0m\n\u001b[0;32m----> 2\u001b[0;31m \u001b[0mmultiply\u001b[0m\u001b[0;34m\u001b[0m\u001b[0;34m\u001b[0m\u001b[0m\n\u001b[0m",
      "\u001b[0;31mNameError\u001b[0m: name 'multiply' is not defined"
     ]
    }
   ],
   "source": [
    "del(multiply)\n",
    "multiply"
   ]
  },
  {
   "cell_type": "markdown",
   "id": "470f7d65-906d-4492-85a4-49f8695f275e",
   "metadata": {
    "tags": []
   },
   "source": [
    "#### 데코레이터\n",
    "- 메인 함수에 또 다른 함수를 데코레이터로 선언하여 사용할 수 있음.\n",
    "- 목적:\n",
    "    - 재사용, 가독성, 직관적임"
   ]
  },
  {
   "cell_type": "code",
   "execution_count": 25,
   "id": "e46242a1-29e1-4c50-948a-a61f6be78efd",
   "metadata": {},
   "outputs": [],
   "source": [
    "def document_it(func):\n",
    "    def new_func(*args, **kargs):\n",
    "        print('arguments: ', *args)\n",
    "        print('key arguments: ', kargs)\n",
    "        return func(*args, **kargs)\n",
    "    return new_func\n",
    "\n",
    "@document_it\n",
    "def add(a, b):\n",
    "    return a + b\n",
    "\n",
    "@document_it\n",
    "def subtract(a, b):\n",
    "    return a - b"
   ]
  },
  {
   "cell_type": "code",
   "execution_count": 26,
   "id": "d7f26453-a7e8-4a37-82e6-fda842982aac",
   "metadata": {},
   "outputs": [
    {
     "name": "stdout",
     "output_type": "stream",
     "text": [
      "arguments:  1 3\n",
      "key arguments:  {}\n"
     ]
    },
    {
     "data": {
      "text/plain": [
       "4"
      ]
     },
     "execution_count": 26,
     "metadata": {},
     "output_type": "execute_result"
    }
   ],
   "source": [
    "add(1, 3)"
   ]
  },
  {
   "cell_type": "markdown",
   "id": "4ca42e9b-9e24-429a-8227-a390378d3197",
   "metadata": {},
   "source": [
    "#### add를 활용할 중첩함수 만들기\n",
    "- 결과값의 제곱 값을 반환하는 클로저 함수 만들기"
   ]
  },
  {
   "cell_type": "code",
   "execution_count": 32,
   "id": "46c3df5c-b8ca-4ac6-9925-3139bb87f66c",
   "metadata": {},
   "outputs": [
    {
     "data": {
      "text/plain": [
       "49"
      ]
     },
     "execution_count": 32,
     "metadata": {},
     "output_type": "execute_result"
    }
   ],
   "source": [
    "def square(func):\n",
    "    def inner(*args):\n",
    "        result = func(*args)\n",
    "        return result * result\n",
    "    return inner\n",
    "\n",
    "@square\n",
    "def add(a, b):\n",
    "    return a + b\n",
    "    \n",
    "add(2, 5)"
   ]
  },
  {
   "cell_type": "code",
   "execution_count": 35,
   "id": "4b76f375-efc4-42d5-ad30-21291efeace5",
   "metadata": {},
   "outputs": [],
   "source": [
    "# 전역(global)\n",
    "a = 4\n",
    "def square(func):\n",
    "    # 지역(local)\n",
    "    def inner(*args):\n",
    "        # 지역 내의 지역?\n",
    "        result = func(*args)\n",
    "        return result * result\n",
    "    return inner"
   ]
  },
  {
   "cell_type": "markdown",
   "id": "3e4b1d1d-2279-44a2-be7b-2a94997db241",
   "metadata": {},
   "source": [
    "#### scope: global, local, nonlocal\n",
    "- 내부함수는 외부함수의 인자를 '참조'만 할 수 있다(읽기만 가능).\n",
    "- nonlocal 예약어를 활용해서 쓰기도 가능하게 할 수 있다"
   ]
  },
  {
   "cell_type": "code",
   "execution_count": 4,
   "id": "7b562628-777a-47bc-816b-67a4bfc10f20",
   "metadata": {},
   "outputs": [
    {
     "data": {
      "text/plain": [
       "1001"
      ]
     },
     "execution_count": 4,
     "metadata": {},
     "output_type": "execute_result"
    }
   ],
   "source": [
    "z = 3\n",
    "def outer(x):\n",
    "    y = 4\n",
    "    def inner(): # 기본적으로 외부 함수의 인자를 참조함. 참조한다는 뜻이 읽고 볼 수는 있지만 가져다 쓰는건 안된다는 뜻\n",
    "        x = 1000\n",
    "        x += 1\n",
    "        return x # 1000\n",
    "    return inner() # return x가 아니라 inner를 반환하면 x = 1000. inner를 마지막에 탔으니까\n",
    "\n",
    "outer(10)"
   ]
  },
  {
   "cell_type": "code",
   "execution_count": 2,
   "id": "14b98ae7-e668-4753-b810-4ce7b1f9ada8",
   "metadata": {},
   "outputs": [
    {
     "data": {
      "text/plain": [
       "11"
      ]
     },
     "execution_count": 2,
     "metadata": {},
     "output_type": "execute_result"
    }
   ],
   "source": [
    "z = 3\n",
    "def outer(x):\n",
    "    y = 4\n",
    "    def inner(): # 기본적으로 외부 함수의 인자를 참조함. 참조한다는 뜻이 읽고 볼 수는 있지만 가져다 쓰는건 안된다는 뜻\n",
    "        nonlocal x # 참조만 하던 외부 함수의 인자를 직접 가져와서 쓰겠다는 선언\n",
    "        # x = 1000\n",
    "        x += 1\n",
    "        return x # 1000\n",
    "    return inner() # return x가 아니라 inner를 반환하면 x = 1000. inner를 마지막에 탔으니까\n",
    "\n",
    "outer(10)"
   ]
  },
  {
   "cell_type": "code",
   "execution_count": 44,
   "id": "e5a5b07d-5831-43b7-a156-ac301ab51f9e",
   "metadata": {},
   "outputs": [
    {
     "data": {
      "text/plain": [
       "[1, 2, 3, 6, 12, 24]"
      ]
     },
     "execution_count": 44,
     "metadata": {},
     "output_type": "execute_result"
    }
   ],
   "source": [
    "def my_func(nums:list): # 가변인자 -> 리턴 없어도 리턴을 얻음.\n",
    "    # 별로 좋지 않은 함수. 문서화를 해서 사용자가 알 수 있게 해야 함\n",
    "    nums.append(sum(nums)) \n",
    "    \n",
    "a = [1, 2, 3]\n",
    "my_func(a)\n",
    "my_func(a)\n",
    "my_func(a)\n",
    "a"
   ]
  },
  {
   "cell_type": "markdown",
   "id": "73056522-467a-4d58-8bca-dafec30a5ca5",
   "metadata": {},
   "source": [
    "### 실습\n",
    "1. 함수 : 차 속도, 제한 속도를 비교해서 true/false\n",
    "2. 데코레이터 함수\n",
    "- 만약 제한 속도를 초과했다면 얼마나 초과했는지 프린트하는 함수\n",
    "- 예: 100, 80\n",
    "- \"20 km/h 초과\""
   ]
  },
  {
   "cell_type": "code",
   "execution_count": 62,
   "id": "0d6d533d-e540-4cdc-bbf8-c4a866fa0042",
   "metadata": {},
   "outputs": [],
   "source": [
    "def check_velocity(func):\n",
    "    def inner(*args):\n",
    "        a, b = func(*args)\n",
    "        return a > b\n",
    "    return inner\n",
    "\n",
    "@check_velocity\n",
    "def alert(car_velocity, limit):\n",
    "    if car_velocity > limit:\n",
    "        print(f'{car_velocity - limit}km/h 초과')\n",
    "    return car_velocity, limit"
   ]
  },
  {
   "cell_type": "code",
   "execution_count": 63,
   "id": "8c9b2304-6e62-428f-8f49-32c57822a376",
   "metadata": {},
   "outputs": [
    {
     "name": "stdout",
     "output_type": "stream",
     "text": [
      "20km/h 초과\n"
     ]
    },
    {
     "data": {
      "text/plain": [
       "True"
      ]
     },
     "execution_count": 63,
     "metadata": {},
     "output_type": "execute_result"
    }
   ],
   "source": [
    "alert(100, 80)"
   ]
  },
  {
   "cell_type": "code",
   "execution_count": 68,
   "id": "93e64bce-8dde-44fb-b561-9558339b6edd",
   "metadata": {},
   "outputs": [],
   "source": [
    "def calc_speed(func):\n",
    "    def inner(speed, limit):\n",
    "        if func(speed, limit):\n",
    "            return f'초과 속도: {speed - limit}km/h'\n",
    "        else: return f'정상 속도'\n",
    "    return inner"
   ]
  },
  {
   "cell_type": "code",
   "execution_count": 69,
   "id": "d0f7455a-b9a2-4de8-a076-f9c403cb8e86",
   "metadata": {},
   "outputs": [
    {
     "data": {
      "text/plain": [
       "'초과 속도: 20km/h'"
      ]
     },
     "execution_count": 69,
     "metadata": {},
     "output_type": "execute_result"
    }
   ],
   "source": [
    "@calc_speed\n",
    "def is_speeding(speed, limit):\n",
    "    return speed > limit\n",
    "\n",
    "is_speeding(100, 80)"
   ]
  },
  {
   "cell_type": "markdown",
   "id": "87f6f036-81ea-4e80-81c8-5fb70409604d",
   "metadata": {},
   "source": [
    "#### 제너레이터\n",
    "- return 안쓰고 yield를 쓴다\n",
    "- 순회의 리턴값을 하나씩 반환\n",
    "- 시퀀스를 생성하는 객체\n",
    "- 메모리 효율성 증대(한 번 쓰고 없어짐)"
   ]
  },
  {
   "cell_type": "code",
   "execution_count": 72,
   "id": "1a0525cf-f50a-4d4f-b4ea-1e778aa7c1f7",
   "metadata": {},
   "outputs": [],
   "source": [
    "def lamb():\n",
    "    for i in range(5):\n",
    "        yield i"
   ]
  },
  {
   "cell_type": "code",
   "execution_count": 77,
   "id": "5781cdbc-d5cf-41ee-b376-5aa26c4b41d7",
   "metadata": {},
   "outputs": [],
   "source": [
    "names = 'Kevin Michael Juliette Laura'.split()\n",
    "def printing(name_list:list):\n",
    "    for name in name_list:\n",
    "        yield name\n",
    "\n",
    "name_list = printing(names)"
   ]
  },
  {
   "cell_type": "code",
   "execution_count": 76,
   "id": "64776f45-90a3-4d1c-af44-d251fbb11cb9",
   "metadata": {},
   "outputs": [
    {
     "name": "stdout",
     "output_type": "stream",
     "text": [
      "Kevin\n",
      "Michael\n",
      "Juliette\n",
      "Laura\n"
     ]
    }
   ],
   "source": [
    "for i in printing(names): # 계속 선언해주면 문제 없이 돌아가지만\n",
    "    print(i)"
   ]
  },
  {
   "cell_type": "code",
   "execution_count": 80,
   "id": "dab64d63-d5bd-4454-8bb0-0c9b698955ae",
   "metadata": {},
   "outputs": [],
   "source": [
    "for i in name_list: # 변수에 할당하고 그 변수를 돌려보면 한 번 밖에 실행되지 않는다는 걸 볼 수 있다\n",
    "    print(i)"
   ]
  },
  {
   "cell_type": "code",
   "execution_count": 95,
   "id": "ab972cd5-2126-41c1-8cbe-05f66726da67",
   "metadata": {},
   "outputs": [],
   "source": [
    "# 실습: range 함수 구현하기\n",
    "def my_range(start, end, step = 1):\n",
    "    # length = (end - start) // step\n",
    "    while start < end: # length > 0\n",
    "        yield start\n",
    "        start += step\n",
    "        # length -= 1\n",
    "\n",
    "ranger = my_range(0, 10)"
   ]
  },
  {
   "cell_type": "code",
   "execution_count": 96,
   "id": "f1a9f6a3-1e55-4cf5-ad74-6329c1474d95",
   "metadata": {},
   "outputs": [
    {
     "name": "stdout",
     "output_type": "stream",
     "text": [
      "0\n",
      "2\n",
      "4\n",
      "6\n",
      "8\n"
     ]
    }
   ],
   "source": [
    "for i in my_range(0, 10, 2):\n",
    "    print(i)"
   ]
  },
  {
   "cell_type": "code",
   "execution_count": 97,
   "id": "f5debf67-c9a6-46f2-85c5-bcf50d0662fe",
   "metadata": {},
   "outputs": [
    {
     "data": {
      "text/plain": [
       "[0, 1, 2, 3, 4, 5, 6, 7, 8, 9]"
      ]
     },
     "execution_count": 97,
     "metadata": {},
     "output_type": "execute_result"
    }
   ],
   "source": [
    "[i for i in range(10)]"
   ]
  },
  {
   "cell_type": "code",
   "execution_count": 99,
   "id": "69c47575-44ee-4a11-a0b2-bd74cc1ba6dc",
   "metadata": {},
   "outputs": [],
   "source": [
    "ranger = (i for i in range(10)) # <generator object <genexpr> at 0x7f8589c370b0>"
   ]
  },
  {
   "cell_type": "code",
   "execution_count": 100,
   "id": "110a7545-8b9b-493a-8343-431804d78c46",
   "metadata": {},
   "outputs": [
    {
     "name": "stdout",
     "output_type": "stream",
     "text": [
      "K0\n",
      "K1\n",
      "K2\n",
      "K3\n",
      "K4\n",
      "K5\n",
      "K6\n",
      "K7\n",
      "K8\n",
      "K9\n"
     ]
    }
   ],
   "source": [
    "for i in ranger:\n",
    "    print(f'K{i}')"
   ]
  },
  {
   "cell_type": "markdown",
   "id": "221756bf-e806-4418-a27e-b0e66dd89759",
   "metadata": {},
   "source": [
    "#### 재귀함수\n",
    "- 자기 자신을 호출하는 함수\n",
    "- 재귀가 너무 깊어지면 예외 발생. 주의해야 함\n",
    "- [[[a, b]], [[[a, b, c], b], b, c]]\n",
    "    => 모든 요소의 차원을 단일화시킬 때\n",
    "    [a, b, a, b, c, ...]"
   ]
  },
  {
   "cell_type": "code",
   "execution_count": 101,
   "id": "0edafa95-3737-49e4-b5e0-7ddd8720f81b",
   "metadata": {},
   "outputs": [
    {
     "data": {
      "text/plain": [
       "<generator object flatten at 0x7f8589c37430>"
      ]
     },
     "execution_count": 101,
     "metadata": {},
     "output_type": "execute_result"
    }
   ],
   "source": [
    "def flatten(sent):\n",
    "    for word in sent:\n",
    "        if isinstance(word, list):\n",
    "            # 리스트가 맞다면\n",
    "            for sub_word in flatten(word): # 계속 쓸 필요 없이 flatten(word)를 불러와서 사용\n",
    "                yield sub_word\n",
    "        else:\n",
    "            yield word\n",
    "\n",
    "a = [1, 2, [2, 3, 4], [[[1, 2]]]]\n",
    "flatten(a)"
   ]
  },
  {
   "cell_type": "code",
   "execution_count": 102,
   "id": "25e1d41c-7738-4f20-9bb6-a0bf70c0f040",
   "metadata": {},
   "outputs": [
    {
     "data": {
      "text/plain": [
       "False"
      ]
     },
     "execution_count": 102,
     "metadata": {},
     "output_type": "execute_result"
    }
   ],
   "source": [
    "isinstance('word', int)"
   ]
  },
  {
   "cell_type": "code",
   "execution_count": 103,
   "id": "9ee31673-2447-474b-b511-3ad3c18513a3",
   "metadata": {},
   "outputs": [
    {
     "name": "stdout",
     "output_type": "stream",
     "text": [
      "1\n",
      "2\n",
      "2\n",
      "3\n",
      "4\n",
      "1\n",
      "2\n"
     ]
    }
   ],
   "source": [
    "for i in flatten(a):\n",
    "    print(i)"
   ]
  },
  {
   "cell_type": "code",
   "execution_count": 104,
   "id": "6c135e81-c2c5-4e34-b095-9966ac191e6f",
   "metadata": {},
   "outputs": [],
   "source": [
    "def flatten(sent):\n",
    "    for word in sent:\n",
    "        if isinstance(word, list):\n",
    "            # 리스트가 맞다면\n",
    "            #for sub_word in flatten(word): # 계속 쓸 필요 없이 flatten(word)를 불러와서 사용\n",
    "            #   yield sub_word\n",
    "            yield from flatten(word) # python 3.3이상이면 위 for문을 한 줄로 압축할 수 있음.\n",
    "        else:\n",
    "            yield word"
   ]
  },
  {
   "cell_type": "markdown",
   "id": "a5b0ed16-7161-4085-95ab-75ddc76b3d5f",
   "metadata": {},
   "source": [
    "### 예외처리 | exception handling\n",
    "- 프로그램 동작 중 예외가 발생했을 때 대처하기 위함\n",
    "- 사용자에게 예외를 알리고, 원하는 조치를 설정한다.\n",
    "- 프로그램이 정상적으로 종료될 수 있다."
   ]
  },
  {
   "cell_type": "code",
   "execution_count": 113,
   "id": "a683620c-7ba0-4f65-b945-875542ec2cdd",
   "metadata": {},
   "outputs": [],
   "source": [
    "# 대표적인 에러들\n",
    "# 5 / 0 : division by zero\n",
    "# a = [1, 2, 3], a[5] # list out of index\n",
    "# int('hello') # invalid literal\n",
    "# k += 1 # not defined"
   ]
  },
  {
   "cell_type": "code",
   "execution_count": 114,
   "id": "42caa8e7-5eb8-4e01-9556-de3fd9f3f382",
   "metadata": {},
   "outputs": [
    {
     "name": "stdout",
     "output_type": "stream",
     "text": [
      "0으로 나눌 수 없음\n"
     ]
    }
   ],
   "source": [
    "try:\n",
    "    # 예외가 발생할 수도 있는 코드 블럭\n",
    "    5 / 0\n",
    "except ZeroDivisionError:\n",
    "    # 에외 발생 시 행할 행동\n",
    "    print('0으로 나눌 수 없음')"
   ]
  },
  {
   "cell_type": "code",
   "execution_count": 117,
   "id": "528235f8-e311-4026-abb9-e404ff23b002",
   "metadata": {},
   "outputs": [
    {
     "name": "stdout",
     "output_type": "stream",
     "text": [
      "0으로 나눌 수 없음\n"
     ]
    }
   ],
   "source": [
    "try: # try, except를 잘 써야하는 이유 : 범위에 따라 나머지 출력 값이 통째로 안나올 수도 있음.\n",
    "    for i in range(10):\n",
    "        print(10 / i)\n",
    "except ZeroDivisionError:\n",
    "    print('0으로 나눌 수 없음')"
   ]
  },
  {
   "cell_type": "code",
   "execution_count": 118,
   "id": "e34f8d4e-806a-463c-942a-9c3579b58f2e",
   "metadata": {},
   "outputs": [
    {
     "name": "stdout",
     "output_type": "stream",
     "text": [
      "0으로 나눌 수 없음\n",
      "10.0\n",
      "5.0\n",
      "3.3333333333333335\n",
      "2.5\n",
      "2.0\n",
      "1.6666666666666667\n",
      "1.4285714285714286\n",
      "1.25\n",
      "1.1111111111111112\n"
     ]
    }
   ],
   "source": [
    "for i in range(10):\n",
    "    try:\n",
    "        print(10 / i)\n",
    "    except ZeroDivisionError:\n",
    "        print('0으로 나눌 수 없음')"
   ]
  },
  {
   "cell_type": "code",
   "execution_count": 121,
   "id": "467433a5-302a-4b84-85ff-1852932fdd83",
   "metadata": {},
   "outputs": [
    {
     "name": "stdin",
     "output_type": "stream",
     "text": [
      "인덱스를 입력하세요 >>  q\n"
     ]
    }
   ],
   "source": [
    "word = 'hello'\n",
    "while True:\n",
    "    index = input('인덱스를 입력하세요 >> ')\n",
    "    if index == 'q':\n",
    "        break\n",
    "    try:\n",
    "        index = int(index) # valueError, IndexError\n",
    "        print(word[index])\n",
    "    except ValueError as er1: # 예외 핸들러\n",
    "        print(er1) # 에러 메시지\n",
    "    except IndexError as er2:\n",
    "        print(er2)"
   ]
  },
  {
   "cell_type": "markdown",
   "id": "4b4dc4f8-6ef5-4e42-8264-b58f2a110743",
   "metadata": {},
   "source": [
    "#### 예외 일으키기\n",
    "- 프로그램을 강제 종료시키기 위해 사용함\n",
    "- raise, assert\n",
    "- AssertionError"
   ]
  },
  {
   "cell_type": "code",
   "execution_count": 123,
   "id": "976ef4f8-fa5d-481c-a43f-13400dc3f482",
   "metadata": {},
   "outputs": [
    {
     "name": "stdin",
     "output_type": "stream",
     "text": [
      "숫자>>  d\n"
     ]
    },
    {
     "ename": "ValueError",
     "evalue": "숫자가 아닙니다!",
     "output_type": "error",
     "traceback": [
      "\u001b[0;31m---------------------------------------------------------------------------\u001b[0m",
      "\u001b[0;31mValueError\u001b[0m                                Traceback (most recent call last)",
      "\u001b[0;32m/var/folders/sr/hr9_jmc94fn5w1rpc2bsftf40000gn/T/ipykernel_90076/1475971809.py\u001b[0m in \u001b[0;36m<module>\u001b[0;34m\u001b[0m\n\u001b[1;32m      2\u001b[0m     \u001b[0mnum\u001b[0m \u001b[0;34m=\u001b[0m \u001b[0minput\u001b[0m\u001b[0;34m(\u001b[0m\u001b[0;34m'숫자>> '\u001b[0m\u001b[0;34m)\u001b[0m\u001b[0;34m\u001b[0m\u001b[0;34m\u001b[0m\u001b[0m\n\u001b[1;32m      3\u001b[0m     \u001b[0;32mif\u001b[0m \u001b[0;32mnot\u001b[0m \u001b[0mnum\u001b[0m\u001b[0;34m.\u001b[0m\u001b[0misdigit\u001b[0m\u001b[0;34m(\u001b[0m\u001b[0;34m)\u001b[0m\u001b[0;34m:\u001b[0m\u001b[0;34m\u001b[0m\u001b[0;34m\u001b[0m\u001b[0m\n\u001b[0;32m----> 4\u001b[0;31m         \u001b[0;32mraise\u001b[0m \u001b[0mValueError\u001b[0m\u001b[0;34m(\u001b[0m\u001b[0;34m'숫자가 아닙니다!'\u001b[0m\u001b[0;34m)\u001b[0m\u001b[0;34m\u001b[0m\u001b[0;34m\u001b[0m\u001b[0m\n\u001b[0m\u001b[1;32m      5\u001b[0m     \u001b[0;32melse\u001b[0m\u001b[0;34m:\u001b[0m\u001b[0;34m\u001b[0m\u001b[0;34m\u001b[0m\u001b[0m\n\u001b[1;32m      6\u001b[0m         \u001b[0mprint\u001b[0m\u001b[0;34m(\u001b[0m\u001b[0mint\u001b[0m\u001b[0;34m(\u001b[0m\u001b[0mnum\u001b[0m\u001b[0;34m)\u001b[0m \u001b[0;34m+\u001b[0m \u001b[0;36m5\u001b[0m\u001b[0;34m)\u001b[0m\u001b[0;34m\u001b[0m\u001b[0;34m\u001b[0m\u001b[0m\n",
      "\u001b[0;31mValueError\u001b[0m: 숫자가 아닙니다!"
     ]
    }
   ],
   "source": [
    "while True:\n",
    "    num = input('숫자>> ')\n",
    "    if not num.isdigit():\n",
    "        raise ValueError('숫자가 아닙니다!')\n",
    "    else:\n",
    "        print(int(num) + 5)"
   ]
  },
  {
   "cell_type": "markdown",
   "id": "3898e4f8-8228-4504-80fd-85746d8fbab0",
   "metadata": {},
   "source": [
    "assert <참인 조건>, <False일 경우 내보낼 메시지>"
   ]
  },
  {
   "cell_type": "code",
   "execution_count": 125,
   "id": "56146c5b-04bc-442a-9bb3-43fb698307ef",
   "metadata": {},
   "outputs": [
    {
     "ename": "AssertionError",
     "evalue": "정수 아님",
     "output_type": "error",
     "traceback": [
      "\u001b[0;31m---------------------------------------------------------------------------\u001b[0m",
      "\u001b[0;31mAssertionError\u001b[0m                            Traceback (most recent call last)",
      "\u001b[0;32m/var/folders/sr/hr9_jmc94fn5w1rpc2bsftf40000gn/T/ipykernel_90076/2294291567.py\u001b[0m in \u001b[0;36m<module>\u001b[0;34m\u001b[0m\n\u001b[1;32m      3\u001b[0m     \u001b[0;32mreturn\u001b[0m \u001b[0mbin\u001b[0m\u001b[0;34m(\u001b[0m\u001b[0mnum\u001b[0m\u001b[0;34m)\u001b[0m\u001b[0;34m\u001b[0m\u001b[0;34m\u001b[0m\u001b[0m\n\u001b[1;32m      4\u001b[0m \u001b[0;34m\u001b[0m\u001b[0m\n\u001b[0;32m----> 5\u001b[0;31m \u001b[0mget_binary\u001b[0m\u001b[0;34m(\u001b[0m\u001b[0;34m'10'\u001b[0m\u001b[0;34m)\u001b[0m\u001b[0;34m\u001b[0m\u001b[0;34m\u001b[0m\u001b[0m\n\u001b[0m",
      "\u001b[0;32m/var/folders/sr/hr9_jmc94fn5w1rpc2bsftf40000gn/T/ipykernel_90076/2294291567.py\u001b[0m in \u001b[0;36mget_binary\u001b[0;34m(num)\u001b[0m\n\u001b[1;32m      1\u001b[0m \u001b[0;32mdef\u001b[0m \u001b[0mget_binary\u001b[0m\u001b[0;34m(\u001b[0m\u001b[0mnum\u001b[0m\u001b[0;34m)\u001b[0m\u001b[0;34m:\u001b[0m\u001b[0;34m\u001b[0m\u001b[0;34m\u001b[0m\u001b[0m\n\u001b[0;32m----> 2\u001b[0;31m     \u001b[0;32massert\u001b[0m \u001b[0misinstance\u001b[0m\u001b[0;34m(\u001b[0m\u001b[0mnum\u001b[0m\u001b[0;34m,\u001b[0m \u001b[0mint\u001b[0m\u001b[0;34m)\u001b[0m\u001b[0;34m,\u001b[0m \u001b[0;34m'정수 아님'\u001b[0m\u001b[0;34m\u001b[0m\u001b[0;34m\u001b[0m\u001b[0m\n\u001b[0m\u001b[1;32m      3\u001b[0m     \u001b[0;32mreturn\u001b[0m \u001b[0mbin\u001b[0m\u001b[0;34m(\u001b[0m\u001b[0mnum\u001b[0m\u001b[0;34m)\u001b[0m\u001b[0;34m\u001b[0m\u001b[0;34m\u001b[0m\u001b[0m\n\u001b[1;32m      4\u001b[0m \u001b[0;34m\u001b[0m\u001b[0m\n\u001b[1;32m      5\u001b[0m \u001b[0mget_binary\u001b[0m\u001b[0;34m(\u001b[0m\u001b[0;34m'10'\u001b[0m\u001b[0;34m)\u001b[0m\u001b[0;34m\u001b[0m\u001b[0;34m\u001b[0m\u001b[0m\n",
      "\u001b[0;31mAssertionError\u001b[0m: 정수 아님"
     ]
    }
   ],
   "source": [
    "def get_binary(num):\n",
    "    assert isinstance(num, int), '정수 아님'\n",
    "    return bin(num)\n",
    "\n",
    "get_binary('10')"
   ]
  },
  {
   "cell_type": "markdown",
   "id": "e5195f8e-c8ff-464e-86ca-e2de20d5cb18",
   "metadata": {},
   "source": [
    "### 사용자 정의 예외 타입\n",
    "- class 선언, Exception 클래스를 상속 받는다."
   ]
  },
  {
   "cell_type": "code",
   "execution_count": 126,
   "id": "49d953ca-1693-4225-ac8a-a2060f9230cd",
   "metadata": {},
   "outputs": [],
   "source": [
    "class MyException(Exception):\n",
    "    pass"
   ]
  },
  {
   "cell_type": "code",
   "execution_count": 130,
   "id": "d370e660-7bbd-4638-b2bf-455a82fdc3f2",
   "metadata": {},
   "outputs": [],
   "source": [
    "class UppercaseException(Exception):\n",
    "    def __init__(self):\n",
    "        super().__init__('대문자 안된다구')"
   ]
  },
  {
   "cell_type": "code",
   "execution_count": 131,
   "id": "a2e2f6e7-e063-401e-abaf-c232e71396a3",
   "metadata": {},
   "outputs": [
    {
     "name": "stdout",
     "output_type": "stream",
     "text": [
      "dublin\n",
      "neyword\n",
      "seoul\n"
     ]
    },
    {
     "ename": "UppercaseException",
     "evalue": "대문자 안된다구",
     "output_type": "error",
     "traceback": [
      "\u001b[0;31m---------------------------------------------------------------------------\u001b[0m",
      "\u001b[0;31mUppercaseException\u001b[0m                        Traceback (most recent call last)",
      "\u001b[0;32m/var/folders/sr/hr9_jmc94fn5w1rpc2bsftf40000gn/T/ipykernel_90076/1289951760.py\u001b[0m in \u001b[0;36m<module>\u001b[0;34m\u001b[0m\n\u001b[1;32m      4\u001b[0m     \u001b[0;32mif\u001b[0m \u001b[0mcity\u001b[0m\u001b[0;34m.\u001b[0m\u001b[0misupper\u001b[0m\u001b[0;34m(\u001b[0m\u001b[0;34m)\u001b[0m\u001b[0;34m:\u001b[0m\u001b[0;34m\u001b[0m\u001b[0;34m\u001b[0m\u001b[0m\n\u001b[1;32m      5\u001b[0m         \u001b[0;31m#raise MyException('대문자 안됨')\u001b[0m\u001b[0;34m\u001b[0m\u001b[0;34m\u001b[0m\u001b[0m\n\u001b[0;32m----> 6\u001b[0;31m         \u001b[0;32mraise\u001b[0m \u001b[0mUppercaseException\u001b[0m\u001b[0;34m\u001b[0m\u001b[0;34m\u001b[0m\u001b[0m\n\u001b[0m\u001b[1;32m      7\u001b[0m     \u001b[0;32melse\u001b[0m\u001b[0;34m:\u001b[0m \u001b[0mprint\u001b[0m\u001b[0;34m(\u001b[0m\u001b[0mcity\u001b[0m\u001b[0;34m)\u001b[0m\u001b[0;34m\u001b[0m\u001b[0;34m\u001b[0m\u001b[0m\n",
      "\u001b[0;31mUppercaseException\u001b[0m: 대문자 안된다구"
     ]
    }
   ],
   "source": [
    "cities = 'dublin neyword seoul TOKYO'.split()\n",
    "\n",
    "for city in cities:\n",
    "    if city.isupper():\n",
    "        #raise MyException('대문자 안됨')\n",
    "        raise UppercaseException\n",
    "    else: print(city)"
   ]
  },
  {
   "cell_type": "raw",
   "id": "d1a33b16-4b18-481d-b115-80d325a7a76c",
   "metadata": {},
   "source": []
  },
  {
   "cell_type": "code",
   "execution_count": 27,
   "id": "36967840-65e6-46e4-915b-911ef6e36774",
   "metadata": {},
   "outputs": [
    {
     "name": "stdout",
     "output_type": "stream",
     "text": [
      "43\n"
     ]
    }
   ],
   "source": [
    "def answer():\n",
    "    print(43)\n",
    "\n",
    "def run_something(func): ## 이런거는 파이썬에서만 가능. 함수가 객체이므로 인자로 받아올 수 있음\n",
    "    func()\n",
    "    \n",
    "run_something(answer)"
   ]
  },
  {
   "cell_type": "code",
   "execution_count": 32,
   "id": "5dc0f5d9-d23e-4b96-81f1-21735863bb2d",
   "metadata": {},
   "outputs": [
    {
     "name": "stdout",
     "output_type": "stream",
     "text": [
      "43\n",
      "43\n"
     ]
    },
    {
     "data": {
      "text/plain": [
       "<function __main__.answer()>"
      ]
     },
     "execution_count": 32,
     "metadata": {},
     "output_type": "execute_result"
    }
   ],
   "source": [
    "def run_anything(func):\n",
    "    return func\n",
    "\n",
    "run_anything(answer)() # 괄호 붙이면 함수가 실행됨.\n",
    "run_anything(answer()) # 이건 뭐임?\n",
    "run_anything(answer)"
   ]
  },
  {
   "cell_type": "code",
   "execution_count": 34,
   "id": "9fccaa4f-84c0-409c-bcc3-f2cf22b3080a",
   "metadata": {},
   "outputs": [
    {
     "data": {
      "text/plain": [
       "13"
      ]
     },
     "execution_count": 34,
     "metadata": {},
     "output_type": "execute_result"
    }
   ],
   "source": [
    "def sum_args(*args):\n",
    "    return sum(args)\n",
    "\n",
    "def run_with_positional_args(func, *args):\n",
    "    return func(*args)\n",
    "\n",
    "run_with_positional_args(sum_args, 1, 3, 4, 5)"
   ]
  },
  {
   "cell_type": "code",
   "execution_count": 35,
   "id": "d5958537-e867-4f2e-af2b-ad42d3264961",
   "metadata": {},
   "outputs": [
    {
     "data": {
      "text/plain": [
       "[1, 3, 5, 9]"
      ]
     },
     "execution_count": 35,
     "metadata": {},
     "output_type": "execute_result"
    }
   ],
   "source": [
    "# 가변 인자일 때 => 초기화하지 않으면 변수 내용이 변할 수 있다\n",
    "def func(num_list):\n",
    "    # 변할 수 있음을 문서화할 것. 혹은 다른 방법을 찾는 것이 더 나음\n",
    "    sum_num = sum(num_list)\n",
    "    num_list.append(sum_num)\n",
    "    \n",
    "a = [1, 3, 5]\n",
    "func(a)\n",
    "a"
   ]
  },
  {
   "cell_type": "code",
   "execution_count": 36,
   "id": "87d75705-c7ad-4d0c-90c1-b33b8f2e188a",
   "metadata": {},
   "outputs": [
    {
     "data": {
      "text/plain": [
       "[1, 3, 5, 9, 18]"
      ]
     },
     "execution_count": 36,
     "metadata": {},
     "output_type": "execute_result"
    }
   ],
   "source": [
    "func(a)\n",
    "a"
   ]
  },
  {
   "cell_type": "code",
   "execution_count": 37,
   "id": "331ca414-125a-421f-bf7f-4c1e90fea5e3",
   "metadata": {},
   "outputs": [],
   "source": [
    "### 내부함수 -> 다음주"
   ]
  },
  {
   "cell_type": "code",
   "execution_count": 38,
   "id": "db343fa1-85ed-45c1-bb9d-c86778fd7b50",
   "metadata": {},
   "outputs": [
    {
     "data": {
      "text/plain": [
       "'ok'"
      ]
     },
     "execution_count": 38,
     "metadata": {},
     "output_type": "execute_result"
    }
   ],
   "source": [
    "# lambda x: x.lower()\n",
    "\n",
    "def f(x):\n",
    "    return x.lower()\n",
    "\n",
    "f2 = lambda x: x.lower()\n",
    "f2('OK')"
   ]
  },
  {
   "cell_type": "code",
   "execution_count": 39,
   "id": "6487c783-ca5e-41fa-bb1c-8fa80a0c47ac",
   "metadata": {},
   "outputs": [
    {
     "data": {
      "text/plain": [
       "'ok'"
      ]
     },
     "execution_count": 39,
     "metadata": {},
     "output_type": "execute_result"
    }
   ],
   "source": [
    "(lambda x: x.lower())('OK')"
   ]
  },
  {
   "cell_type": "code",
   "execution_count": 40,
   "id": "b1a68ddd-18a6-4ea7-beb7-027a31b9b378",
   "metadata": {},
   "outputs": [
    {
     "data": {
      "text/plain": [
       "10"
      ]
     },
     "execution_count": 40,
     "metadata": {},
     "output_type": "execute_result"
    }
   ],
   "source": [
    "f3 = lambda x, y: x + y\n",
    "f3(5, 5)"
   ]
  },
  {
   "cell_type": "code",
   "execution_count": 42,
   "id": "5e52283d-82ab-4f8c-8bc9-1fba44412b09",
   "metadata": {},
   "outputs": [
    {
     "data": {
      "text/plain": [
       "'Abc!'"
      ]
     },
     "execution_count": 42,
     "metadata": {},
     "output_type": "execute_result"
    }
   ],
   "source": [
    "# abc -> Abc!\n",
    "f4 = lambda x: x.capitalize() + '!'\n",
    "f4('abc')"
   ]
  },
  {
   "cell_type": "code",
   "execution_count": null,
   "id": "da9981df-821b-4d9f-b7f9-6dfdee7f48f6",
   "metadata": {},
   "outputs": [],
   "source": []
  }
 ],
 "metadata": {
  "kernelspec": {
   "display_name": "Python 3 (ipykernel)",
   "language": "python",
   "name": "python3"
  },
  "language_info": {
   "codemirror_mode": {
    "name": "ipython",
    "version": 3
   },
   "file_extension": ".py",
   "mimetype": "text/x-python",
   "name": "python",
   "nbconvert_exporter": "python",
   "pygments_lexer": "ipython3",
   "version": "3.9.7"
  }
 },
 "nbformat": 4,
 "nbformat_minor": 5
}
