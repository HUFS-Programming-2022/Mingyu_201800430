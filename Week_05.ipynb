{
 "cells": [
  {
   "cell_type": "markdown",
   "id": "48f355c0-89d7-4e4f-b073-c88950cc36a0",
   "metadata": {},
   "source": [
    "# 5주차 | 4.1.2022(금)"
   ]
  },
  {
   "cell_type": "markdown",
   "id": "65b2e34a-c4b4-4afb-8062-8c8092db49b3",
   "metadata": {},
   "source": [
    "## CH5. "
   ]
  },
  {
   "cell_type": "code",
   "execution_count": 1,
   "id": "b400e5cb-dfc2-4412-b0d5-ada778166df8",
   "metadata": {},
   "outputs": [
    {
     "name": "stdout",
     "output_type": "stream",
     "text": [
      "*** Introductory Examples for the NLTK Book ***\n",
      "Loading text1, ..., text9 and sent1, ..., sent9\n",
      "Type the name of the text or sentence to view it.\n",
      "Type: 'texts()' or 'sents()' to list the materials.\n",
      "text1: Moby Dick by Herman Melville 1851\n",
      "text2: Sense and Sensibility by Jane Austen 1811\n",
      "text3: The Book of Genesis\n",
      "text4: Inaugural Address Corpus\n",
      "text5: Chat Corpus\n",
      "text6: Monty Python and the Holy Grail\n",
      "text7: Wall Street Journal\n",
      "text8: Personals Corpus\n",
      "text9: The Man Who Was Thursday by G . K . Chesterton 1908\n"
     ]
    },
    {
     "data": {
      "text/plain": [
       "True"
      ]
     },
     "execution_count": 1,
     "metadata": {},
     "output_type": "execute_result"
    }
   ],
   "source": [
    "import nltk\n",
    "import ssl\n",
    "\n",
    "try:\n",
    "    _create_unverified_https_context = ssl._create_unverified_context\n",
    "except AttributeError:\n",
    "    pass\n",
    "else:\n",
    "    ssl._create_default_https_context = _create_unverified_https_context\n",
    "from nltk.book import *\n",
    "nltk.download('book', quiet=True)"
   ]
  },
  {
   "cell_type": "markdown",
   "id": "200e028a-7b5b-4fbc-896b-d27d80ce4ce9",
   "metadata": {},
   "source": [
    "## 반복문\n",
    "- for, while\n",
    "\n",
    "### while\n",
    "- 어떤 조건이 만족할 때까지 블록 수행\n",
    "- 해당 조건이 거짓이면 수행을 멈춘다\n",
    "    - 언제 빠져나오는지 정확히 알아야 함\n",
    "- for + if\n",
    "\n",
    "#### for vs. while\n",
    "- for loop: 반복 횟수 정확히 알고, 반복 횟수 변하지 않을 때\n",
    "    - 예: 전체 학생 성적 산출\n",
    "- while loop: 반복 횟수 정확하지 않고, 어떤 조건을 만족시킬 때 프로그램 종료하고 싶다면 사용\n",
    "    - 예: 가위바위보로 이기면 종료"
   ]
  },
  {
   "cell_type": "code",
   "execution_count": 2,
   "id": "7accd484-8714-4f91-a674-5a93fc456e89",
   "metadata": {},
   "outputs": [
    {
     "name": "stdout",
     "output_type": "stream",
     "text": [
      "a\n",
      "b\n",
      "c\n"
     ]
    }
   ],
   "source": [
    "characters = ['a', 'b', 'c']\n",
    "i = 0\n",
    "while i < len(characters):\n",
    "    print(characters[i])\n",
    "    i += 1"
   ]
  },
  {
   "cell_type": "markdown",
   "id": "49916831-6f5f-4291-a4b2-72ec9b18194b",
   "metadata": {},
   "source": [
    "### 반복문의 제어\n",
    "- 의도치 않게 코드를 종료시킬 수 있기 때문에 되도록 사용하지 않는다.\n",
    "\n",
    "- break: 논리적으로 반복을 종료시키는 방법\n",
    "- else: 어떤 조건이 \"완전히\" 끝났을 때 한번 더 실행하는 블록. break로 끝난 것과 구분할 수 있다.\n",
    "- continue: 특정 조건을 건너뛰고 다음 조건을 수행시킴"
   ]
  },
  {
   "cell_type": "code",
   "execution_count": 4,
   "id": "655e0d6a-363c-4ae7-912d-ebc940c2740d",
   "metadata": {},
   "outputs": [
    {
     "name": "stdout",
     "output_type": "stream",
     "text": [
      "0\n",
      "1\n",
      "2\n",
      "3\n",
      "4\n",
      "6\n",
      "7\n",
      "8\n",
      "9\n",
      "ended\n"
     ]
    }
   ],
   "source": [
    "for i in range(10):\n",
    "    if i == 5:\n",
    "        continue\n",
    "    print(i)\n",
    "else:\n",
    "    print(\"ended\")"
   ]
  },
  {
   "cell_type": "markdown",
   "id": "fd08ab61-ff23-464e-874a-4bbac1769e7b",
   "metadata": {},
   "source": [
    "### 구구단\n",
    "- 1. for, while loop 선택한 뒤, n단을 입력받아서 출력한다.\n",
    "- 2. 1 ~ n단까지 출력한다.\n",
    "- 3. 시작단, 끝단 둘 다 입력받을 것\n",
    "    - 예: 4 - 7단\n",
    "- 4. 프로그램으로 만든다.\n",
    "    - 1) n단 2) 1-n단 3) n-m단"
   ]
  },
  {
   "cell_type": "code",
   "execution_count": 23,
   "id": "79c77a0b-8c5f-4b04-be77-da154f576d76",
   "metadata": {},
   "outputs": [
    {
     "name": "stdin",
     "output_type": "stream",
     "text": [
      " 1\n"
     ]
    },
    {
     "name": "stdout",
     "output_type": "stream",
     "text": [
      "=== 1단 ===\n",
      "1 x 1 = 1\n",
      "1 x 2 = 2\n",
      "1 x 3 = 3\n",
      "1 x 4 = 4\n",
      "1 x 5 = 5\n",
      "1 x 6 = 6\n",
      "1 x 7 = 7\n",
      "1 x 8 = 8\n",
      "1 x 9 = 9\n"
     ]
    }
   ],
   "source": [
    "n = int(input())\n",
    "i = 1\n",
    "print(f'=== {n}단 ===')\n",
    "while i < 10:\n",
    "    print(f'{n} x {i} = {n*i}')\n",
    "    i += 1"
   ]
  },
  {
   "cell_type": "code",
   "execution_count": 22,
   "id": "08e1a33f-9271-4dc0-91e2-465fc91baef9",
   "metadata": {},
   "outputs": [
    {
     "name": "stdin",
     "output_type": "stream",
     "text": [
      " 3\n"
     ]
    },
    {
     "name": "stdout",
     "output_type": "stream",
     "text": [
      "=== 1단 ===\n",
      "1 x 1 = 1\n",
      "1 x 2 = 2\n",
      "1 x 3 = 3\n",
      "1 x 4 = 4\n",
      "1 x 5 = 5\n",
      "1 x 6 = 6\n",
      "1 x 7 = 7\n",
      "1 x 8 = 8\n",
      "1 x 9 = 9\n",
      "=== 2단 ===\n",
      "2 x 1 = 2\n",
      "2 x 2 = 4\n",
      "2 x 3 = 6\n",
      "2 x 4 = 8\n",
      "2 x 5 = 10\n",
      "2 x 6 = 12\n",
      "2 x 7 = 14\n",
      "2 x 8 = 16\n",
      "2 x 9 = 18\n",
      "=== 3단 ===\n",
      "3 x 1 = 3\n",
      "3 x 2 = 6\n",
      "3 x 3 = 9\n",
      "3 x 4 = 12\n",
      "3 x 5 = 15\n",
      "3 x 6 = 18\n",
      "3 x 7 = 21\n",
      "3 x 8 = 24\n",
      "3 x 9 = 27\n"
     ]
    }
   ],
   "source": [
    "n = int(input())\n",
    "i = 1\n",
    "for i in range(1, n+1):\n",
    "    print(f'=== {i}단 ===')\n",
    "    for j in range(1, 10):\n",
    "        print(f'{i} x {j} = {i*j}')"
   ]
  },
  {
   "cell_type": "code",
   "execution_count": 24,
   "id": "29f2a8b9-4679-4770-8ccc-b91a478742fd",
   "metadata": {},
   "outputs": [
    {
     "name": "stdin",
     "output_type": "stream",
     "text": [
      " 2\n",
      " 4\n"
     ]
    },
    {
     "name": "stdout",
     "output_type": "stream",
     "text": [
      "=== 2단 ===\n",
      "2 x 1 = 2\n",
      "2 x 2 = 4\n",
      "2 x 3 = 6\n",
      "2 x 4 = 8\n",
      "2 x 5 = 10\n",
      "2 x 6 = 12\n",
      "2 x 7 = 14\n",
      "2 x 8 = 16\n",
      "2 x 9 = 18\n",
      "=== 3단 ===\n",
      "3 x 1 = 3\n",
      "3 x 2 = 6\n",
      "3 x 3 = 9\n",
      "3 x 4 = 12\n",
      "3 x 5 = 15\n",
      "3 x 6 = 18\n",
      "3 x 7 = 21\n",
      "3 x 8 = 24\n",
      "3 x 9 = 27\n",
      "=== 4단 ===\n",
      "4 x 1 = 4\n",
      "4 x 2 = 8\n",
      "4 x 3 = 12\n",
      "4 x 4 = 16\n",
      "4 x 5 = 20\n",
      "4 x 6 = 24\n",
      "4 x 7 = 28\n",
      "4 x 8 = 32\n",
      "4 x 9 = 36\n"
     ]
    }
   ],
   "source": [
    "first_n = int(input())\n",
    "second_n = int(input())\n",
    "i = 1\n",
    "def calc(num):\n",
    "    print(f'=== {num}단 ===')\n",
    "    for j in range(1, 10):\n",
    "        print(f'{num} x {j} = {num*j}')\n",
    "if first_n > second_n:\n",
    "    for i in range(second_n, first_n+1):    \n",
    "        calc(i)\n",
    "elif first_n == second_n:\n",
    "    calc(first_n)\n",
    "else:\n",
    "    for i in range(first_n, second_n+1):\n",
    "        calc(i)"
   ]
  },
  {
   "cell_type": "code",
   "execution_count": 15,
   "id": "3f320dbf-6ec6-47ff-b59f-2a04f9869d90",
   "metadata": {},
   "outputs": [
    {
     "name": "stdin",
     "output_type": "stream",
     "text": [
      "\n",
      "        =========== 구구단을 선택하시오 : ===========\n",
      "        1. n단 출력 2. 1~n단 출력 3. n~m단 출력\n",
      "        ========================================\n",
      "         3\n"
     ]
    },
    {
     "name": "stdout",
     "output_type": "stream",
     "text": [
      "\n"
     ]
    },
    {
     "name": "stdin",
     "output_type": "stream",
     "text": [
      "구구단을 시작할 숫자를 입력하세요 : 5\n",
      "구구단을 마칠 숫자를 입력하세요 : 1\n"
     ]
    },
    {
     "name": "stdout",
     "output_type": "stream",
     "text": [
      "시작할 단이 끝나는 단보다 크면 안됩니다. 다시 입력해주세요.\n"
     ]
    },
    {
     "name": "stdin",
     "output_type": "stream",
     "text": [
      "구구단을 시작할 숫자를 입력하세요 : 5\n",
      "구구단을 마칠 숫자를 입력하세요 : 6\n"
     ]
    },
    {
     "name": "stdout",
     "output_type": "stream",
     "text": [
      "=== 5단 ===\n",
      "5 x 1 = 5\n",
      "5 x 2 = 10\n",
      "5 x 3 = 15\n",
      "5 x 4 = 20\n",
      "5 x 5 = 25\n",
      "5 x 6 = 30\n",
      "5 x 7 = 35\n",
      "5 x 8 = 40\n",
      "5 x 9 = 45\n",
      "==========\n",
      "=== 6단 ===\n",
      "6 x 1 = 6\n",
      "6 x 2 = 12\n",
      "6 x 3 = 18\n",
      "6 x 4 = 24\n",
      "6 x 5 = 30\n",
      "6 x 6 = 36\n",
      "6 x 7 = 42\n",
      "6 x 8 = 48\n",
      "6 x 9 = 54\n",
      "==========\n",
      "\n"
     ]
    },
    {
     "name": "stdin",
     "output_type": "stream",
     "text": [
      "프로그램을 끝내시겠습니까? 프로그램을 끝내시려면 'yes'를, 메뉴로 돌아가려면 'no'를 입력하세요. yes\n"
     ]
    },
    {
     "name": "stdout",
     "output_type": "stream",
     "text": [
      "프로그램이 종료되었습니다.\n"
     ]
    }
   ],
   "source": [
    "\n",
    "\n",
    "on_off_switch = True\n",
    "while on_off_switch == True:\n",
    "    mode_select = int(input(\"\"\"\n",
    "        =========== 구구단을 선택하시오 : ===========\n",
    "        1. n단 출력 2. 1~n단 출력 3. n~m단 출력\n",
    "        ========================================\n",
    "        \"\"\"))\n",
    "    print()\n",
    "    i = 0\n",
    "    if mode_select > 3:\n",
    "        print(\"1, 2, 3번 메뉴 중에서 선택해주세요.\")\n",
    "        continue\n",
    "    \n",
    "    elif mode_select == 1:\n",
    "        n = int(input('몇 번째 단을 출력하시겠습니까? :'))\n",
    "        print(f'=== {n}단 ===')\n",
    "        while i < 10:\n",
    "            print(f'{n} x {i} = {n * i}')\n",
    "            i += 1\n",
    "        print('=' * 10)\n",
    "    elif mode_select == 2:\n",
    "        n = int(input('몇단까지 출력하시겠습니까? :'))\n",
    "        for i in range(1, n+1):\n",
    "            print(f'=== {i}단 ===')\n",
    "            for j in range(1, 10):\n",
    "                print(f'{i} x {j} = {i * j}')\n",
    "            print('=' * 10)\n",
    "    else:\n",
    "        while True:\n",
    "            first_n = int(input('구구단을 시작할 숫자를 입력하세요 :'))\n",
    "            second_n = int(input('구구단을 마칠 숫자를 입력하세요 :'))\n",
    "            if first_n > second_n:\n",
    "                print('시작할 단이 끝나는 단보다 크면 안됩니다. 다시 입력해주세요.')\n",
    "                continue\n",
    "            elif first_n < 1 or first_n > 9 or second_n < 1 or second_n > 9:\n",
    "                print('')\n",
    "                continue\n",
    "            else:\n",
    "                for i in range(first_n, second_n + 1):\n",
    "                    print(f'=== {i}단 ===')\n",
    "                    for j in range(1, 10):\n",
    "                        print(f'{i} x {j} = {i * j}')\n",
    "                    print('=' * 10)\n",
    "                break\n",
    "    while True:\n",
    "        print()\n",
    "        finish = input('프로그램을 끝내시겠습니까? 프로그램을 끝내시려면 \\'yes\\'를, 메뉴로 돌아가려면 \\'no\\'를 입력하세요.')\n",
    "        if finish == 'yes':\n",
    "            on_off_switch = False\n",
    "            print('프로그램이 종료되었습니다.')\n",
    "            break\n",
    "        elif finish == 'no':\n",
    "            break\n",
    "        else:\n",
    "            print('\\'yes\\'나 \\'no\\' 중 하나만 입력해주세요.')\n",
    "            continue"
   ]
  },
  {
   "cell_type": "markdown",
   "id": "a9ac9257-4acd-482d-a646-fb67fcb65976",
   "metadata": {},
   "source": [
    "### Corpus gutenberg"
   ]
  },
  {
   "cell_type": "markdown",
   "id": "671c86c5-34c5-4dd3-9f80-14d28f58c585",
   "metadata": {},
   "source": [
    "### NLTK: Corpus\n",
    "- 다양한 종류의 코퍼스가 있다.\n",
    "- 더 다양한 언어 분석이 가능\n",
    "\n",
    "- 종류\n",
    "    - gutenberg\n",
    "    - brown\n",
    "    - inaugural\n",
    "- 함수\n",
    "    - words() == tokens()\n",
    "    - sents()\n",
    "    - fileids()\n",
    "    - raw()"
   ]
  },
  {
   "cell_type": "code",
   "execution_count": 3,
   "id": "1ec93466-6dfd-4664-902e-2cc31011f2d1",
   "metadata": {},
   "outputs": [
    {
     "data": {
      "text/plain": [
       "True"
      ]
     },
     "execution_count": 3,
     "metadata": {},
     "output_type": "execute_result"
    }
   ],
   "source": [
    "import nltk\n",
    "from nltk.corpus import gutenberg\n",
    "nltk.download('gutenberg', quiet=True)"
   ]
  },
  {
   "cell_type": "code",
   "execution_count": 4,
   "id": "e7fa7307-38fd-4ac5-aa11-1faa5fe9d749",
   "metadata": {},
   "outputs": [
    {
     "data": {
      "text/plain": [
       "['[', 'Emma', 'by', 'Jane', 'Austen', '1816', ']', ...]"
      ]
     },
     "execution_count": 4,
     "metadata": {},
     "output_type": "execute_result"
    }
   ],
   "source": [
    "gutenberg.words('austen-emma.txt') #접근방법"
   ]
  },
  {
   "cell_type": "code",
   "execution_count": 5,
   "id": "2eefac01-a4f9-4864-8bc9-0e1a307deb6a",
   "metadata": {},
   "outputs": [
    {
     "data": {
      "text/plain": [
       "['austen-emma.txt',\n",
       " 'austen-persuasion.txt',\n",
       " 'austen-sense.txt',\n",
       " 'bible-kjv.txt',\n",
       " 'blake-poems.txt',\n",
       " 'bryant-stories.txt',\n",
       " 'burgess-busterbrown.txt',\n",
       " 'carroll-alice.txt',\n",
       " 'chesterton-ball.txt',\n",
       " 'chesterton-brown.txt',\n",
       " 'chesterton-thursday.txt',\n",
       " 'edgeworth-parents.txt',\n",
       " 'melville-moby_dick.txt',\n",
       " 'milton-paradise.txt',\n",
       " 'shakespeare-caesar.txt',\n",
       " 'shakespeare-hamlet.txt',\n",
       " 'shakespeare-macbeth.txt',\n",
       " 'whitman-leaves.txt']"
      ]
     },
     "execution_count": 5,
     "metadata": {},
     "output_type": "execute_result"
    }
   ],
   "source": [
    "gutenberg.fileids()"
   ]
  },
  {
   "cell_type": "code",
   "execution_count": 16,
   "id": "4e16f293-3311-4a77-92e0-3f8cff56b55e",
   "metadata": {
    "scrolled": true,
    "tags": []
   },
   "outputs": [
    {
     "name": "stdout",
     "output_type": "stream",
     "text": [
      "austen-emma | 글자 수 : 887071개, 단어 수 : 192427개, 문장 수 : 7752개\n",
      "austen-persuasion | 글자 수 : 466292개, 단어 수 : 98171개, 문장 수 : 3747개\n",
      "austen-sense | 글자 수 : 673022개, 단어 수 : 141576개, 문장 수 : 4999개\n",
      "bible-kjv | 글자 수 : 4332554개, 단어 수 : 1010654개, 문장 수 : 30103개\n",
      "blake-poems | 글자 수 : 38153개, 단어 수 : 8354개, 문장 수 : 438개\n",
      "bryant-stories | 글자 수 : 249439개, 단어 수 : 55563개, 문장 수 : 2863개\n",
      "burgess-busterbrown | 글자 수 : 84663개, 단어 수 : 18963개, 문장 수 : 1054개\n",
      "carroll-alice | 글자 수 : 144395개, 단어 수 : 34110개, 문장 수 : 1703개\n",
      "chesterton-ball | 글자 수 : 457450개, 단어 수 : 96996개, 문장 수 : 4779개\n",
      "chesterton-brown | 글자 수 : 406629개, 단어 수 : 86063개, 문장 수 : 3806개\n",
      "chesterton-thursday | 글자 수 : 320525개, 단어 수 : 69213개, 문장 수 : 3742개\n",
      "edgeworth-parents | 글자 수 : 935158개, 단어 수 : 210663개, 문장 수 : 10230개\n",
      "melville-moby_dick | 글자 수 : 1242990개, 단어 수 : 260819개, 문장 수 : 10059개\n",
      "milton-paradise | 글자 수 : 468220개, 단어 수 : 96825개, 문장 수 : 1851개\n",
      "shakespeare-caesar | 글자 수 : 112310개, 단어 수 : 25833개, 문장 수 : 2163개\n",
      "shakespeare-hamlet | 글자 수 : 162881개, 단어 수 : 37360개, 문장 수 : 3106개\n",
      "shakespeare-macbeth | 글자 수 : 100351개, 단어 수 : 23140개, 문장 수 : 1907개\n",
      "whitman-leaves | 글자 수 : 711215개, 단어 수 : 154883개, 문장 수 : 4250개\n"
     ]
    }
   ],
   "source": [
    "# 구텐버그의 각 파일을 돌아가면서 글자 수, 단어 수, 문장 수를 출력합니다.\n",
    "\n",
    "# file에 접근하는 방법\n",
    "# gutenberg.words(fileids=['원하는 fileid'])\n",
    "gutenberg.words(fileids=['austen-persuasion.txt', 'carroll-alice.txt'])\n",
    "\n",
    "guten_list = gutenberg.fileids()\n",
    "\n",
    "for filename in guten_list:\n",
    "    num_chars = len(gutenberg.raw(filename))\n",
    "    num_words = len(gutenberg.words(filename))\n",
    "    num_sents = len(gutenberg.sents(filename))\n",
    "    print(f'{filename[:-4]} | 글자 수 : {num_chars}개, 단어 수 : {num_words}개, 문장 수 : {num_sents}개')"
   ]
  },
  {
   "cell_type": "code",
   "execution_count": 18,
   "id": "427718ac-b31d-4ca7-b8c7-875a0cbaba88",
   "metadata": {},
   "outputs": [
    {
     "data": {
      "text/plain": [
       "[<Text: Moby Dick by Herman Melville 1851>,\n",
       " <Text: Sense and Sensibility by Jane Austen 1811>,\n",
       " <Text: The Book of Genesis>,\n",
       " <Text: Inaugural Address Corpus>,\n",
       " <Text: Chat Corpus>,\n",
       " <Text: Monty Python and the Holy Grail>,\n",
       " <Text: Wall Street Journal>,\n",
       " <Text: Personals Corpus>,\n",
       " <Text: The Man Who Was Thursday by G . K . Chesterton 1908>]"
      ]
     },
     "execution_count": 18,
     "metadata": {},
     "output_type": "execute_result"
    }
   ],
   "source": [
    "# text 1-9 하드코딩 없이 가져오기\n",
    "    # text1 vs. 'text1'\n",
    "    # text1 - 9 string 가져오기\n",
    "    # string -> getattr(library, 'string_name')\n",
    "\n",
    "texts = [getattr(nltk.book, f'text{i}') for i in range(1, 10)]\n",
    "texts"
   ]
  },
  {
   "cell_type": "code",
   "execution_count": 21,
   "id": "853303b3-3fd3-4a2e-abaf-7544ad1f89f8",
   "metadata": {},
   "outputs": [
    {
     "data": {
      "text/plain": [
       "28"
      ]
     },
     "execution_count": 21,
     "metadata": {},
     "output_type": "execute_result"
    }
   ],
   "source": [
    "corpus1 = gutenberg.words(fileids=\"whitman-leaves.txt\")\n",
    "fdist = nltk.FreqDist([w.lower() for w in corpus1])\n",
    "fdist['tree'] # 'tree' 단어가 corpus1에서 몇 번 등장했는지"
   ]
  },
  {
   "cell_type": "markdown",
   "id": "08add214-3a5a-4e95-9278-df2702da19b6",
   "metadata": {},
   "source": [
    "### Brown\n",
    "- categories() #추가된 함수"
   ]
  },
  {
   "cell_type": "code",
   "execution_count": 32,
   "id": "2728ad12-8a72-43e3-8d3e-36d0cbfd040f",
   "metadata": {},
   "outputs": [
    {
     "name": "stderr",
     "output_type": "stream",
     "text": [
      "[nltk_data] Downloading package brown to /Users/kwak/nltk_data...\n",
      "[nltk_data]   Package brown is already up-to-date!\n"
     ]
    }
   ],
   "source": [
    "#from nltk.corpus import brown\n",
    "nltk.download('brown')\n",
    "brown_corpus = nltk.corpus.brown"
   ]
  },
  {
   "cell_type": "code",
   "execution_count": 33,
   "id": "647217e8-d013-4411-a7a8-e11f4294f53b",
   "metadata": {},
   "outputs": [
    {
     "data": {
      "text/plain": [
       "['adventure',\n",
       " 'belles_lettres',\n",
       " 'editorial',\n",
       " 'fiction',\n",
       " 'government',\n",
       " 'hobbies',\n",
       " 'humor',\n",
       " 'learned',\n",
       " 'lore',\n",
       " 'mystery',\n",
       " 'news',\n",
       " 'religion',\n",
       " 'reviews',\n",
       " 'romance',\n",
       " 'science_fiction']"
      ]
     },
     "execution_count": 33,
     "metadata": {},
     "output_type": "execute_result"
    }
   ],
   "source": [
    "brown_corpus.categories()"
   ]
  },
  {
   "cell_type": "code",
   "execution_count": 26,
   "id": "06ac5744-c706-4db0-9691-611eae01fa7c",
   "metadata": {},
   "outputs": [
    {
     "data": {
      "text/plain": [
       "['It',\n",
       " 'was',\n",
       " 'among',\n",
       " 'these',\n",
       " 'that',\n",
       " 'Hinkle',\n",
       " 'identified',\n",
       " 'a',\n",
       " 'photograph',\n",
       " 'of']"
      ]
     },
     "execution_count": 26,
     "metadata": {},
     "output_type": "execute_result"
    }
   ],
   "source": [
    "humor = brown_corpus.words(categories='humor')\n",
    "humor[:10]"
   ]
  },
  {
   "cell_type": "code",
   "execution_count": 34,
   "id": "c6feeef8-a202-4029-bb41-017105188c7c",
   "metadata": {},
   "outputs": [
    {
     "name": "stdout",
     "output_type": "stream",
     "text": [
      "can 17\n",
      "could 33\n",
      "may 8\n",
      "might 8\n",
      "will 13\n",
      "would 56\n"
     ]
    }
   ],
   "source": [
    "# modal verbs의 쓰임\n",
    "modals = ['can', 'could', 'may', 'might', 'will', 'would']\n",
    "\n",
    "fdist_brown = nltk.FreqDist([w.lower() for w in humor])\n",
    "\n",
    "for verb in modals:\n",
    "    print(verb, fdist_brown[verb])"
   ]
  },
  {
   "cell_type": "markdown",
   "id": "b98b6817-2857-4ca1-a836-5345cab612d6",
   "metadata": {},
   "source": [
    "### conditional frequency distribution(CFD)\n",
    "- 조건이 붙은 fdist"
   ]
  },
  {
   "cell_type": "code",
   "execution_count": 35,
   "id": "5d8bae0a-ac47-440b-b79d-02420a172cd5",
   "metadata": {},
   "outputs": [],
   "source": [
    "cfd = nltk.ConditionalFreqDist(\n",
    "    # genre에 따른 fdist\n",
    "    (genre, word.lower())\n",
    "    for genre in brown_corpus.categories()\n",
    "    for word in brown_corpus.words(categories=genre)\n",
    ")"
   ]
  },
  {
   "cell_type": "code",
   "execution_count": 30,
   "id": "c55864d9-a4de-48f7-8d7e-4ef46375cfec",
   "metadata": {},
   "outputs": [
    {
     "data": {
      "text/plain": [
       "FreqDist({'.': 4057, 'the': 3780, ',': 3488, 'and': 1706, 'a': 1432, 'of': 1327, 'to': 1322, 'he': 1283, '``': 998, \"''\": 995, ...})"
      ]
     },
     "execution_count": 30,
     "metadata": {},
     "output_type": "execute_result"
    }
   ],
   "source": [
    "cfd['adventure']"
   ]
  },
  {
   "cell_type": "code",
   "execution_count": 70,
   "id": "2df68bee-5fd0-428e-b9dd-ae17149c804b",
   "metadata": {},
   "outputs": [
    {
     "data": {
      "text/plain": [
       "3780"
      ]
     },
     "execution_count": 70,
     "metadata": {},
     "output_type": "execute_result"
    }
   ],
   "source": [
    "cfd['adventure']['the']"
   ]
  },
  {
   "cell_type": "code",
   "execution_count": 36,
   "id": "6df033bc-9373-4025-83d0-30c7f5cdd804",
   "metadata": {},
   "outputs": [
    {
     "name": "stdout",
     "output_type": "stream",
     "text": [
      "                  can could   may might  will would \n",
      "      adventure    48   154     7    59    51   194 \n",
      " belles_lettres   249   216   221   113   246   397 \n",
      "      editorial   124    57    79    39   235   185 \n",
      "        fiction    39   168    10    44    56   291 \n",
      "     government   119    38   179    13   244   120 \n",
      "        hobbies   276    59   143    22   269    83 \n",
      "          humor    17    33     8     8    13    56 \n",
      "        learned   367   159   336   128   340   321 \n",
      "           lore   170   142   170    50   178   188 \n",
      "        mystery    45   145    15    57    25   189 \n",
      "           news    94    87    93    38   389   246 \n",
      "       religion    84    59    79    12    72    69 \n",
      "        reviews    45    40    47    26    61    48 \n",
      "        romance    79   195    11    51    49   247 \n",
      "science_fiction    16    49     4    12    17    80 \n"
     ]
    }
   ],
   "source": [
    "cfd.tabulate(condition=brown_corpus.categories()[:3], samples=modals)"
   ]
  },
  {
   "cell_type": "code",
   "execution_count": null,
   "id": "8b1a22c5-00a1-4361-8ad6-d97ab505ac68",
   "metadata": {},
   "outputs": [],
   "source": []
  }
 ],
 "metadata": {
  "kernelspec": {
   "display_name": "Python 3 (ipykernel)",
   "language": "python",
   "name": "python3"
  },
  "language_info": {
   "codemirror_mode": {
    "name": "ipython",
    "version": 3
   },
   "file_extension": ".py",
   "mimetype": "text/x-python",
   "name": "python",
   "nbconvert_exporter": "python",
   "pygments_lexer": "ipython3",
   "version": "3.9.7"
  }
 },
 "nbformat": 4,
 "nbformat_minor": 5
}
