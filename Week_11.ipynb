{
 "cells": [
  {
   "cell_type": "markdown",
   "id": "2b60c0ed-50ef-462a-a251-539d40e818bf",
   "metadata": {},
   "source": [
    "# 11주차 | 5.13.2022(금)"
   ]
  },
  {
   "cell_type": "markdown",
   "id": "cab469a1-7b78-49e2-8f7d-c221b9fe75d7",
   "metadata": {},
   "source": [
    "### 상속 | inheritance\n",
    "- 이전 클래스의 내용을 추가, 변경해야 할 경우\n",
    "- 코드 재사용에 유용함.\n",
    "- 기준이 되는 클래스: Vehicle - parent/super/base\n",
    "- 상속 받는 클래스: Car = child/sub/derived\n",
    "Vehicle <- Car\n",
    "    - 부모클래스를 자식클래스가 구체화시킴.\n",
    "    - Car is-a-Vehicle 관계\n",
    "    - has-a: Notebook has-a-Note 관계."
   ]
  },
  {
   "cell_type": "code",
   "execution_count": 2,
   "id": "e5b880bf-f517-4c77-95b3-bde37d7c1909",
   "metadata": {},
   "outputs": [],
   "source": [
    "class Vehicle:\n",
    "    def __init__(self, speed):\n",
    "        self.speed = speed\n",
    "    \n",
    "    def go(self):\n",
    "        print(f'{self.speed}의 속력으로 달린다.')\n",
    "\n",
    "# 자식클래스\n",
    "class Car(Vehicle):\n",
    "    pass"
   ]
  },
  {
   "cell_type": "code",
   "execution_count": 3,
   "id": "3c6d3a63-ce78-4597-9e1d-9fa9dc8c326f",
   "metadata": {},
   "outputs": [],
   "source": [
    "# car = Car() TypeError: __init__() missing 1 required positional argument: 'speed'\n",
    "car = Car('15km/h')"
   ]
  },
  {
   "cell_type": "code",
   "execution_count": 4,
   "id": "b1f0263a-704c-44e9-bf66-e8c30b8d4400",
   "metadata": {},
   "outputs": [
    {
     "name": "stdout",
     "output_type": "stream",
     "text": [
      "15km/h의 속력으로 달린다.\n"
     ]
    }
   ],
   "source": [
    "car.go()"
   ]
  },
  {
   "cell_type": "markdown",
   "id": "309ebbc4-ff39-4ecd-bdf6-2a64f010ab56",
   "metadata": {},
   "source": [
    "### 추가, 변경\n",
    "- 속성(변수)"
   ]
  },
  {
   "cell_type": "code",
   "execution_count": 5,
   "id": "be52a293-573d-454a-a201-b39b05b46c8f",
   "metadata": {},
   "outputs": [],
   "source": [
    "class Car(Vehicle):\n",
    "    def __init__(self, speed, brand):\n",
    "        super().__init__(speed) # 자식클래스에서 부모클래스로 선택적 initialize할 수 있음\n",
    "        self.brand = brand      # 자식클래스 단독 변수. 부모클래스에서는 인식 안됨"
   ]
  },
  {
   "cell_type": "code",
   "execution_count": 6,
   "id": "cb27d3f0-cf4e-4ca6-a8a3-2153d64d5e92",
   "metadata": {},
   "outputs": [
    {
     "data": {
      "text/plain": [
       "'14km/h'"
      ]
     },
     "execution_count": 6,
     "metadata": {},
     "output_type": "execute_result"
    }
   ],
   "source": [
    "car2 = Car('14km/h', 'kia')\n",
    "car2.speed"
   ]
  },
  {
   "cell_type": "code",
   "execution_count": 10,
   "id": "8d793a1b-083b-46db-aa9e-586e55fb2f11",
   "metadata": {},
   "outputs": [
    {
     "name": "stdout",
     "output_type": "stream",
     "text": [
      "14km/h의 속력으로 달린다.\n"
     ]
    }
   ],
   "source": [
    "car2.go()"
   ]
  },
  {
   "cell_type": "markdown",
   "id": "13771cfc-83d0-43b1-8868-44eaa5427176",
   "metadata": {},
   "source": [
    "- 메소드 변경 => 오버라이드(override), 재정의"
   ]
  },
  {
   "cell_type": "code",
   "execution_count": 17,
   "id": "a94b1f10-97b9-4721-9f1f-3a29b8dbfe8e",
   "metadata": {},
   "outputs": [],
   "source": [
    "class Car(Vehicle):\n",
    "    def __init__(self, speed, brand):\n",
    "        # self.speed = speed\n",
    "        super().__init__(speed)\n",
    "        self.brand = brand\n",
    "    \n",
    "    def go(self): # 메소드 override(재정의)\n",
    "        super().go()\n",
    "        print(f'차종은 {self.brand}')\n",
    "        \n",
    "    def stop(self): # 부모클래스에 없는 메소드\n",
    "        print('차가 멈춘다.')"
   ]
  },
  {
   "cell_type": "code",
   "execution_count": 18,
   "id": "74986e21-3f1c-4051-b0d0-e60f521e5b70",
   "metadata": {},
   "outputs": [
    {
     "name": "stdout",
     "output_type": "stream",
     "text": [
      "15km/h의 속력으로 달린다.\n",
      "차종은 nissan\n",
      "차가 멈춘다.\n"
     ]
    }
   ],
   "source": [
    "car3 = Car('15km/h', 'nissan')\n",
    "car3.go()\n",
    "car3.stop()"
   ]
  },
  {
   "cell_type": "markdown",
   "id": "13ee9062-9944-4a70-966d-6772d34277a7",
   "metadata": {},
   "source": [
    "### 실습:"
   ]
  },
  {
   "cell_type": "code",
   "execution_count": 7,
   "id": "631e0124-8f1d-4a4d-b68d-ce55263b4d28",
   "metadata": {},
   "outputs": [
    {
     "data": {
      "text/plain": [
       "'\\nPerson <- Doctor\\n       <- Female\\n       <- Male\\n'"
      ]
     },
     "execution_count": 7,
     "metadata": {},
     "output_type": "execute_result"
    }
   ],
   "source": [
    "class Person:\n",
    "    def __init__(self, name):\n",
    "        self.name = name\n",
    "\n",
    "class Doctor(Person):\n",
    "    def __init__(self, name):\n",
    "        self.name = f'Dr. {super().__init__(name)}'\n",
    "    \n",
    "class Male(Person):\n",
    "    def __init__(self, name):\n",
    "        self.name = f'Mr. {super().__init__(name)}'\n",
    "\n",
    "class Female(Person):\n",
    "    def __init__(self, name):\n",
    "        self.name = f'Mrs. {super().__init__(name)}'\n",
    "\"\"\"\n",
    "Person <- Doctor\n",
    "       <- Female\n",
    "       <- Male\n",
    "\"\"\""
   ]
  },
  {
   "cell_type": "code",
   "execution_count": 8,
   "id": "e4b79396-0de7-46c1-9f17-0b9ead0a7c79",
   "metadata": {},
   "outputs": [],
   "source": [
    "john = Person('John')"
   ]
  },
  {
   "cell_type": "code",
   "execution_count": 9,
   "id": "27276377-f429-465f-a074-6731e020d34e",
   "metadata": {},
   "outputs": [
    {
     "name": "stdout",
     "output_type": "stream",
     "text": [
      "Dr. None\n",
      "Mrs. None\n",
      "Mr. None\n"
     ]
    }
   ],
   "source": [
    "david = Doctor('David')\n",
    "print(david.name)\n",
    "anna = Female('Anna')\n",
    "print(anna.name)\n",
    "cole = Male('Cole')\n",
    "print(cole.name)"
   ]
  },
  {
   "cell_type": "code",
   "execution_count": 10,
   "id": "091d3ff5-0f89-4509-8050-0940fdc9d71a",
   "metadata": {},
   "outputs": [],
   "source": [
    "class Person:\n",
    "    def __init__(self, name):\n",
    "        self.name = name\n",
    "\n",
    "class Doctor(Person):\n",
    "    def __init__(self, name):\n",
    "        super().__init__(f'Dr. {name}')"
   ]
  },
  {
   "cell_type": "code",
   "execution_count": 11,
   "id": "4cd0f514-5176-4a24-a1b1-a8106f7f03f7",
   "metadata": {},
   "outputs": [
    {
     "name": "stdout",
     "output_type": "stream",
     "text": [
      "Dr. David\n"
     ]
    }
   ],
   "source": [
    "david = Doctor('David')\n",
    "print(david.name)"
   ]
  },
  {
   "cell_type": "markdown",
   "id": "07ac26cb-b3c0-42e3-859b-4721681dd8e5",
   "metadata": {},
   "source": [
    "### 다중 상속\n",
    "- method resolution order(MRO)\n",
    "- Animal <- Hore\n",
    "         <- Donkey\n",
    "                   <- Mule(donkey > horse)\n",
    "                   <- Hinny (horse > donkey)"
   ]
  },
  {
   "cell_type": "code",
   "execution_count": 13,
   "id": "82a56a63-3cf7-4cd8-8b97-9de5f228d2e5",
   "metadata": {},
   "outputs": [],
   "source": [
    "class Animal:\n",
    "    def says(self):\n",
    "        return '동물이 운다'\n",
    "\n",
    "#---------------------- child\n",
    "class Horse(Animal):\n",
    "    def says(self):\n",
    "        return '히히힝'\n",
    "\n",
    "class Donkey(Animal):\n",
    "    def says(self):\n",
    "        return '히이호'\n",
    "\n",
    "#---------------------- grandchild\n",
    "class Mule(Donkey, Horse): # 먼저 쓰인 순서대로 우선순위가 설정된다\n",
    "    pass\n",
    "\n",
    "class Hinny(Horse, Donkey):\n",
    "    pass"
   ]
  },
  {
   "cell_type": "code",
   "execution_count": 14,
   "id": "135109dd-a12f-40ee-940d-b721eede4ee2",
   "metadata": {},
   "outputs": [
    {
     "data": {
      "text/plain": [
       "'히이호'"
      ]
     },
     "execution_count": 14,
     "metadata": {},
     "output_type": "execute_result"
    }
   ],
   "source": [
    "Mule().says() # 히이호"
   ]
  },
  {
   "cell_type": "code",
   "execution_count": 15,
   "id": "98e7babf-4b91-49da-844c-cc2a00818647",
   "metadata": {},
   "outputs": [
    {
     "data": {
      "text/plain": [
       "'히히힝'"
      ]
     },
     "execution_count": 15,
     "metadata": {},
     "output_type": "execute_result"
    }
   ],
   "source": [
    "Hinny().says() # 히히힝"
   ]
  },
  {
   "cell_type": "code",
   "execution_count": 16,
   "id": "f05e7b6a-62f6-47b4-a2ca-b4717275b25e",
   "metadata": {},
   "outputs": [
    {
     "data": {
      "text/plain": [
       "[__main__.Mule, __main__.Donkey, __main__.Horse, __main__.Animal, object]"
      ]
     },
     "execution_count": 16,
     "metadata": {},
     "output_type": "execute_result"
    }
   ],
   "source": [
    "Mule.mro() # 가까운 부모부터 출력"
   ]
  },
  {
   "cell_type": "markdown",
   "id": "19e90cad-4ab7-4703-993c-31837941ccaa",
   "metadata": {},
   "source": [
    "### 다형성, duck typing\n",
    "- 오리처럼 걷고 오리처럼 소리낸다면 오리로 봐도 된다.\n",
    "    - dynamic typing\n",
    "    - 같은 메소드를 가지면 전혀 관계가 없는 클래스여도 동일하게 접근 가능함."
   ]
  },
  {
   "cell_type": "code",
   "execution_count": 17,
   "id": "32b56844-9097-4a52-a816-8cd734593828",
   "metadata": {},
   "outputs": [
    {
     "name": "stdout",
     "output_type": "stream",
     "text": [
      "동물이 운다\n",
      "히히힝\n",
      "히이호\n"
     ]
    }
   ],
   "source": [
    "for animal in [Animal(), Horse(), Mule()]:\n",
    "    print(animal.says())"
   ]
  },
  {
   "cell_type": "markdown",
   "id": "6b86f3cc-5398-4699-b6f9-5fd56ade2945",
   "metadata": {},
   "source": [
    "### 메서드\n",
    "- 인스턴스 메서드\n",
    "- 클래스 메서드\n",
    "- 정적 메서드\n",
    "- 추상 메서드"
   ]
  },
  {
   "cell_type": "markdown",
   "id": "e46e65fc-e3a5-4f28-b0ab-7697ac1b8f33",
   "metadata": {},
   "source": [
    "#### 1) 인스턴스 메서드:\n",
    "    - 첫 번쨰 인수가 self인 메서드\n",
    "    - 우리가 지금까지 배운 메서드\n",
    "    - 객체 생성한 후 사용 가능"
   ]
  },
  {
   "cell_type": "code",
   "execution_count": 9,
   "id": "2f084b78-d01f-44a3-94b8-b082521be097",
   "metadata": {},
   "outputs": [
    {
     "data": {
      "text/plain": [
       "'히히힝'"
      ]
     },
     "execution_count": 9,
     "metadata": {},
     "output_type": "execute_result"
    }
   ],
   "source": [
    "h = Hinny()\n",
    "h.says()"
   ]
  },
  {
   "cell_type": "markdown",
   "id": "4cc83098-1cce-407d-8da7-64f7a3ec2298",
   "metadata": {},
   "source": [
    "#### 2) 클래스 메서드:\n",
    "    - 객체마다 달라지지 않음\n",
    "    - 모든 객체가 공유하는 (클래스) 변수, 메서드\n",
    "    - cls 예약어\n",
    "    - 데코레이터 @classmethod 사용한다.\n",
    "    - 객체 생성할 필요 x, 클래스 메소드가 선언만 되어있다면 바로 접근 가능"
   ]
  },
  {
   "cell_type": "code",
   "execution_count": 19,
   "id": "def0f5b3-e890-4add-8081-1dcad99874df",
   "metadata": {},
   "outputs": [],
   "source": [
    "class A:\n",
    "    cnt = 0\n",
    "    \n",
    "    @classmethod\n",
    "    def move(cls): # self, super(), cls\n",
    "        print(cls.cnt)"
   ]
  },
  {
   "cell_type": "code",
   "execution_count": 20,
   "id": "3f17a759-fb9b-462d-8d8d-a14eecff1d9a",
   "metadata": {},
   "outputs": [
    {
     "name": "stdout",
     "output_type": "stream",
     "text": [
      "0\n"
     ]
    }
   ],
   "source": [
    "A().move() # 클래스에 직접 접근 가능"
   ]
  },
  {
   "cell_type": "code",
   "execution_count": 29,
   "id": "955fd410-b37c-4294-b52c-5e08e41176de",
   "metadata": {},
   "outputs": [],
   "source": [
    "class B:\n",
    "    cnt = 0 # <----------  클래스 변수 cnt\n",
    "    def __init__(self):# |\n",
    "        B.cnt += 1 # ----  예외: initialize할 때 클래스 변수에 접근하려면 객체이름 자체 사용\n",
    "    \n",
    "    @classmethod\n",
    "    def count(cls):\n",
    "        print(cls.cnt)"
   ]
  },
  {
   "cell_type": "code",
   "execution_count": 28,
   "id": "1d7eae7c-bc34-45c4-9d82-4c35c41bd1a2",
   "metadata": {},
   "outputs": [
    {
     "name": "stdout",
     "output_type": "stream",
     "text": [
      "4\n"
     ]
    }
   ],
   "source": [
    "B()\n",
    "B()\n",
    "B()\n",
    "B().count()"
   ]
  },
  {
   "cell_type": "code",
   "execution_count": 32,
   "id": "518fb4c4-7970-42b5-a811-026635ecd633",
   "metadata": {},
   "outputs": [],
   "source": [
    "class Person:\n",
    "    def __init__(self, name, age):\n",
    "        self.name = name\n",
    "        self.age = age\n",
    "    \n",
    "    @classmethod\n",
    "    def tuple_object(cls, args):\n",
    "        # 튜플로 인자를 받아 객체를 생성하도록 하는 메서드\n",
    "        return cls(args[0], args[1])\n",
    "\n",
    "name = 'hong'\n",
    "age = 24\n",
    "                                 \n",
    "info = name, age\n",
    "p = Person.tuple_object(info) # 객체 생성하지 않고 메서드에 접근했다."
   ]
  },
  {
   "cell_type": "code",
   "execution_count": 33,
   "id": "2952efe4-712b-4e16-9212-91199b612ec5",
   "metadata": {},
   "outputs": [
    {
     "data": {
      "text/plain": [
       "('hong', 24)"
      ]
     },
     "execution_count": 33,
     "metadata": {},
     "output_type": "execute_result"
    }
   ],
   "source": [
    "p.name, p.age"
   ]
  },
  {
   "cell_type": "markdown",
   "id": "a4f2484f-8eb3-430a-820f-e9bffb9c9c91",
   "metadata": {},
   "source": [
    "#### 3) 정적 메소드\n",
    "    - 첫 번째 인수가 self가 아님\n",
    "    - 클래스나 인스턴스에 접근하지 않는 메소드\n",
    "    - = 객체 생성하지 않고 접근 가능\n",
    "    - 비슷한 유틸리티라서 클래스 내에 묶어둘 때 사용"
   ]
  },
  {
   "cell_type": "code",
   "execution_count": 18,
   "id": "5e433567-2e48-47ea-8a53-c097a00ffb7f",
   "metadata": {},
   "outputs": [
    {
     "data": {
      "text/plain": [
       "'hi'"
      ]
     },
     "execution_count": 18,
     "metadata": {},
     "output_type": "execute_result"
    }
   ],
   "source": [
    "#staticmethod\n",
    "class Coyote:\n",
    "    \n",
    "    @staticmethod\n",
    "    def says(cry): # self 없음 = 객체를 사용하지 않음\n",
    "        return 'hi' + cry\n",
    "    \n",
    "Coyote.says()"
   ]
  },
  {
   "cell_type": "markdown",
   "id": "db380ba0-26d4-4a3c-9649-da0ba6305017",
   "metadata": {},
   "source": [
    "#### 4) 추상 메소드\n",
    "    - 설계도 / 청사진\n",
    "    - 부모 클래스에서 개괄적으로 설명만 적어놓는 것. 자식 클래스에서 오버라이드해야 함\n",
    "    - 가독성이 좋아 협업할 때 유용함."
   ]
  },
  {
   "cell_type": "code",
   "execution_count": 21,
   "id": "cbe52fc4-7b1d-4a4b-b836-4c428da01d3b",
   "metadata": {},
   "outputs": [],
   "source": [
    "from abc import *\n",
    "\n",
    "class Vehicle(metaclass = ABCMeta): # 추상클래스\n",
    "    # 변수에 뭘 넣을지 정의하기\n",
    "    speed = '속도'\n",
    "    \n",
    "    # 자식 클래스가 오버라이드해야 하는 메서드 정의, 구체화하지 않는다.\n",
    "    @abstractmethod\n",
    "    def drive(self):\n",
    "        print('교통수단에 관하여')\n",
    "        \n",
    "    def stop(self):\n",
    "        pass\n",
    "    \n",
    "    def park(self):\n",
    "        pass\n",
    "#-----------------------------------\n",
    "        \n",
    "class Car(Vehicle):\n",
    "    def drive(self):\n",
    "        return super().speed"
   ]
  },
  {
   "cell_type": "markdown",
   "id": "de4d139a-1aaf-4228-9684-a6f25db052ab",
   "metadata": {},
   "source": [
    "### 매직메소드\n",
    "- `__init__` : special method\n",
    "\n",
    "- object 클래스를 재정의하는 것\n",
    "    - `__str__`\n",
    "    - `__repr__`"
   ]
  },
  {
   "cell_type": "code",
   "execution_count": 26,
   "id": "5c4d0783-a6d5-4920-8306-7869288c7d65",
   "metadata": {},
   "outputs": [],
   "source": [
    "class Person:\n",
    "    def __init__(self, name):\n",
    "        self.name = name\n",
    "    \n",
    "    def __str__(self):\n",
    "        # 인스턴스를 스트링으로 출력. (이름, 메모리주소)\n",
    "        # print(인스턴스)했을 때 출력되는 값\n",
    "        return self.name\n",
    "    \n",
    "    def __repr__(self):\n",
    "        # 사용자가 이해할 수 있게 객체를 출력하고 싶을 때 사용한다.\n",
    "        return f'Person({self.name})'"
   ]
  },
  {
   "cell_type": "code",
   "execution_count": 27,
   "id": "14b643a8-3278-4ad7-bcc9-3d2d933b5251",
   "metadata": {},
   "outputs": [],
   "source": [
    "p = Person('lee')"
   ]
  },
  {
   "cell_type": "code",
   "execution_count": 28,
   "id": "d8ebcf97-9041-4a3d-91f8-a39558d20235",
   "metadata": {},
   "outputs": [
    {
     "data": {
      "text/plain": [
       "Person(lee)"
      ]
     },
     "execution_count": 28,
     "metadata": {},
     "output_type": "execute_result"
    }
   ],
   "source": [
    "p, print(p)"
   ]
  },
  {
   "cell_type": "code",
   "execution_count": 30,
   "id": "b29bfde7-d60e-402a-9b41-e08b6798f3d3",
   "metadata": {},
   "outputs": [
    {
     "data": {
      "text/plain": [
       "('lee', 'Person(lee)')"
      ]
     },
     "execution_count": 30,
     "metadata": {},
     "output_type": "execute_result"
    }
   ],
   "source": [
    "str(p), repr(p)"
   ]
  },
  {
   "cell_type": "markdown",
   "id": "78c3bbf7-f0f2-40bd-8fe8-7ee09483ee1e",
   "metadata": {},
   "source": [
    "### namedtuple, dataclass\n",
    "- 변수만 있는 클래스 설정할 때 더 효율적으로 사용하는 수단\n",
    "- 딕셔너리 키와 같은 기능\n",
    "- 불변 객체"
   ]
  },
  {
   "cell_type": "code",
   "execution_count": 31,
   "id": "76164afd-71ee-42df-8afd-09103d493e23",
   "metadata": {},
   "outputs": [],
   "source": [
    "from collections import namedtuple\n",
    "\n",
    "Person = namedtuple('Person', 'name age')\n",
    "a = Person('kim', 33)"
   ]
  },
  {
   "cell_type": "code",
   "execution_count": 32,
   "id": "b967d45a-a57a-4bad-9a47-491cd8db9aba",
   "metadata": {},
   "outputs": [
    {
     "data": {
      "text/plain": [
       "('kim', 33)"
      ]
     },
     "execution_count": 32,
     "metadata": {},
     "output_type": "execute_result"
    }
   ],
   "source": [
    "a.name, a.age"
   ]
  },
  {
   "cell_type": "code",
   "execution_count": 33,
   "id": "58b1c0f8-e373-427f-8d37-af15dbda501b",
   "metadata": {},
   "outputs": [],
   "source": [
    "b = a._replace(name = 'lee')"
   ]
  },
  {
   "cell_type": "code",
   "execution_count": 34,
   "id": "795429b4-d062-4e64-983a-910738bdff3b",
   "metadata": {},
   "outputs": [],
   "source": [
    "from dataclasses import dataclass\n",
    "\n",
    "@dataclass\n",
    "class Person:\n",
    "    name: str\n",
    "    age: int"
   ]
  },
  {
   "cell_type": "code",
   "execution_count": 35,
   "id": "f8b45e29-1030-47bb-91f6-47f8b20a2001",
   "metadata": {},
   "outputs": [],
   "source": [
    "a = Person('kim', 33)"
   ]
  },
  {
   "cell_type": "code",
   "execution_count": 36,
   "id": "4b18b4bf-f50e-4e28-aa3c-ec581231d7c1",
   "metadata": {},
   "outputs": [
    {
     "data": {
      "text/plain": [
       "33"
      ]
     },
     "execution_count": 36,
     "metadata": {},
     "output_type": "execute_result"
    }
   ],
   "source": [
    "a.age"
   ]
  }
 ],
 "metadata": {
  "kernelspec": {
   "display_name": "Python 3 (ipykernel)",
   "language": "python",
   "name": "python3"
  },
  "language_info": {
   "codemirror_mode": {
    "name": "ipython",
    "version": 3
   },
   "file_extension": ".py",
   "mimetype": "text/x-python",
   "name": "python",
   "nbconvert_exporter": "python",
   "pygments_lexer": "ipython3",
   "version": "3.9.7"
  }
 },
 "nbformat": 4,
 "nbformat_minor": 5
}
