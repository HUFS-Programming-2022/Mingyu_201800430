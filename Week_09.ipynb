{
 "cells": [
  {
   "cell_type": "markdown",
   "id": "8623c2e0-b7ea-4b79-be27-a2f4b943138a",
   "metadata": {},
   "source": [
    "# 9주차| 4.29.2022(금)"
   ]
  },
  {
   "cell_type": "markdown",
   "id": "35504d65-ad1b-48ce-aae9-119e680c5b30",
   "metadata": {},
   "source": [
    "공지사항)\n",
    "- 다음주부터는 퀴즈 말고 프로젝트.\n",
    "- 테스크를 내줄탠데 팀 단위로 코드를 짜고 제출하는 것.\n",
    "- 2팀 100점 2팀 70점 2팀 50점 등등 점수 차등분배\n",
    "- 기한: 수요일 자정\n",
    "- !) 퀴즈보는 시간에 랜덤으로 뽑아서 퀴즈 설명시키는데 설명 못하면 점수 차감\n",
    "- 코드 퀄리티는 pylint, 조교와의 상의, pydocstyle로 판별.\n",
    "    - !pip install pylint\n",
    "    - !pylint example.py # 3 / 10\n",
    "    - !pip install pydocstyle\n",
    "    - !pydocstyle example.py\n",
    "   - 되도록이면 구글링하지 않고 풀기."
   ]
  },
  {
   "cell_type": "markdown",
   "id": "679c3d8a-ad2f-4d01-812e-f1b160544671",
   "metadata": {
    "tags": []
   },
   "source": [
    "## Dictionary"
   ]
  },
  {
   "cell_type": "markdown",
   "id": "8b483c7e-588f-4e34-bf7a-1c11ff4cd4a0",
   "metadata": {},
   "source": [
    "- 영어 사전\n",
    "    - {키: 값} 형태의 자료구조.\n",
    "    - 순서가 없다 => 인덱싱 불가능\n",
    "    - 대신 '키'로 값을 찾는다. 키 중복 x\n",
    "    - 가변: 수정, 삭제, 추가 가능.\n",
    "    - value에 다양한 자료구조가 올 수 있음.\n",
    "        - a: [1, 2, 3, 4] 등"
   ]
  },
  {
   "cell_type": "code",
   "execution_count": null,
   "id": "85c19569-42ef-4542-a065-f8a13ae2960f",
   "metadata": {},
   "outputs": [],
   "source": [
    "# 빈 딕셔너리 선언\n",
    "empty = dict()\n",
    "empty = {}"
   ]
  },
  {
   "cell_type": "code",
   "execution_count": 2,
   "id": "34ea0649-f474-4324-a0d8-5f9be00f6d6e",
   "metadata": {},
   "outputs": [],
   "source": [
    "a = {1, 2, 3} # = set\n",
    "a = {1: 'apple', 2: 'banana', 3: 'kiwi'} # = dict"
   ]
  },
  {
   "cell_type": "code",
   "execution_count": 7,
   "id": "6cb51431-68f0-4599-a58e-38379c8e781c",
   "metadata": {},
   "outputs": [
    {
     "name": "stdout",
     "output_type": "stream",
     "text": [
      "{'': ''}\n",
      "{'apple': 'a', 'banana': 'b', 'kiwi': 'c'}\n"
     ]
    }
   ],
   "source": [
    "b = {'': '', '': '', '': ''}\n",
    "print(b) # 같은 key의 value는 맨 마지막 값으로 인식됨\n",
    "\n",
    "b = dict(apple='a', banana='b', kiwi='c') # 딕셔너리 선언 방법\n",
    "print(b)"
   ]
  },
  {
   "cell_type": "markdown",
   "id": "651a4767-0022-45fb-95a8-2a8b674cccd3",
   "metadata": {},
   "source": [
    "### 출석부로 딕셔너리 만들기\n",
    "- 이름, 학번, 학과\n",
    "    - james 202201 경제학과\n",
    "    - laura 202203 스페인어과\n",
    "    - louis 202202 컴공과"
   ]
  },
  {
   "cell_type": "code",
   "execution_count": 8,
   "id": "401d6959-8d6b-46e7-810a-f448648a05b0",
   "metadata": {},
   "outputs": [
    {
     "data": {
      "text/plain": [
       "{202201: ['james', '경제학과'],\n",
       " 202202: ['louis', '컴공과'],\n",
       " 202203: ['laura', '스페인어과']}"
      ]
     },
     "execution_count": 8,
     "metadata": {},
     "output_type": "execute_result"
    }
   ],
   "source": [
    "attendance = {202201: ['james', '경제학과'], 202202: ['louis', '컴공과'], 202203: ['laura', '스페인어과']}\n",
    "attendance"
   ]
  },
  {
   "cell_type": "markdown",
   "id": "7b27e794-9834-440c-8c47-0e3af424342d",
   "metadata": {},
   "source": [
    "## 형 변환\n",
    "- key, value 값이 쌍으로 있을 때 가능."
   ]
  },
  {
   "cell_type": "code",
   "execution_count": 10,
   "id": "9bcc48fa-312f-4807-aa80-b80d7c8a0d15",
   "metadata": {},
   "outputs": [
    {
     "data": {
      "text/plain": [
       "{1: 2, 2: 3, 3: 4}"
      ]
     },
     "execution_count": 10,
     "metadata": {},
     "output_type": "execute_result"
    }
   ],
   "source": [
    "# [] 안에 []가 쌍으로 존재할 때\n",
    "# 튜플이어도 가능\n",
    "\n",
    "ex1 = [[1, 2], [2, 3], [3, 4]]\n",
    "dict(ex1)"
   ]
  },
  {
   "cell_type": "code",
   "execution_count": 11,
   "id": "7422adc0-ae53-4c62-bd64-55b12b4a4b25",
   "metadata": {},
   "outputs": [
    {
     "data": {
      "text/plain": [
       "{1: 2, 2: 3, 3: 4}"
      ]
     },
     "execution_count": 11,
     "metadata": {},
     "output_type": "execute_result"
    }
   ],
   "source": [
    "ex2 = [(1, 2), (2, 3), (3, 4)]\n",
    "dict(ex2)"
   ]
  },
  {
   "cell_type": "code",
   "execution_count": 12,
   "id": "41062c4d-04e1-4efc-bd97-fa165ac3dcfb",
   "metadata": {},
   "outputs": [
    {
     "data": {
      "text/plain": [
       "{'a': 'b', 'b': 'c', 'c': 'd'}"
      ]
     },
     "execution_count": 12,
     "metadata": {},
     "output_type": "execute_result"
    }
   ],
   "source": [
    "ex3 = ['ab', 'bc', 'cd']\n",
    "dict(ex3) # 문자열 길이가 3 이상일 때부터는 오류 발생"
   ]
  },
  {
   "cell_type": "code",
   "execution_count": 13,
   "id": "27c05c0b-dce7-471b-bf4c-cc1cdd8c83d1",
   "metadata": {},
   "outputs": [
    {
     "data": {
      "text/plain": [
       "{1: 3, 2: 3}"
      ]
     },
     "execution_count": 13,
     "metadata": {},
     "output_type": "execute_result"
    }
   ],
   "source": [
    "ex4 = [[1, 2], [2, 3], [1, 3]]\n",
    "dict(ex4) # key 값이 똑같은 쌍이 있을 경우 마지막 value 값만 인식됨"
   ]
  },
  {
   "cell_type": "code",
   "execution_count": 16,
   "id": "e3926ff2-e861-45ae-a30b-ba7db338d086",
   "metadata": {},
   "outputs": [
    {
     "data": {
      "text/plain": [
       "'Eric'"
      ]
     },
     "execution_count": 16,
     "metadata": {},
     "output_type": "execute_result"
    }
   ],
   "source": [
    "pythons = {\n",
    "    'Champan': 'Graham',\n",
    "    'Cleese': 'John',\n",
    "    'Idle': 'Eric',\n",
    "    'Jones': 'Terry',\n",
    "    'Palin': 'Michael'\n",
    "}\n",
    "\n",
    "# 조회(key로 value 찾기)\n",
    "# key가 없을 경우 오류\n",
    "pythons['Idle']"
   ]
  },
  {
   "cell_type": "code",
   "execution_count": 18,
   "id": "03db1677-5c59-4d6d-83c2-f989f6cd4e16",
   "metadata": {},
   "outputs": [
    {
     "data": {
      "text/plain": [
       "{'Champan': 'Graham',\n",
       " 'Cleese': 'John',\n",
       " 'Idle': 'James',\n",
       " 'Jones': 'Terry',\n",
       " 'Palin': 'Michael',\n",
       " 'Lionel': 'Messi'}"
      ]
     },
     "execution_count": 18,
     "metadata": {},
     "output_type": "execute_result"
    }
   ],
   "source": [
    "pythons['Lionel'] = 'Messi' # 추가, dict[key] = value\n",
    "pythons['Idle'] = 'James' # 변경\n",
    "pythons"
   ]
  },
  {
   "cell_type": "code",
   "execution_count": 19,
   "id": "6a2ac15d-7a79-4365-8c46-a7cba48866bf",
   "metadata": {},
   "outputs": [
    {
     "data": {
      "text/plain": [
       "0"
      ]
     },
     "execution_count": 19,
     "metadata": {},
     "output_type": "execute_result"
    }
   ],
   "source": [
    "# 예외 없이 하는 방법\n",
    "# 1. 값이 있는지 없는지 확인\n",
    "'Messi' in pythons\n",
    "# 2. get()\n",
    "pythons.get('Lee', 0) # 있으면 key 반환, 없으면 None 반환, 원하는 반환 값 설정 가능"
   ]
  },
  {
   "cell_type": "markdown",
   "id": "1df32692-4058-43ac-b60d-4f15efa1ed4e",
   "metadata": {},
   "source": [
    "### 전체 조회\n",
    "- keys()\n",
    "- values()\n",
    "- items()"
   ]
  },
  {
   "cell_type": "code",
   "execution_count": 20,
   "id": "68f12182-d01c-4b3c-bfd7-385fdf057d01",
   "metadata": {},
   "outputs": [
    {
     "name": "stdout",
     "output_type": "stream",
     "text": [
      "dict_keys(['Champan', 'Cleese', 'Idle', 'Jones', 'Palin', 'Lionel'])\n",
      "dict_values(['Graham', 'John', 'James', 'Terry', 'Michael', 'Messi'])\n",
      "dict_items([('Champan', 'Graham'), ('Cleese', 'John'), ('Idle', 'James'), ('Jones', 'Terry'), ('Palin', 'Michael'), ('Lionel', 'Messi')])\n"
     ]
    }
   ],
   "source": [
    "print(pythons.keys())\n",
    "print(pythons.values())\n",
    "print(pythons.items()) # (key, value)튜플 형태로 반환됨 => 순회할 때 많이 사용."
   ]
  },
  {
   "cell_type": "code",
   "execution_count": 21,
   "id": "0d87c0d2-019d-4bea-b5a9-34b4cbe6de8d",
   "metadata": {},
   "outputs": [
    {
     "data": {
      "text/plain": [
       "['Champan', 'Cleese', 'Idle', 'Jones', 'Palin', 'Lionel']"
      ]
     },
     "execution_count": 21,
     "metadata": {},
     "output_type": "execute_result"
    }
   ],
   "source": [
    "list(pythons.keys()) #리스트로 사용하고 싶을 경우 리스트로 형 변환해야 함."
   ]
  },
  {
   "cell_type": "markdown",
   "id": "1883cde8-077c-4ed1-9546-96a0b73a0ec7",
   "metadata": {},
   "source": [
    "파이썬 2.7 버전까지는 a.keys() 함수를 호출할 때 반환 값으로 dict_keys가 아닌 리스트를 돌려준다.\n",
    "리스트를 돌려주기 위해서는 메모리 낭비가 발생하는데 파이썬 3.0 이후 버전에서는 이러한 메모리 낭비를 줄이기 위해 dict_keys 객체를 돌려준다. 다음에 소개할 dict_values, dict_items 역시 파이썬 3.0 이후 버전에서 추가된 것들이다. 만약 3.0 이후 버전에서 반환 값으로 리스트가 필요한 경우에는 list(a.keys())를 사용하면 된다. dict_keys, dict_values, dict_items 등은 리스트로 변환하지 않더라도 기본적인 반복(iterate) 구문(예: for문)을 실행할 수 있다.(출처: 점프 투 파이썬)"
   ]
  },
  {
   "cell_type": "code",
   "execution_count": 22,
   "id": "ca3394dd-baf8-4538-aab4-6d77e6d460db",
   "metadata": {},
   "outputs": [
    {
     "name": "stdout",
     "output_type": "stream",
     "text": [
      "Champan = Graham\n",
      "Cleese = John\n",
      "Idle = James\n",
      "Jones = Terry\n",
      "Palin = Michael\n",
      "Lionel = Messi\n"
     ]
    }
   ],
   "source": [
    "for k, v in pythons.items():\n",
    "    print(f'{k} = {v}')"
   ]
  },
  {
   "cell_type": "code",
   "execution_count": 23,
   "id": "be797bed-87df-457d-883a-7254306179e6",
   "metadata": {},
   "outputs": [
    {
     "data": {
      "text/plain": [
       "[('Champan', 'Graham'),\n",
       " ('Cleese', 'John'),\n",
       " ('Idle', 'James'),\n",
       " ('Jones', 'Terry'),\n",
       " ('Palin', 'Michael'),\n",
       " ('Lionel', 'Messi')]"
      ]
     },
     "execution_count": 23,
     "metadata": {},
     "output_type": "execute_result"
    }
   ],
   "source": [
    "[(k, v) for k, v in pythons.items()]"
   ]
  },
  {
   "cell_type": "code",
   "execution_count": 25,
   "id": "61044297-e7fb-4385-8ba7-276aa738465e",
   "metadata": {},
   "outputs": [
    {
     "data": {
      "text/plain": [
       "['Champan', 'Cleese', 'Idle', 'Jones', 'Palin', 'Lionel']"
      ]
     },
     "execution_count": 25,
     "metadata": {},
     "output_type": "execute_result"
    }
   ],
   "source": [
    "[k[0] for k in pythons.items()] # .items()는 튜플로 반환, 튜플의 0번째 요소는 Key값이고 1번째 요소는 value임"
   ]
  },
  {
   "cell_type": "code",
   "execution_count": 26,
   "id": "e5042ebf-2549-421a-80d6-f7e95e8c3ad8",
   "metadata": {},
   "outputs": [
    {
     "data": {
      "text/plain": [
       "['Champan', 'Cleese', 'Idle', 'Jones', 'Palin', 'Lionel']"
      ]
     },
     "execution_count": 26,
     "metadata": {},
     "output_type": "execute_result"
    }
   ],
   "source": [
    "[k for k in pythons] # keys"
   ]
  },
  {
   "cell_type": "markdown",
   "id": "86d01311-05a8-4f71-a306-b0cc0d987b73",
   "metadata": {},
   "source": [
    "### ex\n",
    "animal: num_leg 딕셔너리 만드시오."
   ]
  },
  {
   "cell_type": "code",
   "execution_count": 29,
   "id": "773cb0d7-06ac-49fd-9188-5d8ad886db14",
   "metadata": {},
   "outputs": [
    {
     "name": "stdout",
     "output_type": "stream",
     "text": [
      "{'cat': 4, 'snake': 0, 'monkey': 2, 'ant': 4, 'spider': 8}\n",
      "{'cat': 4, 'snake': 0, 'monkey': 2, 'ant': 4, 'spider': 8}\n"
     ]
    }
   ],
   "source": [
    "animals = 'cat snake monkey ant spider'.split()\n",
    "legs = 4, 0, 2, 4, 8\n",
    "\n",
    "# 1. animal:leg\n",
    "animal_dic = {}\n",
    "for k, v in zip(animals, legs):\n",
    "    animal_dic[k] = v\n",
    "print(animal_dic)\n",
    "\n",
    "# 2.\n",
    "print(dict([(key, value) for key, value in zip(animals, legs)]))"
   ]
  },
  {
   "cell_type": "code",
   "execution_count": 5,
   "id": "1ace6d00-3141-46e2-8812-e182b09ae565",
   "metadata": {},
   "outputs": [],
   "source": [
    "#pythons에서 성:이름 => 리스트컴프리헨션 이용해서 [{성 앞글자, 이름의 글자 수}]"
   ]
  },
  {
   "cell_type": "code",
   "execution_count": 34,
   "id": "8da64ed1-c503-4f90-931e-d01a589e2763",
   "metadata": {},
   "outputs": [
    {
     "name": "stdout",
     "output_type": "stream",
     "text": [
      "[('C', 6), ('C', 4), ('I', 5), ('J', 5), ('P', 7), ('L', 5)]\n",
      "[('C', 6), ('C', 4), ('I', 5), ('J', 5), ('P', 7), ('L', 5)]\n"
     ]
    }
   ],
   "source": [
    "# 1.\n",
    "print([(k[0], len(v)) for k, v in pythons.items()])\n",
    "\n",
    "# 2.\n",
    "print([(item[0][0], len(item[1])) for item in pythons.items()])"
   ]
  },
  {
   "cell_type": "code",
   "execution_count": 13,
   "id": "852d014c-b750-4859-8202-cdb161aa7375",
   "metadata": {},
   "outputs": [],
   "source": [
    "pythons = {'Chapman': 'Graham', 'Cleese': 'John', 'Idle': 'Erica', 'Jones': 'Terry', 'Palin': 'Josh', 'Kim': 'Laura'}"
   ]
  },
  {
   "cell_type": "code",
   "execution_count": 36,
   "id": "01249e52-8d34-42b0-9e96-2cc7311b87ca",
   "metadata": {},
   "outputs": [],
   "source": [
    "others = {\n",
    "    'Marx': 'Groucho',\n",
    "    'Howard': 'Moe'\n",
    "}"
   ]
  },
  {
   "cell_type": "code",
   "execution_count": 37,
   "id": "5c8147ba-3de2-4ee4-b88b-ed4b07c0aa72",
   "metadata": {},
   "outputs": [
    {
     "data": {
      "text/plain": [
       "{'Marx': 'Groucho',\n",
       " 'Howard': 'Moe',\n",
       " 'Champan': 'Graham',\n",
       " 'Cleese': 'John',\n",
       " 'Idle': 'James',\n",
       " 'Jones': 'Terry',\n",
       " 'Palin': 'Michael',\n",
       " 'Lionel': 'Messi'}"
      ]
     },
     "execution_count": 37,
     "metadata": {},
     "output_type": "execute_result"
    }
   ],
   "source": [
    "{**others, **pythons} # kwargs - python3.0 이상 가능, others가 앞에 있으므로 앞에 기록됨"
   ]
  },
  {
   "cell_type": "code",
   "execution_count": 15,
   "id": "19e4eeb0-ec7c-4ceb-8fd4-44bd883a091c",
   "metadata": {},
   "outputs": [],
   "source": [
    "# 삭제\n",
    "del pythons['Kim']"
   ]
  },
  {
   "cell_type": "code",
   "execution_count": 16,
   "id": "1e6ddb5a-1ce7-44f2-861c-2604b6e2575f",
   "metadata": {},
   "outputs": [
    {
     "data": {
      "text/plain": [
       "{'Chapman': 'Graham',\n",
       " 'Cleese': 'John',\n",
       " 'Idle': 'Erica',\n",
       " 'Jones': 'Terry',\n",
       " 'Palin': 'Josh'}"
      ]
     },
     "execution_count": 16,
     "metadata": {},
     "output_type": "execute_result"
    }
   ],
   "source": [
    "pythons"
   ]
  },
  {
   "cell_type": "code",
   "execution_count": 40,
   "id": "b63b0eaf-92b5-4ca2-899f-97b56587b261",
   "metadata": {},
   "outputs": [
    {
     "data": {
      "text/plain": [
       "0"
      ]
     },
     "execution_count": 40,
     "metadata": {},
     "output_type": "execute_result"
    }
   ],
   "source": [
    "pythons.pop('Marx', 0) # get과 비슷한 성질\n",
    "# pythons.pop('Marx') -> 에러"
   ]
  },
  {
   "cell_type": "code",
   "execution_count": 18,
   "id": "9d4d84fa-4f35-44e6-9cdf-6ee1a2c3315c",
   "metadata": {},
   "outputs": [],
   "source": [
    "pythons.clear()\n",
    "pythons = {}"
   ]
  },
  {
   "cell_type": "code",
   "execution_count": 19,
   "id": "c0c56f9d-cf53-4438-b1d3-01d216869fba",
   "metadata": {},
   "outputs": [
    {
     "data": {
      "text/plain": [
       "{}"
      ]
     },
     "execution_count": 19,
     "metadata": {},
     "output_type": "execute_result"
    }
   ],
   "source": []
  },
  {
   "cell_type": "markdown",
   "id": "c35f132d-7d73-4006-b1d8-cebed4230ee4",
   "metadata": {},
   "source": [
    "### copy\n",
    "  1. 할당\n",
    "  2. 얕은 복사\n",
    "  3. 깊은 복사"
   ]
  },
  {
   "cell_type": "code",
   "execution_count": 41,
   "id": "7b3fa960-5a68-422b-a562-967f501b58a1",
   "metadata": {},
   "outputs": [
    {
     "data": {
      "text/plain": [
       "({1: 10, 2: 3, 3: 4}, {1: 10, 2: 3, 3: 4})"
      ]
     },
     "execution_count": 41,
     "metadata": {},
     "output_type": "execute_result"
    }
   ],
   "source": [
    "a = {1:2, 2:3, 3:4}\n",
    "b = a\n",
    "a[1] = 10\n",
    "a, b # 같은 주소 공간을 참조하고 있기 때문에 b도 같이 변함"
   ]
  },
  {
   "cell_type": "code",
   "execution_count": 42,
   "id": "bf1c0e45-e5b8-46fb-904c-92af7ae1bf8b",
   "metadata": {},
   "outputs": [
    {
     "data": {
      "text/plain": [
       "({1: 100, 2: 3, 3: 4}, {1: 10, 2: 3, 3: 4})"
      ]
     },
     "execution_count": 42,
     "metadata": {},
     "output_type": "execute_result"
    }
   ],
   "source": [
    "b = a.copy() # shallow copy\n",
    "a[1] = 100\n",
    "a, b"
   ]
  },
  {
   "cell_type": "code",
   "execution_count": 43,
   "id": "5c9de7e4-c9ca-47cd-9442-749507e2c902",
   "metadata": {},
   "outputs": [
    {
     "data": {
      "text/plain": [
       "({1: [100, 2, 2], 2: [1, 1, 1]}, {1: [100, 2, 2], 2: [1, 1, 1]})"
      ]
     },
     "execution_count": 43,
     "metadata": {},
     "output_type": "execute_result"
    }
   ],
   "source": [
    "a = {1:[2, 2, 2], 2:[1,1,1]}\n",
    "b = a.copy()\n",
    "a[1][0] = 100\n",
    "a, b # 하지만 a와 b의 참조 주소가 달라졌음에도 불구하고 value값이 가변객체이므로 또 참조가 되는 문제"
   ]
  },
  {
   "cell_type": "code",
   "execution_count": 44,
   "id": "55d5e101-5d93-42ed-b5df-ccc7f9d0b79b",
   "metadata": {},
   "outputs": [
    {
     "data": {
      "text/plain": [
       "({1: [9, 2, 2], 2: [1, 1, 1]}, {1: [100, 2, 2], 2: [1, 1, 1]})"
      ]
     },
     "execution_count": 44,
     "metadata": {},
     "output_type": "execute_result"
    }
   ],
   "source": [
    "import copy\n",
    "b = copy.deepcopy(a) # deep copy\n",
    "a[1][0] = 9 \n",
    "a, b # 아예 value값 마저도 분리시키는 깊은 복사."
   ]
  },
  {
   "cell_type": "code",
   "execution_count": 28,
   "id": "2a9c8522-b3ae-46ae-9cf6-e3dd275b082f",
   "metadata": {},
   "outputs": [
    {
     "data": {
      "text/plain": [
       "True"
      ]
     },
     "execution_count": 28,
     "metadata": {},
     "output_type": "execute_result"
    }
   ],
   "source": [
    "# 값 비교: 같은지 다른지만 비교 가능\n",
    "a != b"
   ]
  },
  {
   "cell_type": "markdown",
   "id": "ef1ca3ab-9f58-4c5a-a67c-dbdbb0c03f1d",
   "metadata": {},
   "source": [
    "### ex\n",
    "- 두 개 리스트를 딕셔너리로 만든다 {한국어:영어}\n",
    "- 명왕성: pluto 추가하기\n",
    "- '성'으로 끝나지 않는 단어 삭제하기\n",
    "    - del solar_dict['태양'] => 하드코딩 안됨\n",
    "- sorted 1) kor 2) eng"
   ]
  },
  {
   "cell_type": "code",
   "execution_count": 46,
   "id": "f04f9e2f-6172-484b-8f22-75a323f3e2e8",
   "metadata": {},
   "outputs": [],
   "source": [
    "solar_kor = '태양 수성 금성 지구 화성 목성 토성 천왕성 해왕성'.split()\n",
    "solar_eng = 'sun mercury venus earth mars juptier saturn uranus neptune'.split()"
   ]
  },
  {
   "cell_type": "code",
   "execution_count": 56,
   "id": "e4c3bce0-13df-4beb-b97a-c7e78d20d768",
   "metadata": {},
   "outputs": [
    {
     "name": "stdout",
     "output_type": "stream",
     "text": [
      "{'금성': 'venus', '명왕성': 'pluto', '목성': 'juptier', '수성': 'mercury', '천왕성': 'uranus', '토성': 'saturn', '해왕성': 'neptune', '화성': 'mars'}\n",
      "{'목성': 'juptier', '화성': 'mars', '수성': 'mercury', '해왕성': 'neptune', '명왕성': 'pluto', '토성': 'saturn', '천왕성': 'uranus', '금성': 'venus'}\n"
     ]
    }
   ],
   "source": [
    "# 1.\n",
    "solar_dict = {}\n",
    "for k, v in zip(solar_kor, solar_eng):\n",
    "    solar_dict[k] = v\n",
    "\n",
    "# 2.\n",
    "solar_dict['명왕성'] = 'pluto' # 추가할 쌍이 하나라면 굳이 update를 쓰지 않아도 됨.\n",
    "\n",
    "# 3.\n",
    "solar_dict = {k: v for k, v in solar_dict.items() if k.endswith('성')}\n",
    "# solar_dict = {k: solar[k] for k in solar_dict if k.endswith('성'))도 가능.\n",
    "\n",
    "print(dict(sorted(solar_dict.items())))\n",
    "print(dict(sorted(solar_dict.items(), key=lambda x: x[1]))) # 정렬 순서 기준(key)을 solar_dict.items()의 1번째 요소 값 기준으로 하겠다는 말.\n",
    "# lambda x:x[1] => def fx(s): return s[0 or 1]의 원리. lambda는 익명 함수"
   ]
  },
  {
   "cell_type": "markdown",
   "id": "f5ca533b-0d80-400f-a77b-44ca0c2d95f4",
   "metadata": {},
   "source": [
    "### sorting"
   ]
  },
  {
   "cell_type": "code",
   "execution_count": 53,
   "id": "7d6ed2bf-50cc-4547-8993-97a5601f772a",
   "metadata": {},
   "outputs": [
    {
     "name": "stdout",
     "output_type": "stream",
     "text": [
      "{'수성': 'mercury', '금성': 'venus', '화성': 'mars', '목성': 'juptier', '토성': 'saturn', '천왕성': 'uranus', '해왕성': 'neptune', '명왕성': 'pluto'}\n",
      "['금성', '명왕성', '목성', '수성', '천왕성', '토성', '해왕성', '화성']\n"
     ]
    }
   ],
   "source": [
    "# 그냥 sorted()하면 key값 list만 나옴\n",
    "print(solar_dict)\n",
    "print(sorted(solar_dict))"
   ]
  },
  {
   "cell_type": "code",
   "execution_count": 58,
   "id": "de7d1faa-272b-4d72-a4d2-74317b86fbda",
   "metadata": {},
   "outputs": [
    {
     "data": {
      "text/plain": [
       "[('목성', 'juptier'),\n",
       " ('화성', 'mars'),\n",
       " ('수성', 'mercury'),\n",
       " ('해왕성', 'neptune'),\n",
       " ('명왕성', 'pluto'),\n",
       " ('토성', 'saturn'),\n",
       " ('천왕성', 'uranus'),\n",
       " ('금성', 'venus')]"
      ]
     },
     "execution_count": 58,
     "metadata": {},
     "output_type": "execute_result"
    }
   ],
   "source": [
    "def fx(s):\n",
    "    return s[1] # or s[1]\n",
    "sorted(solar_dict.items(), key=fx)"
   ]
  },
  {
   "cell_type": "code",
   "execution_count": 55,
   "id": "349d0ec4-6036-4da2-ac16-ef6b84db7e9f",
   "metadata": {},
   "outputs": [
    {
     "name": "stdout",
     "output_type": "stream",
     "text": [
      "room has the contents ballroom\n",
      "weapon has the contents lead pipe\n",
      "person has the contents Col. Mustard\n"
     ]
    }
   ],
   "source": [
    "accusation = {'room': 'ballroom', 'weapon': 'lead pipe', 'person': 'Col. Mustard'}\n",
    "\n",
    "for k, v in accusation.items():\n",
    "    print(f'{k} has the contents {v}')"
   ]
  },
  {
   "cell_type": "markdown",
   "id": "e21ba46e-1a3a-40c9-8bcf-6739c3833cba",
   "metadata": {},
   "source": [
    "### 딕셔너리 컴프리헨션"
   ]
  },
  {
   "cell_type": "code",
   "execution_count": 56,
   "id": "0eb9fde0-8479-4261-a9eb-14696e617ab0",
   "metadata": {},
   "outputs": [
    {
     "data": {
      "text/plain": [
       "{'e': 1, 'l': 1, 'p': 2, 'a': 1}"
      ]
     },
     "execution_count": 56,
     "metadata": {},
     "output_type": "execute_result"
    }
   ],
   "source": [
    "letter = 'apple'\n",
    "# {a:1, p:2, ...}\n",
    "{ch: letter.count(ch) for ch in letter}\n",
    "{ch: letter.count(ch) for ch in set(letter)}"
   ]
  },
  {
   "cell_type": "code",
   "execution_count": 61,
   "id": "f154ec99-6a8e-412f-9069-2e20be58a068",
   "metadata": {},
   "outputs": [
    {
     "name": "stdout",
     "output_type": "stream",
     "text": [
      "{'o': 4, 'a': 2, 'e': 1, 'i': 1}\n",
      "{'a': 2, 'e': 1, 'i': 1, 'o': 4}\n"
     ]
    }
   ],
   "source": [
    "vowels = 'aeiou'\n",
    "word = 'onomatopoeia'\n",
    "\n",
    "# 주어진 단어의 모음 세기\n",
    "# a:1, e:3, ...\n",
    "# vowels, word 각각 기준 잡아서 dict compre 이용해서 만들기\n",
    "\n",
    "# word 순회\n",
    "print({ch: word.count(ch) for ch in word if ch in vowels})\n",
    "# vowel 순회\n",
    "print({v: word.count(v) for v in vowels if v in word})"
   ]
  },
  {
   "cell_type": "markdown",
   "id": "b49c0b12-ee9e-4205-9d2b-89e3bbe08673",
   "metadata": {},
   "source": [
    "## Set\n",
    "- 딕셔너리의 키만 모아놓음 => 중복 없음!\n",
    "- 수학의 집합 개념. => 교집합, 합집합, 차집합, ...\n",
    "- 데이터 자루, 순서 없고, 인덱싱도 없다"
   ]
  },
  {
   "cell_type": "code",
   "execution_count": 64,
   "id": "1f1766d9-d32b-46c9-9060-fe4515db86d1",
   "metadata": {},
   "outputs": [
    {
     "data": {
      "text/plain": [
       "(set(), {})"
      ]
     },
     "execution_count": 64,
     "metadata": {},
     "output_type": "execute_result"
    }
   ],
   "source": [
    "empty = set()\n",
    "empty1 = {}\n",
    "empty, empty1"
   ]
  },
  {
   "cell_type": "code",
   "execution_count": 66,
   "id": "6f6e0fc5-2cee-4940-9ab5-41b4acfead5c",
   "metadata": {},
   "outputs": [
    {
     "name": "stdout",
     "output_type": "stream",
     "text": [
      "<class 'set'>\n",
      "<class 'tuple'>\n",
      "<class 'set'>\n"
     ]
    }
   ],
   "source": [
    "a = {1, 2, 3} #중괄호이지만 value값이 없기 때문에 set임\n",
    "print(type(a))\n",
    "b = (1, 2, 3) #튜플\n",
    "print(type(b))\n",
    "c = set((1, 2, 3)) #튜플\n",
    "print(type(c))"
   ]
  },
  {
   "cell_type": "code",
   "execution_count": 59,
   "id": "3e26fdb0-4ab2-4e54-adf9-4048f768aab1",
   "metadata": {},
   "outputs": [
    {
     "data": {
      "text/plain": [
       "{1, 2, 3}"
      ]
     },
     "execution_count": 59,
     "metadata": {},
     "output_type": "execute_result"
    }
   ],
   "source": [
    "b = set([1,2,3,3,3,3])\n",
    "b"
   ]
  },
  {
   "cell_type": "code",
   "execution_count": 68,
   "id": "a944145e-f39d-4b1e-b8cd-6151249f9b1c",
   "metadata": {},
   "outputs": [
    {
     "data": {
      "text/plain": [
       "{1, 2, 3, 4}"
      ]
     },
     "execution_count": 68,
     "metadata": {},
     "output_type": "execute_result"
    }
   ],
   "source": [
    "# 추가하기\n",
    "a.add(4)\n",
    "a"
   ]
  },
  {
   "cell_type": "code",
   "execution_count": 69,
   "id": "cd21f838-5c90-4646-abec-8719a7e0948f",
   "metadata": {},
   "outputs": [
    {
     "data": {
      "text/plain": [
       "{1, 2, 3}"
      ]
     },
     "execution_count": 69,
     "metadata": {},
     "output_type": "execute_result"
    }
   ],
   "source": [
    "# 삭제하기\n",
    "a.remove(4)\n",
    "a"
   ]
  },
  {
   "cell_type": "code",
   "execution_count": 71,
   "id": "58aed3b7-8e16-49ea-8f04-00b1b0888f3a",
   "metadata": {},
   "outputs": [
    {
     "data": {
      "text/plain": [
       "{1, 2}"
      ]
     },
     "execution_count": 71,
     "metadata": {},
     "output_type": "execute_result"
    }
   ],
   "source": [
    "a.discard(3)\n",
    "a"
   ]
  },
  {
   "cell_type": "code",
   "execution_count": 74,
   "id": "231af885-bd33-4d3a-8097-9f158d65dbfc",
   "metadata": {},
   "outputs": [
    {
     "data": {
      "text/plain": [
       "{'black russian', 'screwdriver'}"
      ]
     },
     "execution_count": 74,
     "metadata": {},
     "output_type": "execute_result"
    }
   ],
   "source": [
    "drinks = {\n",
    "    'martini': {'vodka', 'vermouth'},\n",
    "    'black russian': {'vodka', 'kahlua'},\n",
    "    'white russian': {'vodka', 'kahlua', 'cream'},\n",
    "    'manhattan': {'rye', 'vermouth', 'bitters'},\n",
    "    'screwdriver': {'orange juice', 'vodka'}\n",
    "}\n",
    "# 1. vodka가 있는 키 골라내기\n",
    "vodka_set = {key for key in drinks if 'vodka' in drinks[key]}\n",
    "\n",
    "# 2. 보드카는 있는데 크림이나 버무스가 있으면 print하지 않기\n",
    "{key for key in vodka_set if not ('cream' in drinks[key] or 'vermouth' in drinks[key])}"
   ]
  },
  {
   "cell_type": "code",
   "execution_count": 75,
   "id": "6aa10d8e-25bf-4139-858e-9d091c4a3dc6",
   "metadata": {},
   "outputs": [
    {
     "data": {
      "text/plain": [
       "{4}"
      ]
     },
     "execution_count": 75,
     "metadata": {},
     "output_type": "execute_result"
    }
   ],
   "source": [
    "a = {1, 2, 3}\n",
    "b = {2, 3, 4}\n",
    "# 교집합: intersection\n",
    "a.intersection(b) # a & b\n",
    "\n",
    "# 합집합: union\n",
    "a.union(b) # a | b\n",
    "\n",
    "# 차집합: difference\n",
    "a.difference(b) # a - b\n",
    "b - a"
   ]
  },
  {
   "cell_type": "code",
   "execution_count": 76,
   "id": "eab8d499-5a1e-4b6d-b3d2-24f9be29f02e",
   "metadata": {},
   "outputs": [
    {
     "name": "stdout",
     "output_type": "stream",
     "text": [
      "black russian\n",
      "screwdriver\n"
     ]
    }
   ],
   "source": [
    "for k, v in drinks.items():\n",
    "    if 'vodka' in v and not ({'cream', 'vermouth'}.intersection(v)):\n",
    "        print(k)"
   ]
  },
  {
   "cell_type": "code",
   "execution_count": 77,
   "id": "2b247b13-4b32-44d7-bee9-ece1f94886dd",
   "metadata": {},
   "outputs": [
    {
     "data": {
      "text/plain": [
       "{1, 2, 3}"
      ]
     },
     "execution_count": 77,
     "metadata": {},
     "output_type": "execute_result"
    }
   ],
   "source": [
    "# comprehension\n",
    "{s for s in a}"
   ]
  },
  {
   "cell_type": "code",
   "execution_count": 79,
   "id": "b7c88909-6404-4289-9693-7bb5557d95aa",
   "metadata": {},
   "outputs": [
    {
     "data": {
      "text/plain": [
       "frozenset({1, 2, 3})"
      ]
     },
     "execution_count": 79,
     "metadata": {},
     "output_type": "execute_result"
    }
   ],
   "source": [
    "# frozenset: 불변객체로 바꾸는 것\n",
    "fs = frozenset([1,2,3])\n",
    "fs"
   ]
  },
  {
   "cell_type": "code",
   "execution_count": 3,
   "id": "e21e91c5-698d-433b-ba6e-b2ea2f22bff2",
   "metadata": {},
   "outputs": [
    {
     "data": {
      "text/plain": [
       "{' ', 'd', 'e', 'h', 'l', 'o', 'r', 'w'}"
      ]
     },
     "execution_count": 3,
     "metadata": {},
     "output_type": "execute_result"
    }
   ],
   "source": [
    "text = 'hello world'\n",
    "set(text)"
   ]
  }
 ],
 "metadata": {
  "kernelspec": {
   "display_name": "Python 3 (ipykernel)",
   "language": "python",
   "name": "python3"
  },
  "language_info": {
   "codemirror_mode": {
    "name": "ipython",
    "version": 3
   },
   "file_extension": ".py",
   "mimetype": "text/x-python",
   "name": "python",
   "nbconvert_exporter": "python",
   "pygments_lexer": "ipython3",
   "version": "3.9.7"
  }
 },
 "nbformat": 4,
 "nbformat_minor": 5
}
