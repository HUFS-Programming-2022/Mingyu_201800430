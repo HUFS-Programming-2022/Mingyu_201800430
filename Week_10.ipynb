{
 "cells": [
  {
   "cell_type": "markdown",
   "id": "7f872ce8-2c31-4903-90f9-d610346acff0",
   "metadata": {},
   "source": [
    "# 10주차 | 5.6.2022(금)"
   ]
  },
  {
   "cell_type": "markdown",
   "id": "a9bc9d77-10a2-4823-8fb4-5fd905016edf",
   "metadata": {},
   "source": [
    "공지사항:\n",
    "- 프로젝트 관련 헤매고 있는 사람들은 따로 점수 부여 예정.(성적 기준 하위권)\n",
    "    - 프로젝트 참여함. 팀장도 할 수 있음 그러나 발표에서 제외.\n",
    "    - 주차 당 퀴즈들이 주어지는데, 3개 문제를 골라 풀고 해당 깃헙 레포 issue탭에 흔적을 남겨야 함.\n",
    "- 매 주 수업 시작 후 발표할 때 못해서 감점 시 개인 점수에만 반영, 팀 점수엔 영향 x.\n",
    "- 클래스 마지막 메모장 문제 풀어오기"
   ]
  },
  {
   "cell_type": "markdown",
   "id": "e785345f-10f5-46bc-9451-06d2dfb30f59",
   "metadata": {},
   "source": [
    "### Task1 관련하여"
   ]
  },
  {
   "cell_type": "code",
   "execution_count": 1,
   "id": "721d44b3-d0c0-4d3b-b3ce-283d8bc59861",
   "metadata": {},
   "outputs": [],
   "source": [
    "from collections import defaultdict"
   ]
  },
  {
   "cell_type": "markdown",
   "id": "de75dc29-9c05-44fb-b393-c445ca5608d0",
   "metadata": {},
   "source": [
    "### defaultdict\n",
    "- 값이 없으면 0으로 설정되는 딕셔너리\n",
    "- defaultdict(list) # default = [] 빈리스트"
   ]
  },
  {
   "cell_type": "code",
   "execution_count": 3,
   "id": "3a97607e-9b4d-4727-98fe-7e53f2283270",
   "metadata": {},
   "outputs": [
    {
     "data": {
      "text/plain": [
       "{'d': 2, 'e': 1, 'f': 1, 'a': 1, 'u': 1, 'l': 1, 't': 2, 'i': 1, 'c': 1}"
      ]
     },
     "execution_count": 3,
     "metadata": {},
     "output_type": "execute_result"
    }
   ],
   "source": [
    "letter = 'defaultdict'\n",
    "empty = {} # a : [a, a]\n",
    "for ch in letter:\n",
    "    #if empty[ch] = 0\n",
    "    #else 값을 넣어라\n",
    "    empty.setdefault(ch, 0) # a 키가 없으면 기본값으로 0을 넣어라\n",
    "    empty[ch] += 1\n",
    "empty"
   ]
  },
  {
   "cell_type": "code",
   "execution_count": 4,
   "id": "a4122056-0b83-4a78-a1d8-a69f91f6ddb4",
   "metadata": {},
   "outputs": [
    {
     "data": {
      "text/plain": [
       "defaultdict(int,\n",
       "            {'d': 2,\n",
       "             'e': 1,\n",
       "             'f': 1,\n",
       "             'a': 1,\n",
       "             'u': 1,\n",
       "             'l': 1,\n",
       "             't': 2,\n",
       "             'i': 1,\n",
       "             'c': 1})"
      ]
     },
     "execution_count": 4,
     "metadata": {},
     "output_type": "execute_result"
    }
   ],
   "source": [
    "empty2 = defaultdict(int)\n",
    "for ch in letter:\n",
    "    empty2[ch] += 1\n",
    "empty2"
   ]
  },
  {
   "cell_type": "markdown",
   "id": "28dbb258-4267-40a7-a527-f7ac78eea5e7",
   "metadata": {},
   "source": [
    "## Object & Class\n",
    "- 객체란? 실생활에서 볼 수 있는 실제적인 물견이나 개념.\n",
    "- 프로그래밍 언어에서의 객체 = 속성, 행동을 가지는 개념\n",
    "- 자동차를 구현할 때\n",
    "    - 속성: 엔진, 브랜드, 가격, 색상, 이름, ... => 변수\n",
    "    - 행동: 전진하다. 정지하다. 좌/우회전. ...  => 메서드(함수)\n",
    "- 고양이\n",
    "    - 속성: 종, 이름, 컬러, 몸무게, 성별, ...\n",
    "    - 행동: 짖다, 뛰다, 걷다, 째려보다, ...\n",
    "- 사전\n",
    "    - 속성: 글자 수, 시작 글자, 출현 빈도수, ...\n",
    "    - 행동: 추가하다, 제외하다, ...\n",
    "- 관련 짓는 방법\n",
    "    - 사람             상점                   물건\n",
    "    - 이름, 돈          재고, 이익, 고객명단,     브랜드, 이름, 가격,\n",
    "    - 사다             회원등록, 팔다, 수익계산\n",
    "- 객체 사용하는 이유: 코드 재사용 수월하기 때문"
   ]
  },
  {
   "cell_type": "markdown",
   "id": "822e0188-732e-463a-9ce2-9497bec64cdf",
   "metadata": {},
   "source": [
    "### 클래스\n",
    "- 객체가 가져야 할 기본 정보를 담은 코드\n",
    "- 설계도, 틀, 프레임워크\n",
    "- 붕어빵틀, 붕어빵 자체 == 인스턴스\n",
    "- 구현: `class Car:`\n",
    "    - 클래스명은 카멜표기법을 쓴다."
   ]
  },
  {
   "cell_type": "markdown",
   "id": "653995b1-9abf-42d7-8e50-b5ad0a807fa6",
   "metadata": {},
   "source": [
    "#### + [객체와 인스턴스의 차이] - [점프 투 파이썬](https://wikidocs.net/28)\n",
    "- 클래스로 만든 객체를 인스턴스라고도 한다. 그렇다면 객체와 인스턴스의 차이는 무엇일까?\n",
    "- 이렇게 생각해 보자. a = Cookie() 이렇게 만든 a는 객체이다. 그리고 a 객체는 Cookie의 인스턴스이다.\n",
    "- 즉 인스턴스라는 말은 특정 객체(a)가 어떤 클래스(Cookie)의 객체인지를 관계 위주로 설명할 때 사용한다.\n",
    "- \"a는 인스턴스\"보다는 \"a는 객체\"라는 표현이 어울리며 \"a는 Cookie의 객체\"보다는 \"a는 Cookie의 인스턴스\"라는 표현이 훨씬 잘 어울린다."
   ]
  },
  {
   "cell_type": "code",
   "execution_count": 5,
   "id": "98c690bf-7277-45fc-bbab-44d1541fe03f",
   "metadata": {},
   "outputs": [
    {
     "data": {
      "text/plain": [
       "<__main__.Car at 0x7fc1049efe20>"
      ]
     },
     "execution_count": 5,
     "metadata": {},
     "output_type": "execute_result"
    }
   ],
   "source": [
    "# 정의\n",
    "class Car:\n",
    "    pass\n",
    "\n",
    "# 선언 (괄호 꼭 쓸 것)\n",
    "car1 = Car()\n",
    "car2 = Car()"
   ]
  },
  {
   "cell_type": "code",
   "execution_count": 8,
   "id": "74f4b2f3-acdb-42ef-ae96-2bd9daae38c7",
   "metadata": {},
   "outputs": [
    {
     "data": {
      "text/plain": [
       "__main__.Car"
      ]
     },
     "execution_count": 8,
     "metadata": {},
     "output_type": "execute_result"
    }
   ],
   "source": [
    "type(car1) # nltk.book type했을 때 Text 뜨는 것도 다 class임"
   ]
  },
  {
   "cell_type": "code",
   "execution_count": 9,
   "id": "29a30d58-b6d8-43fd-9e38-265f12ae5dd5",
   "metadata": {},
   "outputs": [
    {
     "name": "stdout",
     "output_type": "stream",
     "text": [
      "mercedes\n",
      "kia\n"
     ]
    }
   ],
   "source": [
    "car1.brand = 'mercedes'  # 외부에서 클래스 속성을 삽입해주는 방식\n",
    "car2.brand = 'kia'\n",
    "\n",
    "for car in [car1, car2]:\n",
    "    print(car.brand)"
   ]
  },
  {
   "cell_type": "code",
   "execution_count": 10,
   "id": "c9bfe8b4-6e23-4659-b50b-bce694581773",
   "metadata": {},
   "outputs": [
    {
     "data": {
      "text/plain": [
       "'mercedes'"
      ]
     },
     "execution_count": 10,
     "metadata": {},
     "output_type": "execute_result"
    }
   ],
   "source": [
    "class Car:\n",
    "    brand = 'mercedes'   # 내부에서 클래스 속성을 정하는 방식\n",
    "    \n",
    "car3 = Car()\n",
    "car3.brand"
   ]
  },
  {
   "cell_type": "code",
   "execution_count": 2,
   "id": "2e478a31-9161-4ab6-bc25-0a34cd3b7374",
   "metadata": {},
   "outputs": [],
   "source": [
    "class Car:\n",
    "    def __init__(self, brand): # 속성을 초기화하는 함수 __init__(self, ~~)\n",
    "        self.brand = brand     # self에는 instance가 들어오게 되는 것. a.brand, b.brand, c.brand, ..."
   ]
  },
  {
   "cell_type": "code",
   "execution_count": 3,
   "id": "1995b3d5-ba24-4df7-9260-b03589f67817",
   "metadata": {},
   "outputs": [
    {
     "data": {
      "text/plain": [
       "'toyota'"
      ]
     },
     "execution_count": 3,
     "metadata": {},
     "output_type": "execute_result"
    }
   ],
   "source": [
    "my_car = Car(brand='toyota')   # my_car 가 인스턴스이므로 self로 들어감\n",
    "my_car.brand"
   ]
  },
  {
   "cell_type": "code",
   "execution_count": 45,
   "id": "0e7f904f-d7ae-420a-addf-2b53bfd2e7c8",
   "metadata": {},
   "outputs": [],
   "source": [
    "# color, model 속성 초기화하기\n",
    "class Car:\n",
    "    def __init__(self, brand, model=None, color='orange'): # 함수 arg와 똑같이 kwarg는 맨 마지막부터 몰아넣기.\n",
    "        self.brand = brand # self == instance\n",
    "            # self.brand = 객체변수\n",
    "            # brand = 클래스 변수\n",
    "        self.model = model\n",
    "        self.color = color\n",
    "            # model 기본값을 안받아도 되게 설정하기? =None, ='' 빈스트링은 정답이 아님\n",
    "        \n",
    "    # action/method 정의하기\n",
    "    def drive(self):\n",
    "        # 내차(브랜드={})가 움직인다.\n",
    "        print(f'내 차 {self.model}가 움직인다.')\n",
    "    \n",
    "    def stop(self):\n",
    "        print('차가 멈춘다.')\n",
    "\n",
    "    def change_color(self, color):\n",
    "        self.color = 'pink'\n",
    "        self.color = color\n",
    "        \n",
    "my_car = Car(brand='hyundai', color='blue', model='pony')"
   ]
  },
  {
   "cell_type": "markdown",
   "id": "9197d704-d8f5-40a1-ae81-73c977620e69",
   "metadata": {},
   "source": [
    "#### + 클래스 변수와 객체 변수\n",
    "\n",
    "```python\n",
    "class Family:\n",
    "    lastname = '김'\n",
    "```\n",
    "다음과 같은 클래스에 lastname이란 변수를 선언했을 때\n",
    "```python\n",
    "print(Family.lastname) # 김\n",
    "a, b = Family(), Family()\n",
    "print(a.lastname) # 김\n",
    "print(b.lastname) # 김\n",
    "```\n",
    "의 결과는 모두 동일하게 '김'이다.\n",
    "만약 Family 클래스의 lastname을 '박'이라는 문자열로 바꾸게 되면 a, b 객체와 상관없이 모두 '박'으로 변경된다.\n",
    "```python\n",
    "Family.lastname = '박'\n",
    "print(a.lastname) # 박\n",
    "print(b.lastname) # 박\n",
    "```\n",
    "이 때 `a.lastname`을 '최'로 변경하게 되면 어떻게 될까?\n",
    "```python\n",
    "a.lastname = '최' # print(a.lastname) = '최'\n",
    "```\n",
    "이렇게 하면 Family 클래스의 lastname이 바뀌는 것이 아니라 a 객체에 lastname이라는 '객체변수'가 새롭게 생성된다. 이제 a 객체의 lastname은 Family 클래스의 그것이 아닌 객체 a의 객체변수 lastname을 가리킨다. 즉 Family 클래스와 서로 영향을 주고받지 않게 된다는 것이다.\n",
    "```python\n",
    "print(Family.lastname) # 박\n",
    "print(b.lastname) # 박\n",
    "```\n",
    "코드를 짤 때 클래스 변수로 선언하기보다 가급적 객체변수로 선언을 해주는 것이 변수의 독립적 사용에 용이하다."
   ]
  },
  {
   "cell_type": "code",
   "execution_count": 46,
   "id": "5576e389-b67a-465c-a50b-9ca5a5715a1f",
   "metadata": {},
   "outputs": [
    {
     "data": {
      "text/plain": [
       "'white'"
      ]
     },
     "execution_count": 46,
     "metadata": {},
     "output_type": "execute_result"
    }
   ],
   "source": [
    "my_car.color = 'white'\n",
    "my_car.color # 이 객체에 대해서만 속성이 바뀜"
   ]
  },
  {
   "cell_type": "code",
   "execution_count": 47,
   "id": "9d669ccd-262d-4d58-98bb-487c3cf93878",
   "metadata": {},
   "outputs": [
    {
     "data": {
      "text/plain": [
       "'sonata'"
      ]
     },
     "execution_count": 47,
     "metadata": {},
     "output_type": "execute_result"
    }
   ],
   "source": [
    "my_sonata = Car('hyundai', 'silver', 'sonata') # init 인자 차례대로 넣으면 생략해줘도 됨\n",
    "my_sonata.model"
   ]
  },
  {
   "cell_type": "code",
   "execution_count": 48,
   "id": "5c94ffe7-cd2f-4bf2-ab9a-3bf4b11bdf52",
   "metadata": {},
   "outputs": [
    {
     "name": "stdout",
     "output_type": "stream",
     "text": [
      "내 차 sonata가 움직인다.\n"
     ]
    }
   ],
   "source": [
    "my_sonata.drive()"
   ]
  },
  {
   "cell_type": "code",
   "execution_count": 51,
   "id": "8f3d6aed-eb18-4824-a37b-62762818b2b3",
   "metadata": {},
   "outputs": [
    {
     "data": {
      "text/plain": [
       "'pink'"
      ]
     },
     "execution_count": 51,
     "metadata": {},
     "output_type": "execute_result"
    }
   ],
   "source": [
    "my_sonata.change_color()\n",
    "my_sonata.color"
   ]
  },
  {
   "cell_type": "markdown",
   "id": "d04b5602-424e-4036-8b1a-f7a4ce887ddd",
   "metadata": {},
   "source": [
    "### getter, setter\n",
    "- 캡슐화, 정보 은닉\n",
    "- 클래스 외부에서 변수 접근을 용이하지 못하게 하는 것"
   ]
  },
  {
   "cell_type": "code",
   "execution_count": 52,
   "id": "4df6d510-e386-4bbd-9976-507be41d859b",
   "metadata": {},
   "outputs": [],
   "source": [
    "#1. 틀(클래스)안에서 변수를 바꾸는 것\n",
    "#2. 인스턴스(밖)에서 변수를 바꾸는 것"
   ]
  },
  {
   "cell_type": "code",
   "execution_count": 53,
   "id": "5f362d9b-1474-426b-90cb-39c3e42acc31",
   "metadata": {},
   "outputs": [],
   "source": [
    "class Fruit:\n",
    "    color = 'red'"
   ]
  },
  {
   "cell_type": "code",
   "execution_count": 54,
   "id": "46f3772c-4d91-409a-9405-ac973a7cb4f1",
   "metadata": {},
   "outputs": [
    {
     "data": {
      "text/plain": [
       "'red'"
      ]
     },
     "execution_count": 54,
     "metadata": {},
     "output_type": "execute_result"
    }
   ],
   "source": [
    "apple = Fruit()\n",
    "apple.color"
   ]
  },
  {
   "cell_type": "code",
   "execution_count": 56,
   "id": "6cfc44c6-5d59-4966-a341-f69b75d3198e",
   "metadata": {},
   "outputs": [
    {
     "data": {
      "text/plain": [
       "'purple'"
      ]
     },
     "execution_count": 56,
     "metadata": {},
     "output_type": "execute_result"
    }
   ],
   "source": [
    "Fruit.color = 'purple' # 외부에서 굉장히 쉽게 클래스 내부의 변수에 접근이 가능함\n",
    "orange = Fruit()\n",
    "orange.color"
   ]
  },
  {
   "cell_type": "code",
   "execution_count": 4,
   "id": "1bfcd159-3757-48c1-b68a-0cb584535934",
   "metadata": {},
   "outputs": [],
   "source": [
    "class Car:\n",
    "    def __init__(self, input_brand):\n",
    "        self.brand = input_brand # 객체변수 선언\n",
    "    \n",
    "    def get_brand(self): # getter\n",
    "        # 원래 변수명에 접근하도록 하게 해주는 함수\n",
    "        print('from the getter')\n",
    "        return self.brand\n",
    "    \n",
    "    def set_brand(self, input_brand): # setter\n",
    "        # 변수명을 바꾸는 작업\n",
    "        print('from the setter')\n",
    "        self.brand = input_brand"
   ]
  },
  {
   "cell_type": "code",
   "execution_count": 5,
   "id": "06293bbb-fa08-41ea-95df-25e4b458e44d",
   "metadata": {},
   "outputs": [
    {
     "data": {
      "text/plain": [
       "'toyota'"
      ]
     },
     "execution_count": 19,
     "metadata": {},
     "output_type": "execute_result"
    }
   ],
   "source": [
    "ex = Car('toyota')\n",
    "ex.brand"
   ]
  },
  {
   "cell_type": "code",
   "execution_count": 6,
   "id": "a644aa1b-44f3-460d-92ba-024647f2df2b",
   "metadata": {},
   "outputs": [
    {
     "name": "stdout",
     "output_type": "stream",
     "text": [
      "from the getter\n"
     ]
    },
    {
     "data": {
      "text/plain": [
       "'toyota'"
      ]
     },
     "execution_count": 20,
     "metadata": {},
     "output_type": "execute_result"
    }
   ],
   "source": [
    "ex.get_brand()"
   ]
  },
  {
   "cell_type": "code",
   "execution_count": 7,
   "id": "38a23b60-94fb-42a6-b423-5a86196d10d1",
   "metadata": {},
   "outputs": [
    {
     "name": "stdout",
     "output_type": "stream",
     "text": [
      "from the setter\n"
     ]
    },
    {
     "data": {
      "text/plain": [
       "'mazuda'"
      ]
     },
     "execution_count": 21,
     "metadata": {},
     "output_type": "execute_result"
    }
   ],
   "source": [
    "ex.set_brand('mazuda')\n",
    "ex.brand"
   ]
  },
  {
   "cell_type": "code",
   "execution_count": 8,
   "id": "722bce94-02c3-48af-bb68-9642fe16bdda",
   "metadata": {},
   "outputs": [
    {
     "name": "stdout",
     "output_type": "stream",
     "text": [
      "from the getter\n"
     ]
    },
    {
     "data": {
      "text/plain": [
       "'mazuda'"
      ]
     },
     "execution_count": 22,
     "metadata": {},
     "output_type": "execute_result"
    }
   ],
   "source": [
    "ex.get_brand()"
   ]
  },
  {
   "cell_type": "code",
   "execution_count": 25,
   "id": "eb740f9b-c5e3-438b-8bf0-ccc68e2dc305",
   "metadata": {},
   "outputs": [
    {
     "data": {
      "text/plain": [
       "'mazuda'"
      ]
     },
     "execution_count": 25,
     "metadata": {},
     "output_type": "execute_result"
    }
   ],
   "source": [
    "Car.brand = 'bmw'\n",
    "# 그럼에도 변수명을 알고 있다면 접근이 가능함\n",
    "# 위 변수 선언은 '클래스 변수'이므로, '객체변수'와는 구분됨\n",
    "ex.brand # 객체변수는 정상적으로 나오는 모습"
   ]
  },
  {
   "cell_type": "code",
   "execution_count": 26,
   "id": "1fc48838-d8ff-4713-87a1-820248449447",
   "metadata": {},
   "outputs": [
    {
     "data": {
      "text/plain": [
       "'toyota'"
      ]
     },
     "execution_count": 26,
     "metadata": {},
     "output_type": "execute_result"
    }
   ],
   "source": [
    "ex2 = Car('toyota')\n",
    "ex2.brand "
   ]
  },
  {
   "cell_type": "markdown",
   "id": "14c6f020-1183-42f7-b102-6cfeb903a3c5",
   "metadata": {},
   "source": [
    "### 2."
   ]
  },
  {
   "cell_type": "code",
   "execution_count": 27,
   "id": "a371433c-95b6-4777-a387-3b00ee4d87dc",
   "metadata": {},
   "outputs": [
    {
     "name": "stdout",
     "output_type": "stream",
     "text": [
      "kia\n"
     ]
    }
   ],
   "source": [
    "class Car:\n",
    "    def __init__(self, input_brand):\n",
    "        self._brand = input_brand # 다른 이름으로 적고\n",
    "    \n",
    "    def get_brand(self):\n",
    "        return self._brand\n",
    "    \n",
    "    def set_brand(self, value):\n",
    "        self._brand = value\n",
    "    \n",
    "    brand = property(get_brand, set_brand) # 진짜 쓸 변수명 선언\n",
    "\n",
    "c = Car('kia')\n",
    "print(c.brand) # 내부적으로 getter 호출"
   ]
  },
  {
   "cell_type": "code",
   "execution_count": 28,
   "id": "c109e088-d5c1-407e-b65f-f58f16f3a867",
   "metadata": {},
   "outputs": [
    {
     "data": {
      "text/plain": [
       "'hyundai'"
      ]
     },
     "execution_count": 28,
     "metadata": {},
     "output_type": "execute_result"
    }
   ],
   "source": [
    "c.brand = 'hyundai' # 내부적으로 setter 호출\n",
    "c.brand"
   ]
  },
  {
   "cell_type": "code",
   "execution_count": 68,
   "id": "e289fc7b-e5ca-4ecd-98c4-cfd8f30a9ea6",
   "metadata": {},
   "outputs": [],
   "source": [
    "Car._brand = 'toyota'"
   ]
  },
  {
   "cell_type": "markdown",
   "id": "51a48cbd-eaef-43b3-9f86-2000c9c32a4d",
   "metadata": {},
   "source": [
    "### 3. [[파이썬] property 사용법 (함수/데코레이터)](https://www.daleseo.com/python-property/)"
   ]
  },
  {
   "cell_type": "code",
   "execution_count": 41,
   "id": "c857b10b-11c7-44a0-b0b8-7f3b1f1387d5",
   "metadata": {},
   "outputs": [
    {
     "data": {
      "text/plain": [
       "'aa'"
      ]
     },
     "execution_count": 41,
     "metadata": {},
     "output_type": "execute_result"
    }
   ],
   "source": [
    "# decorator = @... \n",
    "class Car:\n",
    "    def __init__(self, input_brand):\n",
    "        self._brand = input_brand\n",
    "        \n",
    "    @property\n",
    "    def brand(self):\n",
    "        return self._brand\n",
    "    \n",
    "    @brand.setter\n",
    "    def brand(self, value):\n",
    "        self._brand = value\n",
    "\n",
    "c = Car('aa')\n",
    "c.brand"
   ]
  },
  {
   "cell_type": "markdown",
   "id": "40a510e7-4add-44e0-ae6e-11fa53524c05",
   "metadata": {},
   "source": [
    "### 4."
   ]
  },
  {
   "cell_type": "code",
   "execution_count": 40,
   "id": "3a06058e-7cbd-4511-aaff-431149137933",
   "metadata": {},
   "outputs": [
    {
     "name": "stdout",
     "output_type": "stream",
     "text": [
      "bb\n"
     ]
    },
    {
     "ename": "TypeError",
     "evalue": "'property' object is not callable",
     "output_type": "error",
     "traceback": [
      "\u001b[0;31m---------------------------------------------------------------------------\u001b[0m",
      "\u001b[0;31mTypeError\u001b[0m                                 Traceback (most recent call last)",
      "\u001b[0;32m/var/folders/sr/hr9_jmc94fn5w1rpc2bsftf40000gn/T/ipykernel_33596/947098371.py\u001b[0m in \u001b[0;36m<module>\u001b[0;34m\u001b[0m\n\u001b[1;32m     14\u001b[0m \u001b[0;31m# c.__brand # 접근이 안되게 막힘\u001b[0m\u001b[0;34m\u001b[0m\u001b[0;34m\u001b[0m\u001b[0m\n\u001b[1;32m     15\u001b[0m \u001b[0mprint\u001b[0m\u001b[0;34m(\u001b[0m\u001b[0mc\u001b[0m\u001b[0;34m.\u001b[0m\u001b[0mbrand\u001b[0m\u001b[0;34m)\u001b[0m\u001b[0;34m\u001b[0m\u001b[0;34m\u001b[0m\u001b[0m\n\u001b[0;32m---> 16\u001b[0;31m \u001b[0mCar\u001b[0m\u001b[0;34m.\u001b[0m\u001b[0mbrand\u001b[0m\u001b[0;34m(\u001b[0m\u001b[0;34m'lol'\u001b[0m\u001b[0;34m)\u001b[0m\u001b[0;34m\u001b[0m\u001b[0;34m\u001b[0m\u001b[0m\n\u001b[0m",
      "\u001b[0;31mTypeError\u001b[0m: 'property' object is not callable"
     ]
    }
   ],
   "source": [
    "class Car:\n",
    "    def __init__(self, input_brand):\n",
    "        self.__brand = input_brand\n",
    "        \n",
    "    @property\n",
    "    def brand(self):\n",
    "        return self.__brand\n",
    "    \n",
    "    @brand.setter\n",
    "    def brand(self, input_brand):\n",
    "        self.__brand = input_brand\n",
    "\n",
    "c = Car('bb')\n",
    "# c.__brand # 접근이 안되게 막힘\n",
    "print(c.brand)\n",
    "Car.brand('lol')"
   ]
  },
  {
   "cell_type": "code",
   "execution_count": 73,
   "id": "068743aa-11bc-42bf-bc1a-9efd29a70fc6",
   "metadata": {},
   "outputs": [
    {
     "data": {
      "text/plain": [
       "10"
      ]
     },
     "execution_count": 73,
     "metadata": {},
     "output_type": "execute_result"
    }
   ],
   "source": [
    "class Circle:\n",
    "    def __init__(self, radius):\n",
    "        self.radius = radius\n",
    "        \n",
    "    @property\n",
    "    def diameter(self):\n",
    "        return self.radius * 2\n",
    "\n",
    "c = Circle(5)\n",
    "c.diameter # .diameter()를 안해도 원래 속성인 것처럼 접근 가능해짐"
   ]
  },
  {
   "cell_type": "markdown",
   "id": "091f2d87-2404-4505-a3df-8d680a774e9e",
   "metadata": {},
   "source": [
    "### 실습\n",
    "- 객체: 메모장(공책),                메모\n",
    "- 변수: 제목, 페이지 번호, 메모        글귀\n",
    "- 메서드: 추가, 삭제, 페이지번호       쓰기, 지우기\n",
    "\n",
    "- getter, setter 메모장 제목에 설정하기\n",
    "- '메모' 객체에 글귀를 추가한다.\n",
    "- 그 메모를 '메모장' 객체에 추가\n",
    "- 페이지번호가 늘어난다.\n",
    "- 메모를 삭제하면 페이지번호가 줄어들고\n",
    "- 페이지가 300을 넘으면 메모 추가 못하게 막기\n",
    "- 페이지번호로 메모 찾기"
   ]
  },
  {
   "cell_type": "code",
   "execution_count": 92,
   "id": "b46f32a6-28bf-44c4-87ed-34235f8188d5",
   "metadata": {},
   "outputs": [],
   "source": [
    "class Note:\n",
    "    def __init__(self, text='Write Anything...'):\n",
    "        self.note = text\n",
    "\n",
    "    def write(self, value):\n",
    "        self.note = value\n",
    "    \n",
    "    def erase(self):\n",
    "        self.note = '.'\n",
    "\n",
    "class Notebook:\n",
    "    def __init__(self, page_num = 0, note = []):\n",
    "        self.__title = 'no title'\n",
    "        self.__note = note\n",
    "        self.__page_num = page_num\n",
    "    \n",
    "    @property\n",
    "    def title(self):\n",
    "        return self.__title\n",
    "    \n",
    "    @title.setter\n",
    "    def title(self, value):\n",
    "        self.__title = value\n",
    "        \n",
    "    def add_note(self, note):\n",
    "        if self.__page_num > 300:\n",
    "            raise ValueError('페이지를 초과하셨습니다')\n",
    "        else:\n",
    "            self.__page_num += 1\n",
    "            self.__note.append(note)\n",
    "    \n",
    "    def delete_note(self, num: int):\n",
    "        if self.__page_num >= num:\n",
    "            self.__note.remove(self.__note[num - 1])\n",
    "            self.__page_num -= 1\n",
    "    \n",
    "    def find_note(self, num: int):\n",
    "        if self.__page_num >= num:\n",
    "            return self.__note[num - 1].note\n",
    "    \n",
    "    def get_page_num(self):\n",
    "        return self.__page_num"
   ]
  },
  {
   "cell_type": "code",
   "execution_count": 93,
   "id": "81cc98e0-1c4d-419c-9003-015fc13e7ad8",
   "metadata": {},
   "outputs": [
    {
     "name": "stdout",
     "output_type": "stream",
     "text": [
      "<__main__.Note object at 0x7fca909174f0>\n",
      "웃음이 없는 하루는 버린 하루다.\n",
      "승리는 가장 끈기 있는 사람에게 돌아간다.\n"
     ]
    }
   ],
   "source": [
    "#\n",
    "memo1 = '꿈을 이루고자 하는 용기만 있다면 모든 꿈을 이룰 수 있다.'\n",
    "memo2 = '웃음이 없는 하루는 버린 하루다.'\n",
    "memo3 = '승리는 가장 끈기 있는 사람에게 돌아간다.'\n",
    "\n",
    "note1 = Note()\n",
    "note2 = Note()\n",
    "note3 = Note()\n",
    "\n",
    "# 메모 쓰기\n",
    "note1.write(memo1)\n",
    "note2.write(memo2)\n",
    "note3.write(memo3)\n",
    "print(note1)\n",
    "print(note2.note)\n",
    "print(note3.note)"
   ]
  },
  {
   "cell_type": "code",
   "execution_count": 94,
   "id": "3e450dcf-194f-4c94-8e91-6caa37bd0567",
   "metadata": {},
   "outputs": [
    {
     "name": "stdout",
     "output_type": "stream",
     "text": [
      "no title\n",
      "cover\n"
     ]
    },
    {
     "data": {
      "text/plain": [
       "'꿈을 이루고자 하는 용기만 있다면 모든 꿈을 이룰 수 있다.'"
      ]
     },
     "execution_count": 94,
     "metadata": {},
     "output_type": "execute_result"
    }
   ],
   "source": [
    "# 메모장 만들기\n",
    "my_book = Notebook()\n",
    "print(my_book.title)\n",
    "my_book.title = 'cover'\n",
    "print(my_book.title)\n",
    "\n",
    "# 메모장에 메모 추가하기\n",
    "my_book.add_note(note1)\n",
    "my_book.find_note(1)"
   ]
  },
  {
   "cell_type": "code",
   "execution_count": 95,
   "id": "4b202d6c-e748-42d2-a88f-9396a618aed2",
   "metadata": {},
   "outputs": [
    {
     "name": "stdout",
     "output_type": "stream",
     "text": [
      "2\n"
     ]
    },
    {
     "data": {
      "text/plain": [
       "'웃음이 없는 하루는 버린 하루다.'"
      ]
     },
     "execution_count": 95,
     "metadata": {},
     "output_type": "execute_result"
    }
   ],
   "source": [
    "# 메모장에 메모 내용 확인하기\n",
    "my_book.add_note(note2)\n",
    "print(my_book.get_page_num())\n",
    "my_book.find_note(2)"
   ]
  },
  {
   "cell_type": "code",
   "execution_count": 97,
   "id": "b97ce0a0-4554-44c5-92c7-3011e8851477",
   "metadata": {},
   "outputs": [
    {
     "name": "stdout",
     "output_type": "stream",
     "text": [
      "None\n"
     ]
    }
   ],
   "source": [
    "# 메모 삭제하기\n",
    "my_book.delete_note(2)\n",
    "print(my_book.find_note(2))"
   ]
  }
 ],
 "metadata": {
  "kernelspec": {
   "display_name": "Python 3 (ipykernel)",
   "language": "python",
   "name": "python3"
  },
  "language_info": {
   "codemirror_mode": {
    "name": "ipython",
    "version": 3
   },
   "file_extension": ".py",
   "mimetype": "text/x-python",
   "name": "python",
   "nbconvert_exporter": "python",
   "pygments_lexer": "ipython3",
   "version": "3.9.7"
  }
 },
 "nbformat": 4,
 "nbformat_minor": 5
}
