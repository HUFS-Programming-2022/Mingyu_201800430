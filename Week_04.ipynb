{
 "cells": [
  {
   "cell_type": "markdown",
   "metadata": {},
   "source": [
    "# 4주차 | 3.25.2022(금)"
   ]
  },
  {
   "cell_type": "markdown",
   "metadata": {},
   "source": [
    "### 공지사항\n",
    "- 퀴즈는 앞으로 쉬운 문제가 많거나, 어려운 문제가 적은 형태로 나갈 예정\n",
    "- 드랍이 많아서 다음주에 팀인원 재조정 예정"
   ]
  },
  {
   "cell_type": "markdown",
   "metadata": {},
   "source": [
    "## CH5. "
   ]
  },
  {
   "cell_type": "code",
   "execution_count": 2,
   "metadata": {},
   "outputs": [
    {
     "name": "stdout",
     "output_type": "stream",
     "text": [
      "*** Introductory Examples for the NLTK Book ***\n",
      "Loading text1, ..., text9 and sent1, ..., sent9\n",
      "Type the name of the text or sentence to view it.\n",
      "Type: 'texts()' or 'sents()' to list the materials.\n",
      "text1: Moby Dick by Herman Melville 1851\n",
      "text2: Sense and Sensibility by Jane Austen 1811\n",
      "text3: The Book of Genesis\n",
      "text4: Inaugural Address Corpus\n",
      "text5: Chat Corpus\n",
      "text6: Monty Python and the Holy Grail\n",
      "text7: Wall Street Journal\n",
      "text8: Personals Corpus\n",
      "text9: The Man Who Was Thursday by G . K . Chesterton 1908\n"
     ]
    },
    {
     "data": {
      "text/plain": [
       "True"
      ]
     },
     "execution_count": 2,
     "metadata": {},
     "output_type": "execute_result"
    }
   ],
   "source": [
    "import nltk\n",
    "import ssl\n",
    "\n",
    "try:\n",
    "    _create_unverified_https_context = ssl._create_unverified_context\n",
    "except AttributeError:\n",
    "    pass\n",
    "else:\n",
    "    ssl._create_default_https_context = _create_unverified_https_context\n",
    "from nltk.book import *\n",
    "nltk.download('book', quiet=True)"
   ]
  },
  {
   "cell_type": "markdown",
   "metadata": {},
   "source": [
    "### 함수 I\n",
    "기본형 : `'<str>'.fx(<요소>)`\n",
    "- .count(): 텍스트에서 어떤 요소의 개수를 세는 함수\n",
    "- replace(): A -> B\n",
    "- strip(): 불필요한 공백, 등등 원하는 요소 제거 역할\n",
    "- find(): 원하는 문자열 찾기\n",
    "- index(): 원하는 문자열의 인덱스 반환"
   ]
  },
  {
   "cell_type": "code",
   "execution_count": 4,
   "metadata": {},
   "outputs": [
    {
     "data": {
      "text/plain": [
       "13721"
      ]
     },
     "execution_count": 4,
     "metadata": {},
     "output_type": "execute_result"
    }
   ],
   "source": [
    "# count()\n",
    "text1.count('the') # != The, THE ... 대소문자 구분하여 다 다른 단어임"
   ]
  },
  {
   "cell_type": "code",
   "execution_count": 1,
   "metadata": {},
   "outputs": [
    {
     "name": "stdout",
     "output_type": "stream",
     "text": [
      "The\n",
      "word\n",
      "Work\n",
      "3\n",
      "3\n",
      "-1\n"
     ]
    }
   ],
   "source": [
    "# replace(A, B)\n",
    "word = 'the'\n",
    "word = word.replace('t', 'T')\n",
    "print(word)\n",
    "\n",
    "# strip(), r/lstrip()\n",
    "word = '          \\t word'\n",
    "print(word.lstrip())\n",
    "print(word.lstrip().replace('w', 'W').replace('d', 'k')) # 리턴값이 string이기 때문에 계속해서 접근 가능\n",
    "\n",
    "# find: 첫 번째 발견한 r의 인덱스\n",
    "word2 = 'I have a pen.'\n",
    "print(word2.find('a')) # lfind, rfind도 있다\n",
    "print(word2.index('a'))\n",
    "print(word2.find('k')) # find()는 없는 값을 찾으면 -1 반환, index는 오류 반환\n",
    "# print(word2.index('k')) -> 오류"
   ]
  },
  {
   "cell_type": "markdown",
   "metadata": {},
   "source": [
    "### 함수 II\n",
    "- NLTK 전용\n",
    "- concordance(): 특정 문자열이 어떤 문맥에서 쓰이는지 가운데 기준으로 프린트해줌\n",
    "- similar(): 주어진 스트링과 비슷한 문맥에서 쓰이는 단어들을 보여줌\n",
    "- common_context([리스트]): 주어진 스트링들이 공유하는 문맥\n",
    "- dispersion_plot([리스트]): 주어진 스트링들이 텍스트의 어느 위치에 나오는지 이미지로 보여줌"
   ]
  },
  {
   "cell_type": "code",
   "execution_count": 5,
   "metadata": {},
   "outputs": [
    {
     "name": "stdout",
     "output_type": "stream",
     "text": [
      "Displaying 25 of 1226 matches:\n",
      "s , and to teach them by what name a whale - fish is to be called in our tongue\n",
      "t which is not true .\" -- HACKLUYT \" WHALE . ... Sw . and Dan . HVAL . This ani\n",
      "ulted .\" -- WEBSTER ' S DICTIONARY \" WHALE . ... It is more immediately from th\n",
      "ISH . WAL , DUTCH . HWAL , SWEDISH . WHALE , ICELANDIC . WHALE , ENGLISH . BALE\n",
      "HWAL , SWEDISH . WHALE , ICELANDIC . WHALE , ENGLISH . BALEINE , FRENCH . BALLE\n",
      "least , take the higgledy - piggledy whale statements , however authentic , in \n",
      " dreadful gulf of this monster ' s ( whale ' s ) mouth , are immediately lost a\n",
      " patient Job .\" -- RABELAIS . \" This whale ' s liver was two cartloads .\" -- ST\n",
      " Touching that monstrous bulk of the whale or ork we have received nothing cert\n",
      " of oil will be extracted out of one whale .\" -- IBID . \" HISTORY OF LIFE AND D\n",
      "ise .\" -- KING HENRY . \" Very like a whale .\" -- HAMLET . \" Which to secure , n\n",
      "restless paine , Like as the wounded whale to shore flies thro ' the maine .\" -\n",
      ". OF SPERMA CETI AND THE SPERMA CETI WHALE . VIDE HIS V . E . \" Like Spencer ' \n",
      "t had been a sprat in the mouth of a whale .\" -- PILGRIM ' S PROGRESS . \" That \n",
      "EN ' S ANNUS MIRABILIS . \" While the whale is floating at the stern of the ship\n",
      "e ship called The Jonas - in - the - Whale . ... Some say the whale can ' t ope\n",
      " in - the - Whale . ... Some say the whale can ' t open his mouth , but that is\n",
      " masts to see whether they can see a whale , for the first discoverer has a duc\n",
      " for his pains . ... I was told of a whale taken near Shetland , that had above\n",
      "oneers told me that he caught once a whale in Spitzbergen that was white all ov\n",
      "2 , one eighty feet in length of the whale - bone kind came in , which ( as I w\n",
      "n master and kill this Sperma - ceti whale , for I could never hear of any of t\n",
      " . 1729 . \"... and the breath of the whale is frequendy attended with such an i\n",
      "ed with hoops and armed with ribs of whale .\" -- RAPE OF THE LOCK . \" If we com\n",
      "contemptible in the comparison . The whale is doubtless the largest animal in c\n"
     ]
    }
   ],
   "source": [
    "text1.concordance('whale')"
   ]
  },
  {
   "cell_type": "code",
   "execution_count": 13,
   "metadata": {},
   "outputs": [
    {
     "name": "stdout",
     "output_type": "stream",
     "text": [
      "ship boat sea time captain world man deck pequod other whales air\n",
      "water head crew line thing side way body\n"
     ]
    }
   ],
   "source": [
    "text1.similar('whale')"
   ]
  },
  {
   "cell_type": "code",
   "execution_count": 15,
   "metadata": {},
   "outputs": [
    {
     "name": "stdout",
     "output_type": "stream",
     "text": [
      "am_glad a_pretty a_lucky is_pretty be_glad\n"
     ]
    }
   ],
   "source": [
    "text2.common_contexts(['monstrous', 'very'])"
   ]
  },
  {
   "cell_type": "code",
   "execution_count": 4,
   "metadata": {},
   "outputs": [
    {
     "data": {
      "image/png": "[encoded data removed]",
      "text/plain": [
       "<Figure size 432x288 with 1 Axes>"
      ]
     },
     "metadata": {
      "needs_background": "light"
     },
     "output_type": "display_data"
    }
   ],
   "source": [
    "from matplotlib import pyplot as plt\n",
    "text4.dispersion_plot(['citizens', 'democracy', 'America'])"
   ]
  },
  {
   "cell_type": "markdown",
   "metadata": {},
   "source": [
    "### 리스트 : 리스트컴프리헨션\n",
    "- 프로그래밍에서 '배열'에 해당, 파이썬에서는 리스트라고 부른다.\n",
    "- 하나의 변수에 여러 값을 할당하는 자료형\n",
    "  - `example = [1, 2, 3, 4]`\n",
    "- 특징: 대괄호를 사용. 내부 요소들의 자료형은 같을 필요 없다.\n",
    "- 순서가 있는 자료형 => 슬라이싱, 인덱싱\n",
    "- 빈 리스트 선언: `set(), []`"
   ]
  },
  {
   "cell_type": "code",
   "execution_count": 18,
   "metadata": {},
   "outputs": [
    {
     "data": {
      "text/plain": [
       "['white', 'yellow', 'blue']"
      ]
     },
     "execution_count": 18,
     "metadata": {},
     "output_type": "execute_result"
    }
   ],
   "source": [
    "colors = ['blue', 'yellow', 'white']\n",
    "colors[0]\n",
    "colors[::-1]"
   ]
  },
  {
   "cell_type": "markdown",
   "metadata": {},
   "source": [
    "### List Comprehension\n",
    "- 포함형/지능형/축약형 리스트\n",
    "- 하나의 리스트에서 자기 자신을 다른 리스트를 만든다\n",
    "- list + for loop\n",
    "- [A for B in C]:C에 있는 B에서 A를 가져와라 => 새 리스트에 담아 반환\n",
    "  - A : 내가 원하는 형태\n",
    "  - B : C의 형태\n",
    "  - C : 반복 가능한 자료형(주로 리스트)\n",
    "\n",
    "[A for A in B if C...]"
   ]
  },
  {
   "cell_type": "code",
   "execution_count": 19,
   "metadata": {},
   "outputs": [
    {
     "data": {
      "text/plain": [
       "['b', 'y', 'w']"
      ]
     },
     "execution_count": 19,
     "metadata": {},
     "output_type": "execute_result"
    }
   ],
   "source": [
    "[color[0] for color in colors]"
   ]
  },
  {
   "cell_type": "code",
   "execution_count": 24,
   "metadata": {},
   "outputs": [
    {
     "data": {
      "text/plain": [
       "['[', 'y', 'k', 'y', 'n', 'e', '1', ']', 'Y', '.']"
      ]
     },
     "execution_count": 24,
     "metadata": {},
     "output_type": "execute_result"
    }
   ],
   "source": [
    "# text1의 토큰 중 처음 10개 단어에서 마지막 알파벳 반환\n",
    "# 나의 답:\n",
    "[token[len(token) - 1] for token in text1.tokens][:10]\n",
    "# 개선안:\n",
    "[token[-1] for token in text1.tokens[:10]] # 맨 마지막은 굳이 len(token)-1로 하지 않아도 됨, 10개만 추출하는 것은 미리 10개를 잘라오는게 연산이 더 빠름"
   ]
  },
  {
   "cell_type": "code",
   "execution_count": 25,
   "metadata": {},
   "outputs": [
    {
     "data": {
      "text/plain": [
       "['.']"
      ]
     },
     "execution_count": 25,
     "metadata": {},
     "output_type": "execute_result"
    }
   ],
   "source": [
    "[token for token in text1.tokens[:10] if len(token) < 3 and (token == '.')]"
   ]
  },
  {
   "cell_type": "code",
   "execution_count": 35,
   "metadata": {},
   "outputs": [
    {
     "data": {
      "text/plain": [
       "{'a', 'g', 'i', 'lo', 'lord', 'o'}"
      ]
     },
     "execution_count": 35,
     "metadata": {},
     "output_type": "execute_result"
    }
   ],
   "source": [
    "# text5에서 길이가 15 이상인 단어 추출하기\n",
    "[token for token in text5.tokens if len(token) >= 15][:3]\n",
    "\n",
    "#2. text3에서 대문자인 단어를 소문자로 변환: isupper(), lower()\n",
    "answer = [token.lower() for token in text3.tokens if token.isupper()]\n",
    "set(answer)"
   ]
  },
  {
   "cell_type": "markdown",
   "metadata": {},
   "source": [
    "#### cased, uncased\n",
    "- 변환: `upper(), lower(), title(), swapcase()`\n",
    "- 형태 체크: `isupper(), islower(), istitle()`\n",
    "  - `endswith(<string>), startswith()`\n",
    "  - isalpha(): 문자인지 체크"
   ]
  },
  {
   "cell_type": "code",
   "execution_count": 46,
   "metadata": {},
   "outputs": [
    {
     "data": {
      "text/plain": [
       "['comfortableness',\n",
       " 'honourableness',\n",
       " 'immutableness',\n",
       " 'indispensableness',\n",
       " 'indomitableness',\n",
       " 'intolerableness',\n",
       " 'palpableness',\n",
       " 'reasonableness',\n",
       " 'uncomfortableness']"
      ]
     },
     "execution_count": 46,
     "metadata": {},
     "output_type": "execute_result"
    }
   ],
   "source": [
    "# text1에서 'ableness'로 끝나는 단어를 중복없이, 정렬해서(오름/내림)\n",
    "answer = [token for token in text1 if token.endswith('ableness')]\n",
    "sorted(set(answer))"
   ]
  },
  {
   "cell_type": "code",
   "execution_count": 49,
   "metadata": {},
   "outputs": [
    {
     "data": {
      "text/plain": [
       "{'sovereignties', 'sovereignty'}"
      ]
     },
     "execution_count": 49,
     "metadata": {},
     "output_type": "execute_result"
    }
   ],
   "source": [
    "# text4에서 'gnt'가 포함된 단어들을 소문자로 리스트 반환\n",
    "[token.lower() for token in set(text4) if 'gnt' in token] # cased: America, america가 공존해서 문제에 맞지않음\n",
    "set([token.lower() for token in text4 if 'gnt' in token]) # 정답"
   ]
  },
  {
   "cell_type": "markdown",
   "metadata": {},
   "source": [
    "### Frequency Distribution\n",
    "- 단어가 몇 번 출현했는지 빈도수를 알려주는 메소드\n",
    "- 빈도수가 뭐가 중요하냐 = 텍스트의 성질을 알기 위해\n",
    "  - 단어 개수\n",
    "  - 단어 빈도수\n",
    "- `FreqDist(text)`"
   ]
  },
  {
   "cell_type": "code",
   "execution_count": 3,
   "metadata": {},
   "outputs": [
    {
     "data": {
      "text/plain": [
       "FreqDist({',': 18713, 'the': 13721, '.': 6862, 'of': 6536, 'and': 6024, 'a': 4569, 'to': 4542, ';': 4072, 'in': 3916, 'that': 2982, ...})"
      ]
     },
     "execution_count": 3,
     "metadata": {},
     "output_type": "execute_result"
    }
   ],
   "source": [
    "fdist = FreqDist(text1) # cased\n",
    "fdist\n",
    "# fdist 그 자체는 dict형태로 나타남."
   ]
  },
  {
   "cell_type": "code",
   "execution_count": 16,
   "metadata": {},
   "outputs": [
    {
     "data": {
      "text/plain": [
       "[('the', 13721),\n",
       " ('of', 6536),\n",
       " ('and', 6024),\n",
       " ('a', 4569),\n",
       " ('to', 4542),\n",
       " ('in', 3916),\n",
       " ('that', 2982),\n",
       " ('his', 2459),\n",
       " ('it', 2209),\n",
       " ('I', 2124)]"
      ]
     },
     "execution_count": 16,
     "metadata": {},
     "output_type": "execute_result"
    }
   ],
   "source": [
    "# .most_common() : 제일 자주 쓰이는 단어 내림차순으로 보여주는 함수임.\n",
    "# fdist.most_common(10)\n",
    "text1_alpha = [word for word in text1 if word.isalpha()]\n",
    "fdist_alpha = FreqDist(text1_alpha)\n",
    "fdist_alpha.most_common(10)"
   ]
  },
  {
   "cell_type": "code",
   "execution_count": 9,
   "metadata": {},
   "outputs": [
    {
     "data": {
      "text/plain": [
       "612"
      ]
     },
     "execution_count": 9,
     "metadata": {},
     "output_type": "execute_result"
    }
   ],
   "source": [
    "# FreqDist(text1)['word'] : text1의 'word' 단어가 몇 번 출현했는지 알려줌\n",
    "fdist['The']"
   ]
  },
  {
   "cell_type": "code",
   "execution_count": 10,
   "metadata": {},
   "outputs": [
    {
     "data": {
      "text/plain": [
       "(2982, 2982)"
      ]
     },
     "execution_count": 10,
     "metadata": {},
     "output_type": "execute_result"
    }
   ],
   "source": [
    "# 그냥 text1.count('word')한 것과 결과는 똑같음.\n",
    "fdist['that'], text1.count('that')"
   ]
  },
  {
   "cell_type": "code",
   "execution_count": 11,
   "metadata": {},
   "outputs": [
    {
     "data": {
      "text/plain": [
       "0.011433216138394826"
      ]
     },
     "execution_count": 11,
     "metadata": {},
     "output_type": "execute_result"
    }
   ],
   "source": [
    "# .freq.() : fdist['that']을 백분율로 바꿔준 것임.\n",
    "fdist.freq('that')"
   ]
  },
  {
   "cell_type": "code",
   "execution_count": 12,
   "metadata": {},
   "outputs": [
    {
     "data": {
      "image/png": "[encoded data removed]",
      "text/plain": [
       "<Figure size 432x288 with 1 Axes>"
      ]
     },
     "metadata": {
      "needs_background": "light"
     },
     "output_type": "display_data"
    },
    {
     "data": {
      "text/plain": [
       "<AxesSubplot:xlabel='Samples', ylabel='Cumulative Counts'>"
      ]
     },
     "execution_count": 12,
     "metadata": {},
     "output_type": "execute_result"
    }
   ],
   "source": [
    "fdist.plot(50, cumulative=True)"
   ]
  },
  {
   "cell_type": "code",
   "execution_count": 15,
   "metadata": {},
   "outputs": [
    {
     "name": "stdout",
     "output_type": "stream",
     "text": [
      "9002\n"
     ]
    },
    {
     "data": {
      "text/plain": [
       "8815"
      ]
     },
     "execution_count": 15,
     "metadata": {},
     "output_type": "execute_result"
    }
   ],
   "source": [
    "# 가장 빈번하지 않은 => 1번 나타나는 단어들\n",
    " # 알파벳만 리스트에 담아보기, 중복없이\n",
    "print(len(fdist.hapaxes()))\n",
    "# set([token.hapaxes() for token in fdist if len(token) == 1])\n",
    "len(set([word for word in fdist.hapaxes() if word.isalpha()]))"
   ]
  },
  {
   "cell_type": "code",
   "execution_count": 35,
   "metadata": {},
   "outputs": [
    {
     "data": {
      "text/plain": [
       "14431"
      ]
     },
     "execution_count": 35,
     "metadata": {},
     "output_type": "execute_result"
    }
   ],
   "source": [
    "# 대소문자 구분 없이 freq dist 만들려면?\n",
    "  # set -> 중복 없앰 -> 빈도 수를 1로 만들어버림(x) .lower()로 다 소문자화만 시키고 중복제거는 안함(o)\n",
    "fdist = FreqDist(text1) # 대소문자, 첫글자 대문자 the, The, THE 다 따로 세어짐\n",
    "fdist2 = FreqDist([w.lower() for w in text1]) # 다 한꺼번에 세어질 수 있도록 추가 처리(처음부터 lower만 시켜버리는 세팅)\n",
    "fdist2['the']"
   ]
  },
  {
   "cell_type": "code",
   "execution_count": null,
   "metadata": {},
   "outputs": [],
   "source": [
    "# text2에서 길이가 3자 이하이고, 빈도수가 5이상\n",
    "# [word for word in text2 if len(word) <= 3 and FreqDist(text2) >= 5]\n",
    "[word for (word, count) in FreqDist(text2).items()\\\n",
    "        if len(word) >= 3 and count >= 5] # dictionary"
   ]
  },
  {
   "cell_type": "markdown",
   "metadata": {},
   "source": [
    "#### items()\n",
    "- 딕셔너리에서 각 key와 value값 한 쌍을 하나의 인자로 가지는 list를 얻을 수 있음 => (word, count)로 받음"
   ]
  },
  {
   "cell_type": "markdown",
   "metadata": {},
   "source": [
    "### 리스트 <-> 스트링\n",
    "- .split(): string.split(separator)\n",
    "  - default = ' '\n",
    "- ''.join(list)"
   ]
  },
  {
   "cell_type": "code",
   "execution_count": 2,
   "metadata": {},
   "outputs": [
    {
     "name": "stdout",
     "output_type": "stream",
     "text": [
      "['I', 'have', 'a', 'car']\n"
     ]
    },
    {
     "data": {
      "text/plain": [
       "'I have a car'"
      ]
     },
     "execution_count": 2,
     "metadata": {},
     "output_type": "execute_result"
    }
   ],
   "source": [
    "sent = 'I have a car'\n",
    "print(sent.split())\n",
    "sent_tokens = [word.strip() for word in sent.split(',')]\n",
    "\n",
    "#['I', 'have', 'a', 'car'] => 'I have a car'\n",
    "'-'.join(sent_tokens)"
   ]
  },
  {
   "cell_type": "markdown",
   "metadata": {},
   "source": [
    "### 반복문 맛보기\n",
    "- 자료구조를 순회할 때 사용\n",
    "- 시작조건, 종료조건, 수행명령\n",
    "\n",
    "- for 변수 in <반복 범위>:\n",
    "  <들여쓰기> <수행명령>\n",
    "- list comprehension과 동일한 표현임\n",
    "- range(start, end, step): 숫자 순회할 때\n",
    "  - 0부터 시작\n",
    "  - 인덱스랑 다른 점은 : -> ,"
   ]
  },
  {
   "cell_type": "code",
   "execution_count": 3,
   "metadata": {},
   "outputs": [
    {
     "name": "stdout",
     "output_type": "stream",
     "text": [
      "I have a car\n"
     ]
    }
   ],
   "source": [
    "for word in sent_tokens:\n",
    "  print (word)"
   ]
  },
  {
   "cell_type": "code",
   "execution_count": 4,
   "metadata": {},
   "outputs": [
    {
     "name": "stdout",
     "output_type": "stream",
     "text": [
      "0\n",
      "1\n",
      "2\n",
      "3\n",
      "4\n",
      "5\n",
      "6\n",
      "7\n",
      "8\n",
      "9\n"
     ]
    }
   ],
   "source": [
    "# 1 - 10 출력\n",
    "for i in range(10):\n",
    "  print(i)"
   ]
  },
  {
   "cell_type": "markdown",
   "metadata": {
    "tags": []
   },
   "source": [
    "### Ex\n",
    "- 1. text6에서 길이가 4자 이하인 알파벳 중 ie를 포함하는 단어를 단어 개수로 출력하시오.\n",
    "  에: I have a car => [1, 4, 1, 3]\n",
    "\n",
    "- 2. text2에서 ch로 끝나는 단어를 출력하는데\n",
    "  - 중복 없고\n",
    "  - 첫 글자와 ch 남기고 가운데는 모두 -로 가려라.\n",
    "    예: much -> m-ch\n",
    "    - ch로 시작하면 바꾸면 안됨\n",
    "  - 정렬:\n",
    "    - 문자 길이로 정렬하기"
   ]
  },
  {
   "cell_type": "code",
   "execution_count": 39,
   "metadata": {},
   "outputs": [
    {
     "data": {
      "text/plain": [
       "[3, 3, 3, 3, 3, 3, 4, 3, 3, 3, 3, 3, 4, 4, 4, 4, 3, 3, 3, 3, 3, 4, 4]"
      ]
     },
     "execution_count": 39,
     "metadata": {},
     "output_type": "execute_result"
    }
   ],
   "source": [
    "# Ex 1.\n",
    "[len(word) for word in text6 if len(word) <= 4 and 'ie' in word]"
   ]
  },
  {
   "cell_type": "code",
   "execution_count": 2,
   "metadata": {},
   "outputs": [
    {
     "data": {
      "text/plain": [
       "['b-ch',\n",
       " 'w-ch',\n",
       " 't-ch',\n",
       " 'f-ch',\n",
       " 's-ch',\n",
       " 'S-ch',\n",
       " 'E-ch',\n",
       " 'a-ch',\n",
       " 'd-ch',\n",
       " 'i-ch',\n",
       " 'M-ch',\n",
       " 'p-ch',\n",
       " 'r-ch',\n",
       " 'e-ch',\n",
       " 'c-ch',\n",
       " 'W-ch',\n",
       " 'm-ch',\n",
       " 'ch-ch']"
      ]
     },
     "execution_count": 2,
     "metadata": {},
     "output_type": "execute_result"
    }
   ],
   "source": [
    "# Ex 2.\n",
    "def replace_alpha(word):\n",
    "    if word.startswith('ch'):\n",
    "        result = word.replace(word[2:], \"-\") + \"ch\"\n",
    "    else:\n",
    "        result = word.replace(word[1:], \"-\") + \"ch\"\n",
    "    return result\n",
    "            \n",
    "sorted(set([replace_alpha(word) for word in text2 if word.endswith('ch')]), key = len) \n",
    "# 첫글자와 끝 ch를 제외하고 모든 문자열을 개수 상관 없이 '-' 하나로만 바꾼 버전. 두 개 이상의 알파벳이 각각 하이픈 한 개마다 연결됐으면 좋겠음"
   ]
  },
  {
   "cell_type": "code",
   "execution_count": 7,
   "metadata": {},
   "outputs": [
    {
     "name": "stdout",
     "output_type": "stream",
     "text": [
      "['m-ch', 's-ch', 'i-ch', 'e-ch', 'E-ch', 'r-ch', 'S-ch', 'M-ch', 't--ch', 'r--ch', 'f--ch', 'w--ch', 'p--ch', 'm--ch', 'c--ch', 'c--ch', 'M--ch', 'W--ch', 'w--ch', 'b--ch', 't--ch', 'ch--ch', 's---ch', 'b---ch', 's---ch', 'b---ch', 'e---ch', 's---ch', 'a---ch', 's----ch', 's----ch', 's----ch', 'r-----ch', 'd-----ch', 'd-----ch', 'a-----ch']\n"
     ]
    }
   ],
   "source": [
    "text2_set = set(word for word in text2 if word.endswith('ch'))\n",
    "result_list = []\n",
    "result_word = ''\n",
    "\n",
    "for word in text2_set:\n",
    "  if word.startswith('ch'):\n",
    "    result_word = 'ch' + ''.join(['-' for char in word[2:-2]]) + 'ch' # 앞서 replace_alpha 함수의 베이스로직을 가져옴, 문자열 추가를 week4 - join()함수로 해결하려 함\n",
    "    result_list.append(result_word) # 새로운 결과 리스트에 추가해서 그걸 결괏값으로 씀\n",
    "  else:\n",
    "    result_word = word[0] + ''.join(['-' for char in word[1:-2]]) + 'ch'\n",
    "    result_list.append(result_word)\n",
    "print(sorted(result_list, key = len))"
   ]
  }
 ],
 "metadata": {
  "interpreter": {
   "hash": "aee8b7b246df8f9039afb4144a1f6fd8d2ca17a180786b69acc140d282b71a49"
  },
  "kernelspec": {
   "display_name": "Python 3 (ipykernel)",
   "language": "python",
   "name": "python3"
  },
  "language_info": {
   "codemirror_mode": {
    "name": "ipython",
    "version": 3
   },
   "file_extension": ".py",
   "mimetype": "text/x-python",
   "name": "python",
   "nbconvert_exporter": "python",
   "pygments_lexer": "ipython3",
   "version": "3.9.7"
  }
 },
 "nbformat": 4,
 "nbformat_minor": 4
}
