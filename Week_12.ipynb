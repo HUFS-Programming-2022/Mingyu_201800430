{
 "cells": [
  {
   "cell_type": "markdown",
   "id": "c51ccd28-336b-422c-b148-7079b7ff8e37",
   "metadata": {},
   "source": [
    "# 12주차 | 5.20.2022(금)"
   ]
  },
  {
   "cell_type": "markdown",
   "id": "933df91d-06c0-4eb3-ba27-e1e93236f7c1",
   "metadata": {},
   "source": [
    "### 공지사항\n",
    "- 팀프로젝트 피드백\n",
    "    - abstractclass에서 만들어 놓은 것들은 그것을 상속받는 child가 모두 필수적으로 구현해야 비로소 생성될 수 있다.\n",
    "    - 부모 클래스의 변수를 사용할 때엔 함수 인자에 부모 클래스 변수를 각각 받기보다, 부모 클래스 전체를 한꺼번에 받고 Parent.name과 같이 호출해서 사용하는 것이 좋다.\n",
    "    - 함수/클래스 이름은 최대한 단순하고 간결하게. 함수 독스트링은 변수들이 무엇을 가리키는지까지 짚어주면 베스트."
   ]
  },
  {
   "cell_type": "markdown",
   "id": "ff9141be-41e4-4116-a9ef-35f7fc024061",
   "metadata": {},
   "source": [
    "### 함수(심화)"
   ]
  },
  {
   "cell_type": "markdown",
   "id": "1b198e88-0a88-47db-a44e-b0ef0bf892ef",
   "metadata": {},
   "source": [
    "#### asterisk (stars) *, **"
   ]
  },
  {
   "cell_type": "code",
   "execution_count": 1,
   "id": "61248f57-de02-40ad-9902-17d005f12642",
   "metadata": {},
   "outputs": [
    {
     "name": "stdout",
     "output_type": "stream",
     "text": [
      "여러 개의 변수들이 패킹되어 있는 모습: ('hey', 'hello', 'hi')\n",
      "패킹되어 있는 args를 다시 언패킹함: hey hello hi\n"
     ]
    }
   ],
   "source": [
    "def print_arg(*args): # 1. 패킹\n",
    "    # 인자를 튜플로 묶어서 활용하는 역할.\n",
    "    print(f'여러 개의 변수들이 패킹되어 있는 모습: {args}')\n",
    "    print(f'패킹되어 있는 args를 다시 언패킹함:', *args) # 2. 언패킹 (튜플 -> 인자로), asterisk는 f-string을 비롯해 들어가지 못하는 곳이 꽤 많음\n",
    "    \n",
    "print_arg('hey', 'hello', 'hi')"
   ]
  },
  {
   "cell_type": "code",
   "execution_count": 2,
   "id": "b1960daf-b9c9-42bf-8e2b-657ece9a5bf4",
   "metadata": {},
   "outputs": [
    {
     "name": "stdout",
     "output_type": "stream",
     "text": [
      "unpacked nums: 1 2 3 4\n",
      "obligatory book1\n",
      "1 2 3 4\n",
      "obligatory book2\n",
      "(1, 2, 3, 4)\n",
      "obligatory book3\n",
      "1 2 3 4\n"
     ]
    }
   ],
   "source": [
    "def print_arg2(name, *args): # args 여러개를 packing하여 매개변수로 받는 모습, 이미 args들이 packed돼있다면 Unpack시켜줌.\n",
    "    print('obligatory', name)\n",
    "    print(*args)\n",
    "\n",
    "nums = (1, 2, 3, 4)\n",
    "print('unpacked nums:', *nums)\n",
    "\n",
    "print_arg2('book1', 1, 2, 3, 4)  #1 2 3 4 형태로 들어감 -> (1, 2, 3, 4)형태로 함수 안에서 사용됨\n",
    "print_arg2('book2', nums)        #(1, 2, 3, 4)형태로 들어감\n",
    "print_arg2('book3', *nums)       #원래 (1, 2, 3, 4)가 1 2 3 4 형태로 들어감(unpacking) -> (1, 2, 3, 4)형태로 함수 안에서 사용됨"
   ]
  },
  {
   "cell_type": "code",
   "execution_count": 3,
   "id": "6f2671b0-1abf-4bba-9047-d11dae2cdb50",
   "metadata": {},
   "outputs": [
    {
     "name": "stdout",
     "output_type": "stream",
     "text": [
      "(1, 2, 3, 4, 5)\n",
      "1 2 3 4 5\n"
     ]
    }
   ],
   "source": [
    "def packing(*others):\n",
    "    print(others) # (1,2,3,4,5) -> 튜플 패킹\n",
    "    print(*others)\n",
    "\n",
    "packing(1, 2, 3, 4, 5)"
   ]
  },
  {
   "cell_type": "markdown",
   "id": "d1836a83-457e-4103-8ca8-72be3c1c79bb",
   "metadata": {},
   "source": [
    "#### 외부에서 활용하기\n",
    "- 컬렉션 자료형 언패킹 출력 시 사용 가능\n",
    "- zip()과 같이 많이 씀.\n",
    "- 키워드 전용 인수 선언\n",
    "    - 별 뒤에 오는 매개변수들은 반드시 키워드 인수로 들어오도록 설정하는 역할\n",
    "    - kargs와 혼선을 빚지 않기 위해"
   ]
  },
  {
   "cell_type": "code",
   "execution_count": 4,
   "id": "3847ef5e-a08f-456e-913c-1743c5c23191",
   "metadata": {},
   "outputs": [
    {
     "name": "stdout",
     "output_type": "stream",
     "text": [
      "[0, 1, 2, 3, 4]\n",
      "0 1 2 3 4\n"
     ]
    }
   ],
   "source": [
    "nums = list(range(5))\n",
    "print(nums)\n",
    "print(*nums)"
   ]
  },
  {
   "cell_type": "code",
   "execution_count": 5,
   "id": "65d17144-3910-4f5f-9914-ad4b0865e1f8",
   "metadata": {},
   "outputs": [
    {
     "name": "stdout",
     "output_type": "stream",
     "text": [
      "(1, 3, 5)\n",
      "(2, 4, 6)\n"
     ]
    }
   ],
   "source": [
    "a = [\n",
    "    [1, 2],\n",
    "    [3, 4],\n",
    "    [5, 6]\n",
    "]\n",
    "\n",
    "# 1, 3, 5 / 2, 4, 6 - 행이 아니라 열을 순회하고 싶을 때\n",
    "for row in zip(*a): # a를 언패킹하고 zip()을 사용한다 : *a = [1, 2] [3, 4] [5, 6]\n",
    "    print(row)"
   ]
  },
  {
   "cell_type": "code",
   "execution_count": 6,
   "id": "96a2156d-d259-4421-aa3f-383484a9d414",
   "metadata": {},
   "outputs": [
    {
     "name": "stdout",
     "output_type": "stream",
     "text": [
      "1\n",
      "2\n"
     ]
    }
   ],
   "source": [
    "# 키워드 전용 인수\n",
    "def print_data(data, *, start, end): # start, end => start = 0 방식으로 선언 강제\n",
    "    for value in data[start:end]:\n",
    "        print(value)\n",
    "\n",
    "print_data(nums, start = 1, end = 3)"
   ]
  },
  {
   "cell_type": "markdown",
   "id": "9f2d6037-efda-4f51-8009-3a3b751ecf57",
   "metadata": {},
   "source": [
    "#### 키워드 전용 인수 참고글(https://mino-park7.github.io/effective%20python%20study/2018/09/27/betterway21-minhopark/)"
   ]
  },
  {
   "cell_type": "markdown",
   "id": "470f7d65-906d-4492-85a4-49f8695f275e",
   "metadata": {},
   "source": [
    "#### **"
   ]
  },
  {
   "cell_type": "code",
   "execution_count": 7,
   "id": "8c9b2304-6e62-428f-8f49-32c57822a376",
   "metadata": {},
   "outputs": [
    {
     "name": "stdout",
     "output_type": "stream",
     "text": [
      "{'wine': 'meriot', 'dessert': 'cake'}\n",
      "meriot is semi-sweet\n"
     ]
    }
   ],
   "source": [
    "def print_kargs(**kargs): # 변수를 딕셔너리로 묶는 기능.\n",
    "    print(kargs)\n",
    "    print(kargs['wine'], 'is semi-sweet')\n",
    "    # print(**kargs)는 오류가 뜬다. 언패킹 기능이 없기 때문\n",
    "    # get(key, default)\n",
    "    \n",
    "print_kargs(wine='meriot', dessert='cake')"
   ]
  },
  {
   "cell_type": "code",
   "execution_count": 8,
   "id": "d0f7455a-b9a2-4de8-a076-f9c403cb8e86",
   "metadata": {},
   "outputs": [
    {
     "name": "stdout",
     "output_type": "stream",
     "text": [
      "{'wine': 'meriot', 'dessert': 'scone'}\n",
      "meriot is semi-sweet\n",
      "{'wine': 'cabernet', 'dessert': 'scone'}\n",
      "cabernet is semi-sweet\n",
      "{'wine': 'crianza', 'dessert': 'scone'}\n",
      "crianza is semi-sweet\n"
     ]
    }
   ],
   "source": [
    "wine_list = 'meriot cabernet crianza'.split()\n",
    "for wine in wine_list:\n",
    "    print_kargs(wine=wine, dessert='scone')"
   ]
  },
  {
   "cell_type": "code",
   "execution_count": 19,
   "id": "93e64bce-8dde-44fb-b561-9558339b6edd",
   "metadata": {},
   "outputs": [
    {
     "name": "stdout",
     "output_type": "stream",
     "text": [
      "3 4 5\n",
      "(3, 4, 5)\n",
      "15\n",
      "{'first': 1, 'second': 2}\n"
     ]
    }
   ],
   "source": [
    "def print_both(one, two, *args, **kargs): # 위치인수 > args > kargs\n",
    "    print(*args)\n",
    "    print(args)\n",
    "    print(one + two + sum(args)) # sum(*args) = sum(3 4 5) => sum(iterable, start)로 인식함\n",
    "    print(kargs)\n",
    "    \n",
    "print_both(1,2,3,4,5, first=1, second=2) # one=1, two=2 는 오류."
   ]
  },
  {
   "cell_type": "markdown",
   "id": "87f6f036-81ea-4e80-81c8-5fb70409604d",
   "metadata": {},
   "source": [
    "#### **는 파이썬 3.5 이상이면 딕셔너리 결합할 때 사용할 수 있다."
   ]
  },
  {
   "cell_type": "code",
   "execution_count": 20,
   "id": "1a0525cf-f50a-4d4f-b4ea-1e778aa7c1f7",
   "metadata": {},
   "outputs": [
    {
     "data": {
      "text/plain": [
       "{1: 'a', 2: 'c', 3: 'd'}"
      ]
     },
     "execution_count": 20,
     "metadata": {},
     "output_type": "execute_result"
    }
   ],
   "source": [
    "x = {1: 'a', 2: 'b'}\n",
    "y = {2: 'c', 3: 'd'}\n",
    "z = {**x, **y}\n",
    "z"
   ]
  },
  {
   "cell_type": "markdown",
   "id": "1bc74b05-d75e-41dd-ba45-f811b1a3c5fc",
   "metadata": {},
   "source": [
    "### 일급객체\n",
    "- first class object / first class citizen\n",
    "- 함수도 객체다.\n",
    "- 함수의 인자로 전달 가능\n",
    "- 반환값이 될 수 있다.\n",
    "- 수정, 할당될 수 있다."
   ]
  },
  {
   "cell_type": "code",
   "execution_count": 21,
   "id": "36967840-65e6-46e4-915b-911ef6e36774",
   "metadata": {},
   "outputs": [
    {
     "name": "stdout",
     "output_type": "stream",
     "text": [
      "43\n"
     ]
    }
   ],
   "source": [
    "def answer():\n",
    "    print(43)\n",
    "\n",
    "def run_something(func): # 이런거는 파이썬에서만 가능. 함수가 객체이므로 인자로 받아올 수 있음\n",
    "    func()\n",
    "    \n",
    "run_something(answer)"
   ]
  },
  {
   "cell_type": "code",
   "execution_count": 22,
   "id": "5dc0f5d9-d23e-4b96-81f1-21735863bb2d",
   "metadata": {},
   "outputs": [
    {
     "name": "stdout",
     "output_type": "stream",
     "text": [
      "43\n",
      "43\n"
     ]
    },
    {
     "data": {
      "text/plain": [
       "<function __main__.answer()>"
      ]
     },
     "execution_count": 22,
     "metadata": {},
     "output_type": "execute_result"
    }
   ],
   "source": [
    "def run_anything(func):\n",
    "    return func\n",
    "\n",
    "run_anything(answer()) # 이건 뭐임? -> answer함수가 run_anything()에 들어가기 전 먼저 실행되고 나서 들어가는 것\n",
    "\n",
    "run_anything(answer)() # 괄호 붙이면 함수가 실행됨.\n",
    "run_anything(answer)"
   ]
  },
  {
   "cell_type": "code",
   "execution_count": 23,
   "id": "9fccaa4f-84c0-409c-bcc3-f2cf22b3080a",
   "metadata": {},
   "outputs": [
    {
     "data": {
      "text/plain": [
       "13"
      ]
     },
     "execution_count": 23,
     "metadata": {},
     "output_type": "execute_result"
    }
   ],
   "source": [
    "def sum_args(*args):\n",
    "    return sum(args)\n",
    "\n",
    "def run_with_positional_args(func, *args):\n",
    "    return func(*args)\n",
    "\n",
    "run_with_positional_args(sum_args, 1, 3, 4, 5)\n"
   ]
  },
  {
   "cell_type": "code",
   "execution_count": 24,
   "id": "d5958537-e867-4f2e-af2b-ad42d3264961",
   "metadata": {},
   "outputs": [
    {
     "data": {
      "text/plain": [
       "[1, 3, 5, 9]"
      ]
     },
     "execution_count": 24,
     "metadata": {},
     "output_type": "execute_result"
    }
   ],
   "source": [
    "# 가변 인자일 때 => 초기화하지 않으면 변수 내용이 변할 수 있다\n",
    "def func(num_list):\n",
    "    # 변할 수 있음을 문서화할 것. 혹은 다른 방법을 찾는 것이 더 나음\n",
    "    sum_num = sum(num_list)\n",
    "    num_list.append(sum_num)\n",
    "    \n",
    "a = [1, 3, 5]\n",
    "func(a)\n",
    "a"
   ]
  },
  {
   "cell_type": "code",
   "execution_count": 25,
   "id": "87d75705-c7ad-4d0c-90c1-b33b8f2e188a",
   "metadata": {},
   "outputs": [
    {
     "data": {
      "text/plain": [
       "[1, 3, 5, 9, 18]"
      ]
     },
     "execution_count": 25,
     "metadata": {},
     "output_type": "execute_result"
    }
   ],
   "source": [
    "func(a)\n",
    "a"
   ]
  },
  {
   "cell_type": "code",
   "execution_count": 26,
   "id": "331ca414-125a-421f-bf7f-4c1e90fea5e3",
   "metadata": {},
   "outputs": [],
   "source": [
    "### 내부함수 -> 다음주"
   ]
  },
  {
   "cell_type": "markdown",
   "id": "fbe4d2be-7806-4843-8bf3-0f69ecfa47c8",
   "metadata": {},
   "source": [
    "### 익명함수 (람다)\n",
    "- lambda\n",
    "- 함수인데 이름이 없는.(def, return 같은 예약어 사용 x)\n",
    "- 왜 사용할까? : 단순한 함수를 사용할 때\n",
    "- 단, 잦은 사용은 권장하지 않음. 직관적이지 않고 재활용이 불가능함.\n",
    "- lambda x(변수): <x를 요리할 코드>"
   ]
  },
  {
   "cell_type": "code",
   "execution_count": 27,
   "id": "db343fa1-85ed-45c1-bb9d-c86778fd7b50",
   "metadata": {},
   "outputs": [
    {
     "data": {
      "text/plain": [
       "'ok'"
      ]
     },
     "execution_count": 27,
     "metadata": {},
     "output_type": "execute_result"
    }
   ],
   "source": [
    "# lambda x: x.lower()\n",
    "\n",
    "def f(x):\n",
    "    return x.lower()\n",
    "\n",
    "f2 = lambda x: x.lower()\n",
    "f2('OK')"
   ]
  },
  {
   "cell_type": "code",
   "execution_count": 28,
   "id": "6487c783-ca5e-41fa-bb1c-8fa80a0c47ac",
   "metadata": {},
   "outputs": [
    {
     "data": {
      "text/plain": [
       "'ok'"
      ]
     },
     "execution_count": 28,
     "metadata": {},
     "output_type": "execute_result"
    }
   ],
   "source": [
    "(lambda x: x.lower())('OK')"
   ]
  },
  {
   "cell_type": "code",
   "execution_count": 29,
   "id": "b1a68ddd-18a6-4ea7-beb7-027a31b9b378",
   "metadata": {},
   "outputs": [
    {
     "data": {
      "text/plain": [
       "10"
      ]
     },
     "execution_count": 29,
     "metadata": {},
     "output_type": "execute_result"
    }
   ],
   "source": [
    "f3 = lambda x, y: x + y\n",
    "f3(5, 5)"
   ]
  },
  {
   "cell_type": "code",
   "execution_count": 31,
   "id": "5e52283d-82ab-4f8c-8bc9-1fba44412b09",
   "metadata": {},
   "outputs": [
    {
     "data": {
      "text/plain": [
       "'Abc!'"
      ]
     },
     "execution_count": 31,
     "metadata": {},
     "output_type": "execute_result"
    }
   ],
   "source": [
    "# abc -> Abc!\n",
    "f4 = lambda x: x.capitalize() + '!'\n",
    "f4('abc')"
   ]
  }
 ],
 "metadata": {
  "kernelspec": {
   "display_name": "Python 3 (ipykernel)",
   "language": "python",
   "name": "python3"
  },
  "language_info": {
   "codemirror_mode": {
    "name": "ipython",
    "version": 3
   },
   "file_extension": ".py",
   "mimetype": "text/x-python",
   "name": "python",
   "nbconvert_exporter": "python",
   "pygments_lexer": "ipython3",
   "version": "3.9.7"
  }
 },
 "nbformat": 4,
 "nbformat_minor": 5
}
