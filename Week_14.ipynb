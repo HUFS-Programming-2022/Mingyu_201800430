{
 "cells": [
  {
   "cell_type": "markdown",
   "id": "4a2d34ce-cc66-4e44-aca4-b02aba65777f",
   "metadata": {},
   "source": [
    "# 14주차 | 6.10.2022(금)"
   ]
  },
  {
   "cell_type": "markdown",
   "id": "b40e7a92-b091-4fa4-8dee-1b6903e8ca13",
   "metadata": {},
   "source": [
    "### 공지사항\n",
    "- args나 kargs는 왠만하면 이름 바꾸지 않는다.\n",
    "- pylint에 너무 얽매일 필요 없이 의미 단위로 개행하는게 좋다.\n",
    "- 기말고사 공지사항\n",
    "    - task가 주어지고 모델을 만들어야 함\n",
    "    - Ex. assertion을 써야한다 등등\n",
    "    - 가장 중요한 것: 기능이 구현이 됐는지, 코드가 잘 돌아가는지(코드가 비효율적인 것을 떠나서 일단 돌아가야 함)\n",
    "    - 기말고사에서는 시간 준수하기 바람\n",
    "    - 구구단 다시 보기(loop), 지금까지 배웠던 것, 실습 파일들 중 유용한 것들은 파일 하나를 파서 모듈로 만들어놓으면 좋음.\n",
    "    - 의사코드 x, 독스트링은 한 줄 정도. 검색은 자유롭게. 배우지 않은 라이브러리는 사용 지양.\n",
    "    - eclass 과제제출로 함. 웹엑스 없음. 모듈화 x, 파일 하나로 제출."
   ]
  },
  {
   "cell_type": "markdown",
   "id": "273dcf69-321b-43ad-8406-21e846b76eb8",
   "metadata": {},
   "source": [
    "### 파일과 디렉터리\n",
    "- 파일: 컴퓨터를 실행할 때 가장 기본이 되는 단위\n",
    "- 디렉터리: 폴더, 파일을 논리적으로 묶어놓은 단위\n",
    "    - 직박구리: a, b, c, ...\n",
    "- 파일 = 파일명 + 확장자(.txt, .csv, ...)\n",
    "- 파일은 크게 바이너리와 텍스트 파일로 나뉨\n",
    "    - 바이너리: 2진 정보로 구성된 파일.\n",
    "        - 엑셀, 워드, ...\n",
    "    - 텍스트: 바이너리가 텍스트로 변환이 이미 되어있는 파일\n",
    "        - 메모장, python, html, ...\n",
    "        - 기준: 아스키 코드, 유니코드로 제정(='인코딩')\n",
    "        - UTF-8\n",
    "        - cp494\n",
    "- f = open(파일명, 모드)\n",
    "    - 모드:\n",
    "        - r : read (default)\n",
    "        - w : write (없으면 새로 만들고 있으면 덮어쓴다)\n",
    "        - a : add (기존 파일에 마지막에 추가)\n",
    "        - x : write (없을 때만 쓸 수 있게)\n",
    "        \n",
    "        - b : 바이너리로 써라\n",
    "        - t : 텍스트 파일로 써라 (default)\n",
    "            - rb, rt, ..."
   ]
  },
  {
   "cell_type": "code",
   "execution_count": 28,
   "id": "09360e49-04d3-44f4-a815-e58fb05ce01c",
   "metadata": {},
   "outputs": [],
   "source": [
    "f = open('test.txt', 'r')\n",
    "data = f"
   ]
  },
  {
   "cell_type": "code",
   "execution_count": 29,
   "id": "3c58921e-48eb-4637-91cb-941dfe92a82d",
   "metadata": {},
   "outputs": [
    {
     "data": {
      "text/plain": [
       "\"hello world\\nI'm reading a book.\""
      ]
     },
     "execution_count": 29,
     "metadata": {},
     "output_type": "execute_result"
    }
   ],
   "source": [
    "f.read()"
   ]
  },
  {
   "cell_type": "code",
   "execution_count": 30,
   "id": "3e44021a-da54-48aa-81ef-80402d979e8a",
   "metadata": {},
   "outputs": [
    {
     "data": {
      "text/plain": [
       "''"
      ]
     },
     "execution_count": 30,
     "metadata": {},
     "output_type": "execute_result"
    }
   ],
   "source": [
    "f.read(1) # f.read()는 전체를 다 읽음. 따라서 f.read(1)을 뒤에 실행해주면 더 이상 read할 것이 없기 때문에 안나옴."
   ]
  },
  {
   "cell_type": "code",
   "execution_count": 31,
   "id": "092afbca-612b-46af-b8d4-afaeb1ddf806",
   "metadata": {},
   "outputs": [],
   "source": [
    "f.close() # 자원 해제 -> 메모리 팬딩 문제, 다른 프로그램에서 동시에 호출하면 에러 발생."
   ]
  },
  {
   "cell_type": "markdown",
   "id": "07f113ee-7504-4246-8ca3-a7ebfb270b70",
   "metadata": {},
   "source": [
    "with open(파일명, 모드) as f:\n",
    "    .... open 함수 기능이 유지가 되는 블록\n",
    "    data = f.read()\n",
    "\n",
    "들여쓰기가 끝나면 자동으로 자원 해제됨."
   ]
  },
  {
   "cell_type": "markdown",
   "id": "48094874-fe2d-4058-9eb1-74c1d51a3688",
   "metadata": {},
   "source": [
    "- read(): 전체 str\n",
    "- readline(): 한 줄씩\n",
    "- readlines(): 전체를 한 줄씩 담아서"
   ]
  },
  {
   "cell_type": "code",
   "execution_count": 34,
   "id": "d7bf8aea-7a52-40bc-b30a-19a37fc9ffa3",
   "metadata": {},
   "outputs": [
    {
     "name": "stdout",
     "output_type": "stream",
     "text": [
      "hello world\n",
      "I'm reading a book.\n",
      "\n",
      "['hello world', \"I'm reading a book.\"]\n"
     ]
    }
   ],
   "source": [
    "with open('test.txt', 'r') as f:\n",
    "    #data1 = f.read()\n",
    "    #data2 = f.readline()\n",
    "    data3 = f.readlines()\n",
    "    data3 = [line.strip() for line in data3]\n",
    "    \n",
    "print(data1)\n",
    "print(data2)\n",
    "print(data3)"
   ]
  },
  {
   "cell_type": "code",
   "execution_count": 35,
   "id": "715c6a07-0a0d-4455-b319-3efda028bbc8",
   "metadata": {},
   "outputs": [
    {
     "name": "stdout",
     "output_type": "stream",
     "text": [
      "/Users/kwak/Documents/공부/파이썬 공부/고파썬/mingyuKwak_201800430\n"
     ]
    }
   ],
   "source": [
    "!pwd"
   ]
  },
  {
   "cell_type": "markdown",
   "id": "67c6c08e-2a2e-4b47-a7a8-45efa60d63ff",
   "metadata": {},
   "source": [
    "- . : 현재 위치\n",
    "- .. : 상위 디렉터리"
   ]
  },
  {
   "cell_type": "markdown",
   "id": "6bfed1c0-f93e-42a9-a121-d68ec596aa28",
   "metadata": {},
   "source": [
    "### 쓰기"
   ]
  },
  {
   "cell_type": "code",
   "execution_count": 36,
   "id": "55339121-1ce9-48b6-8e60-b2d1a6fbbc3b",
   "metadata": {},
   "outputs": [],
   "source": [
    "file = 'test3.txt'\n",
    "f = open(file, 'w', encoding='utf-8')"
   ]
  },
  {
   "cell_type": "code",
   "execution_count": 37,
   "id": "6865f9b9-5c59-4118-986d-bb604e6523a1",
   "metadata": {},
   "outputs": [],
   "source": [
    "for i in range(10):\n",
    "    data = f'{i}번째 줄입니다.\\n'\n",
    "    f.write(data)"
   ]
  },
  {
   "cell_type": "code",
   "execution_count": 38,
   "id": "9f1b62ce-7eda-4cd1-9acc-a49342716624",
   "metadata": {},
   "outputs": [],
   "source": [
    "f.close()"
   ]
  },
  {
   "cell_type": "code",
   "execution_count": 42,
   "id": "62067273-625c-4391-9a28-652391fba135",
   "metadata": {},
   "outputs": [],
   "source": [
    "f = open(file, 'a')\n",
    "print('새로운 줄 추가', file=f) # 프린트에서도 간단하게 추가 가능\n",
    "f.close()"
   ]
  },
  {
   "cell_type": "markdown",
   "id": "240a5788-66db-4ad0-a956-0c0cecc921c9",
   "metadata": {},
   "source": [
    "### 다른 디렉토리에 파일 쓰기\n",
    "- os"
   ]
  },
  {
   "cell_type": "code",
   "execution_count": 43,
   "id": "7b4b13e9-cae3-4560-a7f9-cc31c6d5bdc2",
   "metadata": {},
   "outputs": [],
   "source": [
    "import os"
   ]
  },
  {
   "cell_type": "code",
   "execution_count": 46,
   "id": "8ada748e-dac1-48b0-8f45-cc83cbf9d3b3",
   "metadata": {},
   "outputs": [],
   "source": [
    "file = './folder1/test3.txt'\n",
    "f = open(file, 'w', encoding='utf-8')"
   ]
  },
  {
   "cell_type": "code",
   "execution_count": 45,
   "id": "f853517b-d382-468a-9e09-9aeada094ce9",
   "metadata": {},
   "outputs": [],
   "source": [
    "# folder 만들고 파일을 쓰도록 해야 함\n",
    "os.mkdir('folder1')"
   ]
  },
  {
   "cell_type": "code",
   "execution_count": 47,
   "id": "99c93b95-36c4-494f-aac2-4279b23a311e",
   "metadata": {},
   "outputs": [],
   "source": [
    "# 없을 때만 만들게 하고 싶으면\n",
    "if not os.path.isdir('folder1'):\n",
    "    os.mkdir('folder1')"
   ]
  },
  {
   "cell_type": "code",
   "execution_count": 49,
   "id": "debb18d0-7e5d-4962-9b2b-d8693c0450d6",
   "metadata": {},
   "outputs": [
    {
     "data": {
      "text/plain": [
       "True"
      ]
     },
     "execution_count": 49,
     "metadata": {},
     "output_type": "execute_result"
    }
   ],
   "source": [
    "os.path.exists(file) # assert 느낌으로 쓰면 됨"
   ]
  },
  {
   "cell_type": "code",
   "execution_count": 50,
   "id": "7e4ab5af-b54d-4a69-8662-64dc7526d7dc",
   "metadata": {},
   "outputs": [
    {
     "ename": "NameError",
     "evalue": "name 'dir_name' is not defined",
     "output_type": "error",
     "traceback": [
      "\u001b[0;31m---------------------------------------------------------------------------\u001b[0m",
      "\u001b[0;31mNameError\u001b[0m                                 Traceback (most recent call last)",
      "\u001b[0;32m/var/folders/sr/hr9_jmc94fn5w1rpc2bsftf40000gn/T/ipykernel_6297/3525809806.py\u001b[0m in \u001b[0;36m<module>\u001b[0;34m\u001b[0m\n\u001b[1;32m      2\u001b[0m \u001b[0mos\u001b[0m\u001b[0;34m.\u001b[0m\u001b[0mremove\u001b[0m\u001b[0;34m(\u001b[0m\u001b[0mfile\u001b[0m\u001b[0;34m)\u001b[0m\u001b[0;34m\u001b[0m\u001b[0;34m\u001b[0m\u001b[0m\n\u001b[1;32m      3\u001b[0m \u001b[0;31m# 디렉토리를 지우고 싶을 때는\u001b[0m\u001b[0;34m\u001b[0m\u001b[0;34m\u001b[0m\u001b[0m\n\u001b[0;32m----> 4\u001b[0;31m \u001b[0mos\u001b[0m\u001b[0;34m.\u001b[0m\u001b[0mrmdir\u001b[0m\u001b[0;34m(\u001b[0m\u001b[0mdir_name\u001b[0m\u001b[0;34m)\u001b[0m\u001b[0;34m\u001b[0m\u001b[0;34m\u001b[0m\u001b[0m\n\u001b[0m",
      "\u001b[0;31mNameError\u001b[0m: name 'dir_name' is not defined"
     ]
    }
   ],
   "source": [
    "# 파일을 지우고 싶을 때는\n",
    "os.remove(file)\n",
    "# 디렉토리를 지우고 싶을 때는\n",
    "os.rmdir(dir_name)"
   ]
  },
  {
   "cell_type": "code",
   "execution_count": 51,
   "id": "b39f7d4b-e626-4ef0-bf0d-bf838e73a303",
   "metadata": {},
   "outputs": [
    {
     "data": {
      "text/plain": [
       "'감사합니다.감사합니다.감사합니다.'"
      ]
     },
     "execution_count": 51,
     "metadata": {},
     "output_type": "execute_result"
    }
   ],
   "source": [
    "# folder: 새로 만들고\n",
    "# 파일 쓰기: 내용 아무거나\n",
    "# 다시 열어본다\n",
    "if not os.path.isdir('hufs'):\n",
    "    os.mkdir('hufs')\n",
    "\n",
    "file = './hufs/test.txt'\n",
    "with open(file, 'w', encoding='utf-8') as f:\n",
    "    for i in range(3):\n",
    "        sent = '감사합니다.'\n",
    "        f.write(sent)\n",
    "\n",
    "f = open(file, 'r')\n",
    "f.readline()"
   ]
  },
  {
   "cell_type": "code",
   "execution_count": 52,
   "id": "d856a73e-4113-4152-b0c9-0c31f5663fc7",
   "metadata": {},
   "outputs": [],
   "source": [
    "# rmdir는 디렉토리 안에 아무 것도 없을 때만 삭제가 된다.\n",
    "# 강제 삭제하는 방법:\n",
    "import shutil\n",
    "shutil.rmtree('folder1')"
   ]
  },
  {
   "cell_type": "code",
   "execution_count": 53,
   "id": "1d6f9953-82d0-4968-be83-7a0096f2ef23",
   "metadata": {},
   "outputs": [
    {
     "data": {
      "text/plain": [
       "'/Users/kwak/Documents/공부/파이썬 공부/고파썬/mingyuKwak_201800430'"
      ]
     },
     "execution_count": 53,
     "metadata": {},
     "output_type": "execute_result"
    }
   ],
   "source": [
    "# 상위 폴더에 쓰고 싶다.\n",
    "os.getcwd()"
   ]
  },
  {
   "cell_type": "code",
   "execution_count": 54,
   "id": "af1fdd73-2c7b-4a9c-ad36-81c883657a35",
   "metadata": {},
   "outputs": [],
   "source": [
    "# os.chdir('..')"
   ]
  },
  {
   "cell_type": "markdown",
   "id": "b7b0db51-f44a-4624-b3d6-63f33cb112bb",
   "metadata": {},
   "source": [
    "#### pickle 라이브러리\n",
    "- 객체를 저장, 불러들일 수 있다. json 파일과 비슷함\n",
    "- 저장: pickle.dump(변수, 파일명)\n",
    "- 열기: pickle.load(파일)"
   ]
  },
  {
   "cell_type": "code",
   "execution_count": 57,
   "id": "24715686-35c5-4bb7-b899-320cf8151f44",
   "metadata": {},
   "outputs": [],
   "source": [
    "import pickle\n",
    "f = open('test.pickle', 'wb')\n",
    "pickle.dump(num, f)\n",
    "f.close()"
   ]
  },
  {
   "cell_type": "code",
   "execution_count": 56,
   "id": "d38d21ff-12f1-4b0b-adbc-631aa6974b72",
   "metadata": {},
   "outputs": [
    {
     "data": {
      "text/plain": [
       "[0, 1, 2, 3, 4, 5, 6, 7, 8, 9]"
      ]
     },
     "execution_count": 56,
     "metadata": {},
     "output_type": "execute_result"
    }
   ],
   "source": [
    "num = list(range(10))\n",
    "num"
   ]
  },
  {
   "cell_type": "code",
   "execution_count": 58,
   "id": "9177526c-2910-4885-a7b0-994c7e3d9570",
   "metadata": {},
   "outputs": [],
   "source": [
    "with open('test.pickle', 'rb') as f:\n",
    "    number = pickle.load(f)"
   ]
  },
  {
   "cell_type": "code",
   "execution_count": 59,
   "id": "5312d426-b8df-44e4-bd84-5c824fa369dc",
   "metadata": {},
   "outputs": [
    {
     "data": {
      "text/plain": [
       "[0, 1, 2, 3, 4, 5, 6, 7, 8, 9]"
      ]
     },
     "execution_count": 59,
     "metadata": {},
     "output_type": "execute_result"
    }
   ],
   "source": [
    "number"
   ]
  },
  {
   "cell_type": "code",
   "execution_count": null,
   "id": "2898a715-57bf-4535-ba48-12c64f44e40d",
   "metadata": {},
   "outputs": [],
   "source": []
  }
 ],
 "metadata": {
  "kernelspec": {
   "display_name": "Python 3 (ipykernel)",
   "language": "python",
   "name": "python3"
  },
  "language_info": {
   "codemirror_mode": {
    "name": "ipython",
    "version": 3
   },
   "file_extension": ".py",
   "mimetype": "text/x-python",
   "name": "python",
   "nbconvert_exporter": "python",
   "pygments_lexer": "ipython3",
   "version": "3.9.7"
  }
 },
 "nbformat": 4,
 "nbformat_minor": 5
}
