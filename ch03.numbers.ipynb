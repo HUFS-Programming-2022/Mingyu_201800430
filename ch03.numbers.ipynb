{
 "cells": [
  {
   "cell_type": "markdown",
   "id": "d4b62269-d525-40c0-8db6-37559724dfab",
   "metadata": {},
   "source": [
    "## Ch03.Numbers"
   ]
  },
  {
   "cell_type": "markdown",
   "id": "00a349c9-f439-46a4-90d8-5dd9d4043476",
   "metadata": {},
   "source": [
    "### boolean\n",
    "- True/False\n",
    "- False인 값\n",
    "- if문(조건식) 등에서 자주 쓰임: \"어떤 값이 True일 때, ...\""
   ]
  },
  {
   "cell_type": "code",
   "execution_count": 1,
   "id": "9c22e274-bcfd-4633-ae2a-584807871f7b",
   "metadata": {},
   "outputs": [
    {
     "data": {
      "text/plain": [
       "False"
      ]
     },
     "execution_count": 1,
     "metadata": {},
     "output_type": "execute_result"
    }
   ],
   "source": [
    "bool(0)"
   ]
  },
  {
   "cell_type": "code",
   "execution_count": 2,
   "id": "dccdc973-c432-48f2-9618-e77f123e0de1",
   "metadata": {},
   "outputs": [
    {
     "data": {
      "text/plain": [
       "False"
      ]
     },
     "execution_count": 2,
     "metadata": {},
     "output_type": "execute_result"
    }
   ],
   "source": [
    "bool(None)"
   ]
  },
  {
   "cell_type": "markdown",
   "id": "afd7224b-0df4-496c-be7a-a77f29cca52d",
   "metadata": {},
   "source": [
    "### Integer\n",
    "- 분수나 소수가 아닌 정수\n",
    "- 음수는 '-'기호를 붙인다: i.e., -50\n",
    "- default = 양수\n",
    "- 숫자 앞에서는 0을 쓰지 못함. i.e., 09(x)\n",
    "    - 0bxx (10진수가 아닌, 사실상 쓸 일이 거의 없음)\n",
    "- 숫자 사이에 쉼표를 쓰면 오류: 100,000(x) -> 100_000(o)\n",
    "    => 숫자 사이의 언더바는 인식하지 않음"
   ]
  },
  {
   "cell_type": "code",
   "execution_count": 3,
   "id": "0d027610-0531-4aae-82a7-1879c1c226fe",
   "metadata": {},
   "outputs": [
    {
     "ename": "SyntaxError",
     "evalue": "leading zeros in decimal integer literals are not permitted; use an 0o prefix for octal integers (2890110653.py, line 1)",
     "output_type": "error",
     "traceback": [
      "\u001b[0;36m  File \u001b[0;32m\"/var/folders/sr/hr9_jmc94fn5w1rpc2bsftf40000gn/T/ipykernel_8500/2890110653.py\"\u001b[0;36m, line \u001b[0;32m1\u001b[0m\n\u001b[0;31m    a = 09\u001b[0m\n\u001b[0m         ^\u001b[0m\n\u001b[0;31mSyntaxError\u001b[0m\u001b[0;31m:\u001b[0m leading zeros in decimal integer literals are not permitted; use an 0o prefix for octal integers\n"
     ]
    }
   ],
   "source": [
    "a = 09"
   ]
  },
  {
   "cell_type": "code",
   "execution_count": 5,
   "id": "d2c382df-4bc2-4ff7-9da2-537607fce6aa",
   "metadata": {},
   "outputs": [
    {
     "data": {
      "text/plain": [
       "-1"
      ]
     },
     "execution_count": 5,
     "metadata": {},
     "output_type": "execute_result"
    }
   ],
   "source": [
    "a = -50\n",
    "b = 49\n",
    "a + b"
   ]
  },
  {
   "cell_type": "markdown",
   "id": "bfd848a7-da51-4b84-8f2b-c5bd4dcf34c0",
   "metadata": {},
   "source": [
    "### 연산자|operator\n",
    "- +, -, *, /\n",
    "- 피연산자|operand: 1,2,...\n",
    "- 수식|expression"
   ]
  },
  {
   "cell_type": "code",
   "execution_count": 7,
   "id": "dc70a8ae-278f-4347-8485-c71c69569fef",
   "metadata": {},
   "outputs": [
    {
     "name": "stdout",
     "output_type": "stream",
     "text": [
      "13\n",
      "5\n",
      "36\n",
      "2.25\n",
      "6561\n"
     ]
    }
   ],
   "source": [
    "x = 9\n",
    "y = 4\n",
    "\n",
    "# 연산\n",
    "print(x + y)\n",
    "print(x - y)\n",
    "print(x * y)\n",
    "print(x / y)\n",
    "print(x ** y) # 거듭제곱|exponential"
   ]
  },
  {
   "cell_type": "markdown",
   "id": "83a45046-2f7c-45b9-a029-af9fac4fdd0d",
   "metadata": {},
   "source": [
    "나눗셈 = 몫, 나머지"
   ]
  },
  {
   "cell_type": "code",
   "execution_count": 8,
   "id": "cf9280fd-e66b-4c89-aa06-443770019378",
   "metadata": {},
   "outputs": [
    {
     "data": {
      "text/plain": [
       "1"
      ]
     },
     "execution_count": 8,
     "metadata": {},
     "output_type": "execute_result"
    }
   ],
   "source": [
    "x / y # 결과물\n",
    "x // y # 몫\n",
    "x % y # 나머지"
   ]
  },
  {
   "cell_type": "code",
   "execution_count": 10,
   "id": "5b1eeb49-61f4-4d06-8e54-c0f43526e908",
   "metadata": {},
   "outputs": [
    {
     "data": {
      "text/plain": [
       "(2, 1)"
      ]
     },
     "execution_count": 10,
     "metadata": {},
     "output_type": "execute_result"
    }
   ],
   "source": [
    "divmod(x, y) # (몫, 나머지) 튜플 형태로 반환해주는 함수임"
   ]
  },
  {
   "cell_type": "code",
   "execution_count": 11,
   "id": "4b574b33-6fbb-45bf-ac33-2dea2b0e7fe0",
   "metadata": {},
   "outputs": [],
   "source": [
    "# division by zero 항시 유의"
   ]
  },
  {
   "cell_type": "code",
   "execution_count": 12,
   "id": "80cfe0bc-db7d-4a2c-b892-0d395378d07d",
   "metadata": {},
   "outputs": [
    {
     "data": {
      "text/plain": [
       "20"
      ]
     },
     "execution_count": 12,
     "metadata": {},
     "output_type": "execute_result"
    }
   ],
   "source": [
    "1 + 9                 + 10 # 숫자 사이 공백은 무시됨"
   ]
  },
  {
   "cell_type": "markdown",
   "id": "dbcef53e-7033-4af4-9e8a-7e676d2b3565",
   "metadata": {},
   "source": [
    "#### 복합 대입 연산자 | compund assignment operator"
   ]
  },
  {
   "cell_type": "code",
   "execution_count": 18,
   "id": "7f508f25-7005-4b27-9b1b-9478dc98bdbc",
   "metadata": {},
   "outputs": [
    {
     "name": "stdout",
     "output_type": "stream",
     "text": [
      "5\n"
     ]
    }
   ],
   "source": [
    "x = 5\n",
    "x - 3\n",
    "print(x) # x - 3을 대입하지 않으면 반영 안됨"
   ]
  },
  {
   "cell_type": "code",
   "execution_count": 19,
   "id": "d60e75f1-5da7-4dee-bcee-6b6051ad6e91",
   "metadata": {},
   "outputs": [
    {
     "name": "stdout",
     "output_type": "stream",
     "text": [
      "2\n"
     ]
    }
   ],
   "source": [
    "x = x - 3\n",
    "print(x)\n",
    "\n",
    "#1. x - 3 계산\n",
    "#2. temp = x - 3 (임시변수에 담는다)\n",
    "#3. x = temp"
   ]
  },
  {
   "cell_type": "code",
   "execution_count": 20,
   "id": "91e85730-9d29-4387-afd8-3bfe1200ac18",
   "metadata": {},
   "outputs": [
    {
     "name": "stdout",
     "output_type": "stream",
     "text": [
      "-1\n"
     ]
    }
   ],
   "source": [
    "x -= 3\n",
    "print(x) # 2 - 3"
   ]
  },
  {
   "cell_type": "code",
   "execution_count": 21,
   "id": "496d3813-030b-4b40-9192-8fc71c8e4432",
   "metadata": {},
   "outputs": [],
   "source": [
    "x += 3\n",
    "x -= 3\n",
    "x *= 3\n",
    "x /= 3"
   ]
  },
  {
   "cell_type": "markdown",
   "id": "dc7ba568-9439-46f3-ad33-cede01aa4cbf",
   "metadata": {},
   "source": [
    "#### Quiz 1.\n",
    "- 반지름을 입력 받아서 원의 면적을 구하기\n",
    "- 면적 = pi * r제곱\n",
    "\n",
    "#### Quiz 2.\n",
    "- 숫자를 입력 받고 3의 배수인지 확인하기\n",
    "- 숫자를 입력 받고 홀수인지 확인하기"
   ]
  },
  {
   "cell_type": "code",
   "execution_count": 23,
   "id": "9184961d-a71c-4b40-b310-b49371429d31",
   "metadata": {},
   "outputs": [
    {
     "name": "stdin",
     "output_type": "stream",
     "text": [
      "반지름의 길이를 입력하시오: 5\n"
     ]
    },
    {
     "name": "stdout",
     "output_type": "stream",
     "text": [
      "반지름이 5인 원의 넓이는 78.53981633974483입니다.\n"
     ]
    }
   ],
   "source": [
    "### Quiz 1.\n",
    "import math\n",
    "\n",
    "radius = int(input('반지름의 길이를 입력하시오:'))\n",
    "circle_area = math.pow(radius, 2) * math.pi\n",
    "print(f\"반지름이 {radius}인 원의 넓이는 {circle_area}입니다.\")"
   ]
  },
  {
   "cell_type": "code",
   "execution_count": 26,
   "id": "3f50d41b-4f51-4fe9-842f-37f6bd0d01f2",
   "metadata": {},
   "outputs": [
    {
     "name": "stdin",
     "output_type": "stream",
     "text": [
      "숫자를 입력하세요: 9\n"
     ]
    },
    {
     "name": "stdout",
     "output_type": "stream",
     "text": [
      "9은 3의 배수입니다.\n",
      "9은 홀수입니다.\n"
     ]
    }
   ],
   "source": [
    "### Quiz 2.\n",
    "user_input = int(input('숫자를 입력하세요:'))\n",
    "\n",
    "if user_input % 3 == 0:\n",
    "    print(f\"{user_input}은 3의 배수입니다.\")\n",
    "else:\n",
    "    print(f\"{user_input}은 3의 배수가 아닙니다.\")\n",
    "\n",
    "\n",
    "if user_input % 2 == 0:\n",
    "    print(f\"{user_input}은 홀수가 아닙니다.\")\n",
    "else:\n",
    "    print(f\"{user_input}은 홀수입니다.\")"
   ]
  },
  {
   "cell_type": "code",
   "execution_count": 37,
   "id": "1bf40586-4f65-433d-b10f-d14d5ea10f9c",
   "metadata": {},
   "outputs": [
    {
     "ename": "NameError",
     "evalue": "name 'seconds_per_day' is not defined",
     "output_type": "error",
     "traceback": [
      "\u001b[0;31m---------------------------------------------------------------------------\u001b[0m",
      "\u001b[0;31mNameError\u001b[0m                                 Traceback (most recent call last)",
      "\u001b[0;32m/var/folders/sr/hr9_jmc94fn5w1rpc2bsftf40000gn/T/ipykernel_8500/2546506916.py\u001b[0m in \u001b[0;36m<module>\u001b[0;34m\u001b[0m\n\u001b[1;32m      1\u001b[0m \u001b[0;31m### Quiz 3\u001b[0m\u001b[0;34m\u001b[0m\u001b[0;34m\u001b[0m\u001b[0m\n\u001b[1;32m      2\u001b[0m \u001b[0mseconds_per_hour\u001b[0m \u001b[0;34m=\u001b[0m \u001b[0;36m1\u001b[0m \u001b[0;34m*\u001b[0m \u001b[0;36m60\u001b[0m\u001b[0;34m\u001b[0m\u001b[0;34m\u001b[0m\u001b[0m\n\u001b[0;32m----> 3\u001b[0;31m \u001b[0mseconds_per_day\u001b[0m \u001b[0;34m=\u001b[0m \u001b[0mseconds_per_day\u001b[0m \u001b[0;34m*\u001b[0m \u001b[0;36m24\u001b[0m\u001b[0;34m\u001b[0m\u001b[0;34m\u001b[0m\u001b[0m\n\u001b[0m",
      "\u001b[0;31mNameError\u001b[0m: name 'seconds_per_day' is not defined"
     ]
    }
   ],
   "source": [
    "### Quiz 3\n",
    "seconds_per_hour = 1 * 60\n",
    "seconds_per_day = seconds_per_day * 24\n"
   ]
  },
  {
   "cell_type": "markdown",
   "id": "8269ca9b-87fb-4643-8bf7-75c678814fd2",
   "metadata": {},
   "source": [
    "### 지수 표현\n",
    "- 예: '1.0e-4'\n",
    "- e의 앞부분은 소수, 정수 둘다 됨\n",
    "- 뒷부분은 정수여야 함\n",
    "- 뒷부분이 음수면 소숫점 자릿수를 의미함\n",
    "- e, E (소문자 대문자 둘 다 상관 없음)"
   ]
  },
  {
   "cell_type": "code",
   "execution_count": 29,
   "id": "5eea44e1-c0dd-45ab-9519-7deb5254baf3",
   "metadata": {},
   "outputs": [
    {
     "name": "stdout",
     "output_type": "stream",
     "text": [
      "0.0001\n",
      "10000.0\n"
     ]
    }
   ],
   "source": [
    "print(1.0e-4)\n",
    "print(1.0e4)"
   ]
  },
  {
   "cell_type": "code",
   "execution_count": 36,
   "id": "27530c37-7a8f-420c-98a9-b6d6e4836422",
   "metadata": {},
   "outputs": [
    {
     "data": {
      "text/plain": [
       "0.0004005"
      ]
     },
     "execution_count": 36,
     "metadata": {},
     "output_type": "execute_result"
    }
   ],
   "source": [
    "# 0.0004005 => 지수로 표현하기\n",
    "4005.e-7"
   ]
  },
  {
   "cell_type": "code",
   "execution_count": null,
   "id": "57350aea-8e23-4252-a00c-9eb3419dab7a",
   "metadata": {},
   "outputs": [],
   "source": []
  }
 ],
 "metadata": {
  "kernelspec": {
   "display_name": "Python 3 (ipykernel)",
   "language": "python",
   "name": "python3"
  },
  "language_info": {
   "codemirror_mode": {
    "name": "ipython",
    "version": 3
   },
   "file_extension": ".py",
   "mimetype": "text/x-python",
   "name": "python",
   "nbconvert_exporter": "python",
   "pygments_lexer": "ipython3",
   "version": "3.9.7"
  }
 },
 "nbformat": 4,
 "nbformat_minor": 5
}
