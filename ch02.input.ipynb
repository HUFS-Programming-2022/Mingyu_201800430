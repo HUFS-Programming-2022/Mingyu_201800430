{
 "cells": [
  {
   "cell_type": "markdown",
   "id": "f767974a-e5c8-4b8c-88d8-c757ae82beea",
   "metadata": {},
   "source": [
    "## input()\n",
    "- console에서 사용자에게 값을 입력 받는 함수\n",
    "- 입출력 관련된 함수임\n",
    "- 입력 받는 값의 타입은 문자열임(str)\n",
    "- 입력 받은 값을 변수에 담아서 사용한다."
   ]
  },
  {
   "cell_type": "code",
   "execution_count": 1,
   "id": "a4ab9491-e985-4529-9199-7586ff7fc113",
   "metadata": {},
   "outputs": [
    {
     "name": "stdin",
     "output_type": "stream",
     "text": [
      "What's your name? Kwak\n"
     ]
    },
    {
     "data": {
      "text/plain": [
       "'Kwak'"
      ]
     },
     "execution_count": 1,
     "metadata": {},
     "output_type": "execute_result"
    }
   ],
   "source": [
    "input(\"What's your name?\")"
   ]
  },
  {
   "cell_type": "code",
   "execution_count": 2,
   "id": "83a74091-4f21-46fa-8dc7-f57ea41cefda",
   "metadata": {},
   "outputs": [
    {
     "name": "stdin",
     "output_type": "stream",
     "text": [
      "What's your name? Lee\n"
     ]
    }
   ],
   "source": [
    "#1.\n",
    "name = input(\"What's your name?\")"
   ]
  },
  {
   "cell_type": "code",
   "execution_count": 3,
   "id": "4c90e6b0-0ff3-4f28-84a0-1a2f71119e07",
   "metadata": {},
   "outputs": [
    {
     "data": {
      "text/plain": [
       "'Lee'"
      ]
     },
     "execution_count": 3,
     "metadata": {},
     "output_type": "execute_result"
    }
   ],
   "source": [
    "name"
   ]
  },
  {
   "cell_type": "code",
   "execution_count": 6,
   "id": "c1fd8799-8cb7-4d21-8592-1c9ca31eeb56",
   "metadata": {},
   "outputs": [
    {
     "name": "stdout",
     "output_type": "stream",
     "text": [
      "What's your name?\n"
     ]
    },
    {
     "name": "stdin",
     "output_type": "stream",
     "text": [
      " Wang\n"
     ]
    }
   ],
   "source": [
    "#2.\n",
    "print(\"What's your name?\")\n",
    "name = input()"
   ]
  },
  {
   "cell_type": "code",
   "execution_count": 7,
   "id": "4d3f1b3b-857b-42e6-a900-353b7b00a1f0",
   "metadata": {},
   "outputs": [
    {
     "name": "stdout",
     "output_type": "stream",
     "text": [
      "Wang\n"
     ]
    }
   ],
   "source": [
    "print(name)"
   ]
  },
  {
   "cell_type": "markdown",
   "id": "f361cf5a-6f7c-417b-8730-944fa0668ae0",
   "metadata": {},
   "source": [
    "input을 str이 아닌 다른 타입으로 사용하고 싶을 때에는 형 변환을 미리 해준다."
   ]
  },
  {
   "cell_type": "code",
   "execution_count": 9,
   "id": "4a63bc46-bbae-4ee0-a213-13addce0abd1",
   "metadata": {},
   "outputs": [
    {
     "name": "stdin",
     "output_type": "stream",
     "text": [
      "How old are you? 24\n"
     ]
    }
   ],
   "source": [
    "age = input(\"How old are you?\")"
   ]
  },
  {
   "cell_type": "code",
   "execution_count": 10,
   "id": "ff44b805-aeca-43ce-b6a4-e2f433f3788c",
   "metadata": {},
   "outputs": [
    {
     "data": {
      "text/plain": [
       "str"
      ]
     },
     "execution_count": 10,
     "metadata": {},
     "output_type": "execute_result"
    }
   ],
   "source": [
    "type(age)"
   ]
  },
  {
   "cell_type": "code",
   "execution_count": 11,
   "id": "d57be166-721d-49d1-9600-242769c9fb52",
   "metadata": {},
   "outputs": [
    {
     "name": "stdin",
     "output_type": "stream",
     "text": [
      "How old are you? 20\n"
     ]
    }
   ],
   "source": [
    "age = int(input(\"How old are you?\"))"
   ]
  },
  {
   "cell_type": "code",
   "execution_count": 16,
   "id": "fd811940-d98d-4a50-98c3-075e51b05ade",
   "metadata": {},
   "outputs": [
    {
     "name": "stdout",
     "output_type": "stream",
     "text": [
      "당신이 태어난 해는 2003 입니다.\n"
     ]
    }
   ],
   "source": [
    "print('당신이 태어난 해는', 2022 - age + 1, '입니다.') #연산 가능해짐"
   ]
  },
  {
   "cell_type": "markdown",
   "id": "9e6db273-9392-467a-93fe-39866f67998c",
   "metadata": {},
   "source": [
    "#### printing 꿀팁"
   ]
  },
  {
   "cell_type": "code",
   "execution_count": 15,
   "id": "fdac6436-9cc1-435d-97ac-5395316df656",
   "metadata": {},
   "outputs": [
    {
     "name": "stdout",
     "output_type": "stream",
     "text": [
      "당신이 태어난 해는 2003년입니다.\n"
     ]
    }
   ],
   "source": [
    "print(f\"당신이 태어난 해는 {2022 - age + 1}년입니다.\") # print(f'{<variable>}')"
   ]
  },
  {
   "cell_type": "markdown",
   "id": "e6712b49-5db3-4a34-9d4a-77c5974c4423",
   "metadata": {},
   "source": [
    "### Quiz 1\n",
    "- 택배 정보를 입력 받고 무게에 따른 값 산정하기\n",
    "    - 수취인 성명:\n",
    "    - 수취인 주소:\n",
    "    - 배송비: 3000원\n",
    "    - 물건 비용: <계산된 값>원 \n",
    "    - 총 합계: <계산된 값>원\n",
    "- 물건 비용은 무게(g) * 5\n",
    "- 입력 값 = 이름, 주소, 무게"
   ]
  },
  {
   "cell_type": "code",
   "execution_count": 22,
   "id": "dec6e062-d6fc-4e69-be7d-bd1fa4d092b0",
   "metadata": {},
   "outputs": [
    {
     "name": "stdin",
     "output_type": "stream",
     "text": [
      "수취인의 성명을 기입하세요: 곽민규\n",
      "수취인의 주소를 기입하세요: 마포구\n",
      "택배의 무게를 기입하세요(단위:g): 1000\n"
     ]
    },
    {
     "name": "stdout",
     "output_type": "stream",
     "text": [
      "배송비: 3000원, 물건 비용: 5000원, 총 합계: 8000원\n"
     ]
    }
   ],
   "source": [
    "delivery_recipient = input(\"수취인의 성명을 기입하세요:\")\n",
    "delivery_address = input(\"수취인의 주소를 기입하세요:\")\n",
    "delivery_weight = int(input(\"택배의 무게를 기입하세요(단위:g):\"))\n",
    "\n",
    "delivery_fee = 3000\n",
    "delivery_item = delivery_weight * 5\n",
    "delivery_totalcost = delivery_item + delivery_fee\n",
    "print(f\"배송비: {delivery_fee}원, 물건 비용: {delivery_item}원, 총 합계: {delivery_totalcost}원\")"
   ]
  },
  {
   "cell_type": "markdown",
   "id": "d61e0ed5-2bc7-44e8-ab0c-3ec9e71cb70f",
   "metadata": {},
   "source": []
  }
 ],
 "metadata": {
  "kernelspec": {
   "display_name": "Python 3 (ipykernel)",
   "language": "python",
   "name": "python3"
  },
  "language_info": {
   "codemirror_mode": {
    "name": "ipython",
    "version": 3
   },
   "file_extension": ".py",
   "mimetype": "text/x-python",
   "name": "python",
   "nbconvert_exporter": "python",
   "pygments_lexer": "ipython3",
   "version": "3.9.7"
  }
 },
 "nbformat": 4,
 "nbformat_minor": 5
}
